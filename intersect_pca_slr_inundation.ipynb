{
 "cells": [
  {
   "cell_type": "code",
   "execution_count": 1,
   "metadata": {},
   "outputs": [],
   "source": [
    "import pandas as pd\n",
    "import os\n",
    "from osgeo import ogr\n",
    "import shapely\n",
    "import geopandas as gpd\n",
    "from natcap.invest.recreation.recmodel_client import _polygon_area"
   ]
  },
  {
   "cell_type": "code",
   "execution_count": 2,
   "metadata": {},
   "outputs": [],
   "source": [
    "def shapely_intersect(aoi_path, intersector_path):\n",
    "\n",
    "    response_vector_path = (aoi_path)\n",
    "    response_vector = ogr.Open(response_vector_path)\n",
    "    response_layer = response_vector.GetLayer()\n",
    "    response_polygons_lookup = {}  # maps FID to prepared geometry\n",
    "    for response_feature in response_layer:\n",
    "        feature_geometry = response_feature.GetGeometryRef()\n",
    "        feature_polygon = shapely.wkt.loads(feature_geometry.ExportToWkt())\n",
    "        feature_geometry = None\n",
    "        response_polygons_lookup[response_feature.GetFID()] = feature_polygon\n",
    "    response_layer = None\n",
    "\n",
    "    aoi_intersecting_areas = _polygon_area('area', response_polygons_lookup, intersector_path)\n",
    "    return(aoi_intersecting_areas)"
   ]
  },
  {
   "cell_type": "code",
   "execution_count": 4,
   "metadata": {},
   "outputs": [
    {
     "name": "stderr",
     "output_type": "stream",
     "text": [
      "10/03/2017 16:47:49  shapely.geos         INFO     Ring Self-intersection at or near point 545524.50016629195 4221934.62397137\n",
      "10/03/2017 16:47:49  shapely.geos         INFO     Ring Self-intersection at or near point 579333.70931911503 4210838.9724654602\n",
      "10/03/2017 16:47:49  shapely.geos         INFO     Ring Self-intersection at or near point 561130.50891981402 4185182.2434437098\n",
      "10/03/2017 16:47:49  shapely.geos         INFO     Ring Self-intersection at or near point 570783.64324405196 4178793.5145994201\n",
      "10/03/2017 16:47:49  shapely.geos         INFO     Ring Self-intersection at or near point 575931.55455909495 4166491.2620361499\n",
      "10/03/2017 16:47:49  shapely.geos         INFO     Ring Self-intersection at or near point 576569.63612843503 4165758.1605388899\n",
      "10/03/2017 16:47:49  shapely.geos         INFO     Ring Self-intersection at or near point 582170.27333962405 4163180.4517393801\n",
      "10/03/2017 16:47:49  shapely.geos         INFO     Ring Self-intersection at or near point 577564.33563113504 4142969.2253036499\n",
      "10/03/2017 16:47:49  shapely.geos         INFO     Ring Self-intersection at or near point 595933.50139987399 4144633.31951831\n",
      "10/03/2017 16:48:07  shapely.geos         INFO     Ring Self-intersection at or near point 460064.72339293198 4285216.17330469\n",
      "10/03/2017 16:50:17  natcap.invest.recmodel_client INFO     CA_MTR23_slr_6ft.shp polygon area: 0.00% complete\n",
      "10/03/2017 16:50:26  natcap.invest.recmodel_client INFO     CA_MTR23_slr_6ft.shp polygon area: 1.22% complete\n",
      "10/03/2017 16:50:33  natcap.invest.recmodel_client INFO     CA_MTR23_slr_6ft.shp polygon area: 3.05% complete\n",
      "10/03/2017 16:50:38  natcap.invest.recmodel_client INFO     CA_MTR23_slr_6ft.shp polygon area: 4.27% complete\n",
      "10/03/2017 16:51:16  natcap.invest.recmodel_client INFO     CA_MTR23_slr_6ft.shp polygon area: 7.93% complete\n",
      "10/03/2017 16:51:22  natcap.invest.recmodel_client INFO     CA_MTR23_slr_6ft.shp polygon area: 8.54% complete\n",
      "10/03/2017 16:51:27  natcap.invest.recmodel_client INFO     CA_MTR23_slr_6ft.shp polygon area: 13.41% complete\n",
      "10/03/2017 16:51:36  natcap.invest.recmodel_client INFO     CA_MTR23_slr_6ft.shp polygon area: 20.73% complete\n",
      "10/03/2017 16:51:42  natcap.invest.recmodel_client INFO     CA_MTR23_slr_6ft.shp polygon area: 25.00% complete\n",
      "10/03/2017 16:52:22  natcap.invest.recmodel_client INFO     CA_MTR23_slr_6ft.shp polygon area: 26.83% complete\n",
      "10/03/2017 16:52:31  natcap.invest.recmodel_client INFO     CA_MTR23_slr_6ft.shp polygon area: 31.10% complete\n",
      "10/03/2017 16:52:36  natcap.invest.recmodel_client INFO     CA_MTR23_slr_6ft.shp polygon area: 32.93% complete\n",
      "10/03/2017 16:52:43  natcap.invest.recmodel_client INFO     CA_MTR23_slr_6ft.shp polygon area: 37.80% complete\n",
      "10/03/2017 16:52:50  natcap.invest.recmodel_client INFO     CA_MTR23_slr_6ft.shp polygon area: 43.29% complete\n",
      "10/03/2017 16:52:55  natcap.invest.recmodel_client INFO     CA_MTR23_slr_6ft.shp polygon area: 44.51% complete\n",
      "10/03/2017 16:53:02  natcap.invest.recmodel_client INFO     CA_MTR23_slr_6ft.shp polygon area: 50.61% complete\n",
      "10/03/2017 16:53:29  natcap.invest.recmodel_client INFO     CA_MTR23_slr_6ft.shp polygon area: 53.05% complete\n",
      "10/03/2017 16:53:35  natcap.invest.recmodel_client INFO     CA_MTR23_slr_6ft.shp polygon area: 54.88% complete\n",
      "10/03/2017 16:55:04  natcap.invest.recmodel_client INFO     CA_MTR23_slr_6ft.shp polygon area: 55.49% complete\n",
      "10/03/2017 16:55:09  natcap.invest.recmodel_client INFO     CA_MTR23_slr_6ft.shp polygon area: 61.59% complete\n",
      "10/03/2017 16:55:15  natcap.invest.recmodel_client INFO     CA_MTR23_slr_6ft.shp polygon area: 68.29% complete\n",
      "10/03/2017 16:55:27  natcap.invest.recmodel_client INFO     CA_MTR23_slr_6ft.shp polygon area: 73.78% complete\n",
      "10/03/2017 16:55:32  natcap.invest.recmodel_client INFO     CA_MTR23_slr_6ft.shp polygon area: 77.44% complete\n",
      "10/03/2017 16:55:40  natcap.invest.recmodel_client INFO     CA_MTR23_slr_6ft.shp polygon area: 81.10% complete\n",
      "10/03/2017 16:55:46  natcap.invest.recmodel_client INFO     CA_MTR23_slr_6ft.shp polygon area: 87.20% complete\n",
      "10/03/2017 16:55:54  natcap.invest.recmodel_client INFO     CA_MTR23_slr_6ft.shp polygon area: 93.90% complete\n",
      "10/03/2017 16:56:01  natcap.invest.recmodel_client INFO     CA_MTR23_slr_6ft.shp polygon area: 95.73% complete\n",
      "10/03/2017 16:56:20  natcap.invest.recmodel_client INFO     CA_MTR23_slr_6ft.shp polygon area: 97.56% complete\n",
      "10/03/2017 16:56:23  natcap.invest.recmodel_client INFO     CA_MTR23_slr_6ft.shp polygon area: 100.00% complete\n"
     ]
    }
   ],
   "source": [
    "result = shapely_intersect('../twitter/shp/Priority_Conservation_Areas_current_dissolve_pid.shp', '../slr/CA_MTR23_slr_6ft.shp')"
   ]
  },
  {
   "cell_type": "code",
   "execution_count": 5,
   "metadata": {},
   "outputs": [],
   "source": [
    "df = pd.DataFrame(result.items(), columns=['fid', 'area_m2'])"
   ]
  },
  {
   "cell_type": "code",
   "execution_count": 6,
   "metadata": {},
   "outputs": [],
   "source": [
    "df.to_csv('../pca/pca_area_inundated_slr6ft.csv', index=False)"
   ]
  },
  {
   "cell_type": "code",
   "execution_count": null,
   "metadata": {},
   "outputs": [],
   "source": []
  }
 ],
 "metadata": {
  "kernelspec": {
   "display_name": "Python [conda env:geowork2]",
   "language": "python",
   "name": "conda-env-geowork2-py"
  },
  "language_info": {
   "codemirror_mode": {
    "name": "ipython",
    "version": 2
   },
   "file_extension": ".py",
   "mimetype": "text/x-python",
   "name": "python",
   "nbconvert_exporter": "python",
   "pygments_lexer": "ipython2",
   "version": "2.7.13"
  }
 },
 "nbformat": 4,
 "nbformat_minor": 2
}
