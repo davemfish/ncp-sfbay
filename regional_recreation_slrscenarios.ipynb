{
 "cells": [
  {
   "cell_type": "markdown",
   "metadata": {
    "slideshow": {
     "slide_type": "slide"
    }
   },
   "source": [
    "## Measuring regional outdoor recreation in the Bay Area using social media, in 3 different categories of land:  \n",
    "1. Priority Conservation Areas (PCAs),\n",
    "2. Protected Areas (Bay Area Protected Areas Database - BPAD) \n",
    "3. Natural landcover types (NLCD)\n",
    "\n",
    "### And summarizing how much of the recreation in each category is exposed to sea-level rise, based on 10 different SLR scenarios."
   ]
  },
  {
   "cell_type": "markdown",
   "metadata": {
    "slideshow": {
     "slide_type": "skip"
    }
   },
   "source": [
    "This workflow depends on results from:\n",
    "    * slr_rasters_align.py\n",
    "    * userdays_rasteraoi.r\n",
    "    * ud_rasterize.py"
   ]
  },
  {
   "cell_type": "code",
   "execution_count": 1,
   "metadata": {
    "slideshow": {
     "slide_type": "skip"
    }
   },
   "outputs": [],
   "source": [
    "import numpy as np\n",
    "from osgeo import gdal\n",
    "gdal.UseExceptions()\n",
    "import pygeoprocessing.geoprocessing as pgp\n",
    "import os\n",
    "import glob\n",
    "import pandas as pd\n",
    "import datetime\n",
    "\n",
    "datestamp = datetime.datetime.now().strftime(\"%Y-%m-%d\")"
   ]
  },
  {
   "cell_type": "code",
   "execution_count": 2,
   "metadata": {
    "slideshow": {
     "slide_type": "skip"
    }
   },
   "outputs": [],
   "source": [
    "workspace = '../data/bcdc_slr_regional_rec'"
   ]
  },
  {
   "cell_type": "code",
   "execution_count": 3,
   "metadata": {
    "slideshow": {
     "slide_type": "skip"
    }
   },
   "outputs": [],
   "source": [
    "def raster2array(raster_uri):\n",
    "    '''\n",
    "    helper function to go straight from raster filename to 2-d numpy array\n",
    "    '''\n",
    "    src = gdal.Open(raster_uri)\n",
    "    band1 = src.GetRasterBand(1)\n",
    "    rows = src.RasterYSize\n",
    "    cols = src.RasterXSize\n",
    "    arr = band1.ReadAsArray(0, 0, cols, rows)\n",
    "    return(arr)"
   ]
  },
  {
   "cell_type": "code",
   "execution_count": 4,
   "metadata": {
    "slideshow": {
     "slide_type": "skip"
    }
   },
   "outputs": [],
   "source": [
    "def burn_aoi2grid(aoi_uri, out_grid_uri, base_grid_uri):\n",
    "    '''\n",
    "    helper function to rasterize shapefiles onto a standard grid\n",
    "    '''\n",
    "    pgp.new_raster_from_base(base_grid_uri, out_grid_uri, gdal.GDT_Int16, [99], [0])\n",
    "    pgp.rasterize(aoi_uri, out_grid_uri, [1], None)\n",
    "    return 0"
   ]
  },
  {
   "cell_type": "markdown",
   "metadata": {
    "slideshow": {
     "slide_type": "slide"
    }
   },
   "source": [
    "### All datasources will be rasterized and aligned to the 30m NLCD grid"
   ]
  },
  {
   "cell_type": "code",
   "execution_count": 5,
   "metadata": {
    "slideshow": {
     "slide_type": "fragment"
    }
   },
   "outputs": [
    {
     "name": "stdout",
     "output_type": "stream",
     "text": [
      "0.000908277366174\n"
     ]
    }
   ],
   "source": [
    "nlcd_uri = '../data/bcdc_othernaturalareas/NaturalAreas_ForDave/nlcd_nodevt_utm.tif'\n",
    "nlcd_src = gdal.Open(nlcd_uri)\n",
    "gt = nlcd_src.GetGeoTransform()\n",
    "cell_area_km2 = gt[1]*gt[5]*(-1.0)*1e-6\n",
    "print(cell_area_km2)"
   ]
  },
  {
   "cell_type": "code",
   "execution_count": 6,
   "metadata": {
    "slideshow": {
     "slide_type": "fragment"
    }
   },
   "outputs": [],
   "source": [
    "# PUD raster created by pud_rasterize.py\n",
    "pud_uri = '../data/flickr/nlcd_grid_pud/pud_nlcdgrid.tif'\n",
    "pud = raster2array(pud_uri)"
   ]
  },
  {
   "cell_type": "code",
   "execution_count": 7,
   "metadata": {
    "slideshow": {
     "slide_type": "fragment"
    }
   },
   "outputs": [],
   "source": [
    "# TUD raster created by ud_rasterize.py\n",
    "tud_uri = '../data/twitter/nlcd_grid_tud/tud_nlcdgrid.tif'\n",
    "tud = raster2array(tud_uri)"
   ]
  },
  {
   "cell_type": "code",
   "execution_count": 8,
   "metadata": {
    "slideshow": {
     "slide_type": "skip"
    }
   },
   "outputs": [],
   "source": [
    "# pgp.new_raster_from_base(nlcd_uri, base_uri, gdal.GDT_Int16, [99], [0])"
   ]
  },
  {
   "cell_type": "markdown",
   "metadata": {
    "slideshow": {
     "slide_type": "slide"
    }
   },
   "source": [
    "#### Load AOIs and FEMA flood shapefiles, burn them onto a grid based on the NLCD raster\n",
    "input datasets must already be NAD_1983_UTM_Zone_10N  \n",
    "only need to repeat these if an AOI changes"
   ]
  },
  {
   "cell_type": "code",
   "execution_count": 9,
   "metadata": {
    "slideshow": {
     "slide_type": "fragment"
    }
   },
   "outputs": [],
   "source": [
    "# BPAD \n",
    "bpad_uri = os.path.join(workspace, 'bpad.tif')\n",
    "# shp_uri = '../data/bcdc_othernaturalareas/NaturalAreas_ForDave/BayAreaProtectedLands_utm.shp'\n",
    "# burn_aoi2grid(shp_uri, bpad_uri, nlcd_uri)"
   ]
  },
  {
   "cell_type": "code",
   "execution_count": 10,
   "metadata": {
    "slideshow": {
     "slide_type": "fragment"
    }
   },
   "outputs": [],
   "source": [
    "pca_uri = os.path.join(workspace, 'pca.tif')\n",
    "# shp_uri = '../data/pca/shapefiles/Priority_Conservation_Areas_current.shp'\n",
    "# burn_aoi2grid(shp_uri, pca_uri, nlcd_uri)"
   ]
  },
  {
   "cell_type": "code",
   "execution_count": 11,
   "metadata": {
    "slideshow": {
     "slide_type": "fragment"
    }
   },
   "outputs": [],
   "source": [
    "fema100_uri = os.path.join(workspace, 'fema100.tif')\n",
    "shp_uri = '../data/pca/bcdc_slr/fema/FEMA_100yrFlood_Region_201709.shp'\n",
    "\n",
    "## for weird reason this doesn't work on these fema shps..raises runtime 'user termintated' error\n",
    "# burn_aoi2grid(shp_uri, fema100_uri, nlcd_uri)\n",
    "\n",
    "## also couldn't get this working to yield anything but zeros\n",
    "# driver = gdal.GetDriverByName('GTiff')\n",
    "# new_ds = driver.Create(fema100_uri,\n",
    "#     nlcd_src.RasterXSize, # x size\n",
    "#     nlcd_src.RasterYSize, # y size\n",
    "#     1, # number of bands\n",
    "#     gdal.GDT_Int16)\n",
    "\n",
    "# gdal.Rasterize(new_ds, shp_uri, burnValues=[1])\n",
    "# new_ds.SetGeoTransform(nlcd_src.GetGeoTransform())\n",
    "# new_ds.SetProjection(nlcd_src.GetProjection())\n",
    "# del new_ds\n",
    "\n",
    "## resorting to this system call:\n",
    "# pgp.new_raster_from_base(nlcd_uri, fema100_uri, gdal.GDT_Int16, [99], [0])\n",
    "# ! gdal_rasterize -burn 1 ../data/pca/bcdc_slr/fema/FEMA_100yrFlood_Region_201709.shp ../data/bcdc_slr_regional_rec/fema100.tif"
   ]
  },
  {
   "cell_type": "code",
   "execution_count": 12,
   "metadata": {
    "scrolled": true,
    "slideshow": {
     "slide_type": "fragment"
    }
   },
   "outputs": [],
   "source": [
    "fema500_uri = os.path.join(workspace, 'fema500.tif')\n",
    "shp_uri = '../data/pca/bcdc_slr/fema/500yr100yrFlood_9CountyBayArea_201709.shp'\n",
    "## not working, see above:\n",
    "# burn_aoi2grid(shp_uri, fema500_uri, nlcd_uri)\n",
    "\n",
    "## below works:\n",
    "# pgp.new_raster_from_base(nlcd_uri, fema500_uri, gdal.GDT_Int16, [99], [0])\n",
    "# ! gdal_rasterize -burn 1 ../data/pca/bcdc_slr/fema/500yr100yrFlood_9CountyBayArea_201709.shp ../data/bcdc_slr_regional_rec/fema500.tif"
   ]
  },
  {
   "cell_type": "markdown",
   "metadata": {
    "slideshow": {
     "slide_type": "skip"
    }
   },
   "source": [
    "#### read AOIs as 2d arrays for querying"
   ]
  },
  {
   "cell_type": "code",
   "execution_count": 13,
   "metadata": {
    "slideshow": {
     "slide_type": "skip"
    }
   },
   "outputs": [],
   "source": [
    "# Natural Lands - make 2d array 0s and 1s where 1s are all lulc classes other than development\n",
    "# in the original datasource, development lulc's have already been assigned nodata\n",
    "band1 = nlcd_src.GetRasterBand(1)\n",
    "nodata = band1.GetNoDataValue()\n",
    "rows = nlcd_src.RasterYSize\n",
    "cols = nlcd_src.RasterXSize\n",
    "vals = band1.ReadAsArray(0, 0, cols, rows)\n",
    "nlcd = np.ones_like(vals)\n",
    "nlcd[vals == nodata] = 0"
   ]
  },
  {
   "cell_type": "code",
   "execution_count": 14,
   "metadata": {
    "slideshow": {
     "slide_type": "skip"
    }
   },
   "outputs": [],
   "source": [
    "bpad = raster2array(bpad_uri)\n",
    "pca = raster2array(pca_uri)\n",
    "fema100 = raster2array(fema100_uri)\n",
    "fema500 = raster2array(fema500_uri)"
   ]
  },
  {
   "cell_type": "code",
   "execution_count": 15,
   "metadata": {
    "slideshow": {
     "slide_type": "skip"
    }
   },
   "outputs": [
    {
     "data": {
      "text/plain": [
       "True"
      ]
     },
     "execution_count": 15,
     "metadata": {},
     "output_type": "execute_result"
    }
   ],
   "source": [
    "nlcd.shape == bpad.shape == pca.shape == pud.shape == tud.shape == fema100.shape == fema500.shape"
   ]
  },
  {
   "cell_type": "markdown",
   "metadata": {
    "slideshow": {
     "slide_type": "slide"
    }
   },
   "source": [
    "## Count the photo-user-days across all grid cells included in combinations of the AOIs and SLR scenarios. \n",
    "\n",
    "#### All calculations exclude developed areas (based on lulc development classes)"
   ]
  },
  {
   "cell_type": "markdown",
   "metadata": {
    "slideshow": {
     "slide_type": "slide"
    }
   },
   "source": [
    "### small example of how these 'presence/absence' arrays are used to count PUDs:"
   ]
  },
  {
   "cell_type": "code",
   "execution_count": 16,
   "metadata": {
    "slideshow": {
     "slide_type": "skip"
    }
   },
   "outputs": [],
   "source": [
    "## setting up some toy datasets\n",
    "np.random.seed(0)\n",
    "b = np.zeros((5,5)).astype(int)\n",
    "b[:5,:2] = 1\n",
    "p = np.zeros((5,5)).astype(int)\n",
    "p[:2,:3] = 1\n",
    "s = np.zeros((5,5)).astype(int)\n",
    "s[[0,4],:5] = 1\n",
    "u = np.flip(np.random.poisson(size=25).astype(int).reshape(5, 5), 0)"
   ]
  },
  {
   "cell_type": "code",
   "execution_count": 17,
   "metadata": {
    "slideshow": {
     "slide_type": "fragment"
    }
   },
   "outputs": [
    {
     "data": {
      "text/plain": [
       "array([[1, 1, 0, 0, 0],\n",
       "       [1, 1, 0, 0, 0],\n",
       "       [1, 1, 0, 0, 0],\n",
       "       [1, 1, 0, 0, 0],\n",
       "       [1, 1, 0, 0, 0]])"
      ]
     },
     "execution_count": 17,
     "metadata": {},
     "output_type": "execute_result"
    }
   ],
   "source": [
    "b # could be presence of the BPAD network:"
   ]
  },
  {
   "cell_type": "code",
   "execution_count": 18,
   "metadata": {
    "slideshow": {
     "slide_type": "fragment"
    }
   },
   "outputs": [
    {
     "data": {
      "text/plain": [
       "array([[1, 1, 1, 0, 0],\n",
       "       [1, 1, 1, 0, 0],\n",
       "       [0, 0, 0, 0, 0],\n",
       "       [0, 0, 0, 0, 0],\n",
       "       [0, 0, 0, 0, 0]])"
      ]
     },
     "execution_count": 18,
     "metadata": {},
     "output_type": "execute_result"
    }
   ],
   "source": [
    "p # could be presence of the PCA network:"
   ]
  },
  {
   "cell_type": "code",
   "execution_count": 19,
   "metadata": {
    "slideshow": {
     "slide_type": "fragment"
    }
   },
   "outputs": [
    {
     "data": {
      "text/plain": [
       "array([[1, 1, 1, 1, 1],\n",
       "       [0, 0, 0, 0, 0],\n",
       "       [0, 0, 0, 0, 0],\n",
       "       [0, 0, 0, 0, 0],\n",
       "       [1, 1, 1, 1, 1]])"
      ]
     },
     "execution_count": 19,
     "metadata": {},
     "output_type": "execute_result"
    }
   ],
   "source": [
    "s # could be presence of SLR inundation from one scenario"
   ]
  },
  {
   "cell_type": "code",
   "execution_count": 20,
   "metadata": {
    "slideshow": {
     "slide_type": "fragment"
    }
   },
   "outputs": [
    {
     "data": {
      "text/plain": [
       "array([[0, 0, 0, 1, 1],\n",
       "       [2, 2, 1, 0, 2],\n",
       "       [1, 2, 0, 1, 1],\n",
       "       [1, 0, 0, 5, 1],\n",
       "       [2, 1, 1, 2, 2]])"
      ]
     },
     "execution_count": 20,
     "metadata": {},
     "output_type": "execute_result"
    }
   ],
   "source": [
    "u # could be PUD values to count"
   ]
  },
  {
   "cell_type": "markdown",
   "metadata": {
    "slideshow": {
     "slide_type": "fragment"
    }
   },
   "source": [
    "#### How many PUDs inside PCA network and exposed to inundation?"
   ]
  },
  {
   "cell_type": "code",
   "execution_count": 21,
   "metadata": {
    "slideshow": {
     "slide_type": "fragment"
    }
   },
   "outputs": [
    {
     "name": "stdout",
     "output_type": "stream",
     "text": [
      "[[ True  True  True False False]\n",
      " [False False False False False]\n",
      " [False False False False False]\n",
      " [False False False False False]\n",
      " [False False False False False]]\n"
     ]
    },
    {
     "data": {
      "text/plain": [
       "0"
      ]
     },
     "execution_count": 21,
     "metadata": {},
     "output_type": "execute_result"
    }
   ],
   "source": [
    "print((p == 1) & (s == 1))\n",
    "np.sum(u[(p == 1) & (s == 1)])"
   ]
  },
  {
   "cell_type": "markdown",
   "metadata": {
    "slideshow": {
     "slide_type": "skip"
    }
   },
   "source": [
    "#### How many PUDs inside BPAD, outside of PCAs, and exposed to inundation?"
   ]
  },
  {
   "cell_type": "code",
   "execution_count": 22,
   "metadata": {
    "slideshow": {
     "slide_type": "skip"
    }
   },
   "outputs": [
    {
     "name": "stdout",
     "output_type": "stream",
     "text": [
      "[[False False False False False]\n",
      " [False False False False False]\n",
      " [False False False False False]\n",
      " [False False False False False]\n",
      " [ True  True False False False]]\n"
     ]
    },
    {
     "data": {
      "text/plain": [
       "3"
      ]
     },
     "execution_count": 22,
     "metadata": {},
     "output_type": "execute_result"
    }
   ],
   "source": [
    "print((b == 1) & (p == 0) & (s == 1))\n",
    "np.sum(u[(b == 1) & (p == 0) & (s == 1)])"
   ]
  },
  {
   "cell_type": "markdown",
   "metadata": {
    "slideshow": {
     "slide_type": "skip"
    }
   },
   "source": [
    "#### How many PUDs inside BPAD, outside of PCAs, and outside of inundation?"
   ]
  },
  {
   "cell_type": "code",
   "execution_count": 23,
   "metadata": {
    "slideshow": {
     "slide_type": "skip"
    }
   },
   "outputs": [
    {
     "name": "stdout",
     "output_type": "stream",
     "text": [
      "[[False False False False False]\n",
      " [False False False False False]\n",
      " [ True  True False False False]\n",
      " [ True  True False False False]\n",
      " [False False False False False]]\n"
     ]
    },
    {
     "data": {
      "text/plain": [
       "4"
      ]
     },
     "execution_count": 23,
     "metadata": {},
     "output_type": "execute_result"
    }
   ],
   "source": [
    "print((b == 1) & (p == 0) & (s == 0))\n",
    "np.sum(u[(b == 1) & (p == 0) & (s == 0)])"
   ]
  },
  {
   "cell_type": "markdown",
   "metadata": {
    "slideshow": {
     "slide_type": "skip"
    }
   },
   "source": [
    "### Now the real thing"
   ]
  },
  {
   "cell_type": "code",
   "execution_count": 24,
   "metadata": {
    "slideshow": {
     "slide_type": "skip"
    }
   },
   "outputs": [],
   "source": [
    "## Helper function to compile results into a table. \n",
    "def tabulate_aoi_totals(nlcd_logic, bpad_logic, pca_logic):\n",
    "    dataframe = pd.DataFrame(columns=['aoi', 'pud', 'tud', 'area_km2'])\n",
    "    dataframe['aoi'] = ['nlcd', 'bpad', 'pca']\n",
    "    dataframe.set_index('aoi', inplace=True)\n",
    "    \n",
    "    ## PUD\n",
    "    dataframe.loc['nlcd', 'pud'] = float(np.sum(pud[nlcd_logic]))\n",
    "    dataframe.loc['bpad', 'pud'] = float(np.sum(pud[bpad_logic]))\n",
    "    dataframe.loc['pca', 'pud'] = float(np.sum(pud[pca_logic]))\n",
    "\n",
    "    ## TUD\n",
    "    dataframe.loc['nlcd', 'tud'] = float(np.sum(tud[nlcd_logic]))\n",
    "    dataframe.loc['bpad', 'tud'] = float(np.sum(tud[bpad_logic]))\n",
    "    dataframe.loc['pca', 'tud'] = float(np.sum(tud[pca_logic]))\n",
    "\n",
    "    ## Area\n",
    "    dataframe.loc['nlcd', 'area_km2'] = np.sum((nlcd[nlcd_logic]))*cell_area_km2\n",
    "    dataframe.loc['bpad', 'area_km2'] = np.sum(nlcd[bpad_logic])*cell_area_km2\n",
    "    dataframe.loc['pca', 'area_km2'] = np.sum(nlcd[pca_logic])*cell_area_km2\n",
    "    \n",
    "    return(dataframe)"
   ]
  },
  {
   "cell_type": "markdown",
   "metadata": {
    "slideshow": {
     "slide_type": "slide"
    }
   },
   "source": [
    "## Percent of total regional recreation occurring across different land networks."
   ]
  },
  {
   "cell_type": "markdown",
   "metadata": {
    "slideshow": {
     "slide_type": "fragment"
    }
   },
   "source": [
    "### Based on total PUD, TUD, & area in the entire BPAD, PCA, and natural lands (nlcd)\n",
    "The nlcd grid is always used to exclude areas previously classified as development, and other areas with nodata"
   ]
  },
  {
   "cell_type": "code",
   "execution_count": 25,
   "metadata": {
    "slideshow": {
     "slide_type": "fragment"
    }
   },
   "outputs": [
    {
     "data": {
      "text/html": [
       "<div>\n",
       "<style scoped>\n",
       "    .dataframe tbody tr th:only-of-type {\n",
       "        vertical-align: middle;\n",
       "    }\n",
       "\n",
       "    .dataframe tbody tr th {\n",
       "        vertical-align: top;\n",
       "    }\n",
       "\n",
       "    .dataframe thead th {\n",
       "        text-align: right;\n",
       "    }\n",
       "</style>\n",
       "<table border=\"1\" class=\"dataframe\">\n",
       "  <thead>\n",
       "    <tr style=\"text-align: right;\">\n",
       "      <th></th>\n",
       "      <th>pud</th>\n",
       "      <th>tud</th>\n",
       "      <th>area_km2</th>\n",
       "    </tr>\n",
       "    <tr>\n",
       "      <th>aoi</th>\n",
       "      <th></th>\n",
       "      <th></th>\n",
       "      <th></th>\n",
       "    </tr>\n",
       "  </thead>\n",
       "  <tbody>\n",
       "    <tr>\n",
       "      <th>nlcd</th>\n",
       "      <td>506887</td>\n",
       "      <td>1.62826e+06</td>\n",
       "      <td>15718</td>\n",
       "    </tr>\n",
       "    <tr>\n",
       "      <th>bpad</th>\n",
       "      <td>315934</td>\n",
       "      <td>276680</td>\n",
       "      <td>4937.13</td>\n",
       "    </tr>\n",
       "    <tr>\n",
       "      <th>pca</th>\n",
       "      <td>120622</td>\n",
       "      <td>303976</td>\n",
       "      <td>7689.91</td>\n",
       "    </tr>\n",
       "  </tbody>\n",
       "</table>\n",
       "</div>"
      ],
      "text/plain": [
       "         pud          tud area_km2\n",
       "aoi                               \n",
       "nlcd  506887  1.62826e+06    15718\n",
       "bpad  315934       276680  4937.13\n",
       "pca   120622       303976  7689.91"
      ]
     },
     "execution_count": 25,
     "metadata": {},
     "output_type": "execute_result"
    }
   ],
   "source": [
    "nlcd_logic = (nlcd == 1)\n",
    "bpad_logic = (nlcd == 1) & (bpad == 1)\n",
    "pca_logic = (nlcd == 1) & (pca == 1)\n",
    "\n",
    "aoi_totals = tabulate_aoi_totals(nlcd_logic, bpad_logic, pca_logic)\n",
    "aoi_totals"
   ]
  },
  {
   "cell_type": "code",
   "execution_count": 26,
   "metadata": {},
   "outputs": [
    {
     "data": {
      "text/html": [
       "<div>\n",
       "<style scoped>\n",
       "    .dataframe tbody tr th:only-of-type {\n",
       "        vertical-align: middle;\n",
       "    }\n",
       "\n",
       "    .dataframe tbody tr th {\n",
       "        vertical-align: top;\n",
       "    }\n",
       "\n",
       "    .dataframe thead th {\n",
       "        text-align: right;\n",
       "    }\n",
       "</style>\n",
       "<table border=\"1\" class=\"dataframe\">\n",
       "  <thead>\n",
       "    <tr style=\"text-align: right;\">\n",
       "      <th></th>\n",
       "      <th>pud</th>\n",
       "      <th>tud</th>\n",
       "      <th>area_km2</th>\n",
       "    </tr>\n",
       "    <tr>\n",
       "      <th>aoi</th>\n",
       "      <th></th>\n",
       "      <th></th>\n",
       "      <th></th>\n",
       "    </tr>\n",
       "  </thead>\n",
       "  <tbody>\n",
       "    <tr>\n",
       "      <th>nlcd</th>\n",
       "      <td>100</td>\n",
       "      <td>100</td>\n",
       "      <td>100</td>\n",
       "    </tr>\n",
       "    <tr>\n",
       "      <th>bpad</th>\n",
       "      <td>62.3283</td>\n",
       "      <td>16.9924</td>\n",
       "      <td>31.4107</td>\n",
       "    </tr>\n",
       "    <tr>\n",
       "      <th>pca</th>\n",
       "      <td>23.7966</td>\n",
       "      <td>18.6688</td>\n",
       "      <td>48.9243</td>\n",
       "    </tr>\n",
       "  </tbody>\n",
       "</table>\n",
       "</div>"
      ],
      "text/plain": [
       "          pud      tud area_km2\n",
       "aoi                            \n",
       "nlcd      100      100      100\n",
       "bpad  62.3283  16.9924  31.4107\n",
       "pca   23.7966  18.6688  48.9243"
      ]
     },
     "execution_count": 26,
     "metadata": {},
     "output_type": "execute_result"
    }
   ],
   "source": [
    "# entire PCA and BPAD totals as percent of all natural lands:\n",
    "aoi_totals/aoi_totals.iloc[0,:]*100"
   ]
  },
  {
   "cell_type": "markdown",
   "metadata": {},
   "source": [
    "### Based on total PUD, TUD, & area in the *mutually exclusive* BPAD, PCA, and natural lands (nlcd)\n",
    "NLCD excludes areas that are BPAD and exludes areas that are PCA. BPAD excludes areas that are also PCA. PCA excludes areas that are also BPAD. The nlcd grid is always used to exclude areas previously classified as development, and other areas with nodata. "
   ]
  },
  {
   "cell_type": "code",
   "execution_count": 27,
   "metadata": {},
   "outputs": [
    {
     "data": {
      "text/html": [
       "<div>\n",
       "<style scoped>\n",
       "    .dataframe tbody tr th:only-of-type {\n",
       "        vertical-align: middle;\n",
       "    }\n",
       "\n",
       "    .dataframe tbody tr th {\n",
       "        vertical-align: top;\n",
       "    }\n",
       "\n",
       "    .dataframe thead th {\n",
       "        text-align: right;\n",
       "    }\n",
       "</style>\n",
       "<table border=\"1\" class=\"dataframe\">\n",
       "  <thead>\n",
       "    <tr style=\"text-align: right;\">\n",
       "      <th></th>\n",
       "      <th>pud</th>\n",
       "      <th>tud</th>\n",
       "      <th>area_km2</th>\n",
       "    </tr>\n",
       "    <tr>\n",
       "      <th>aoi</th>\n",
       "      <th></th>\n",
       "      <th></th>\n",
       "      <th></th>\n",
       "    </tr>\n",
       "  </thead>\n",
       "  <tbody>\n",
       "    <tr>\n",
       "      <th>nlcd</th>\n",
       "      <td>140413</td>\n",
       "      <td>1.10174e+06</td>\n",
       "      <td>5390.9</td>\n",
       "    </tr>\n",
       "    <tr>\n",
       "      <th>bpad</th>\n",
       "      <td>245852</td>\n",
       "      <td>222539</td>\n",
       "      <td>2637.16</td>\n",
       "    </tr>\n",
       "    <tr>\n",
       "      <th>pca</th>\n",
       "      <td>50540</td>\n",
       "      <td>249835</td>\n",
       "      <td>5389.95</td>\n",
       "    </tr>\n",
       "    <tr>\n",
       "      <th>bpad_x_pca</th>\n",
       "      <td>70082</td>\n",
       "      <td>54141</td>\n",
       "      <td>2299.97</td>\n",
       "    </tr>\n",
       "  </tbody>\n",
       "</table>\n",
       "</div>"
      ],
      "text/plain": [
       "               pud          tud area_km2\n",
       "aoi                                     \n",
       "nlcd        140413  1.10174e+06   5390.9\n",
       "bpad        245852       222539  2637.16\n",
       "pca          50540       249835  5389.95\n",
       "bpad_x_pca   70082        54141  2299.97"
      ]
     },
     "execution_count": 27,
     "metadata": {},
     "output_type": "execute_result"
    }
   ],
   "source": [
    "nlcd_logic = (nlcd == 1) & (pca == 0) & (bpad == 0)\n",
    "bpad_logic = (nlcd == 1) & (bpad == 1) & (pca == 0)\n",
    "pca_logic = (nlcd == 1) & (pca == 1) & (bpad == 0)\n",
    "bpad_pca_logic = (nlcd ==1) & (pca ==1) & (bpad ==1)\n",
    "\n",
    "exclusive_aoi_totals = tabulate_aoi_totals(nlcd_logic, bpad_logic, pca_logic)\n",
    "\n",
    "## and now the special case where PCA, BPAD, and NLCD are all present:\n",
    "bpad_pca_df = pd.DataFrame(columns=['aoi', 'pud', 'tud', 'area_km2'])\n",
    "bpad_pca_df['aoi'] = ['bpad_x_pca']\n",
    "bpad_pca_df.set_index('aoi', inplace=True)\n",
    "bpad_pca_df.loc['bpad_x_pca', 'pud'] = float(np.sum(pud[bpad_pca_logic]))\n",
    "bpad_pca_df.loc['bpad_x_pca', 'tud'] = float(np.sum(tud[bpad_pca_logic]))\n",
    "bpad_pca_df.loc['bpad_x_pca', 'area_km2'] = np.sum(nlcd[bpad_pca_logic])*cell_area_km2\n",
    "\n",
    "\n",
    "exclusive_aoi_totals = exclusive_aoi_totals.append(bpad_pca_df)\n",
    "exclusive_aoi_totals"
   ]
  },
  {
   "cell_type": "code",
   "execution_count": 28,
   "metadata": {},
   "outputs": [
    {
     "data": {
      "text/html": [
       "<div>\n",
       "<style scoped>\n",
       "    .dataframe tbody tr th:only-of-type {\n",
       "        vertical-align: middle;\n",
       "    }\n",
       "\n",
       "    .dataframe tbody tr th {\n",
       "        vertical-align: top;\n",
       "    }\n",
       "\n",
       "    .dataframe thead th {\n",
       "        text-align: right;\n",
       "    }\n",
       "</style>\n",
       "<table border=\"1\" class=\"dataframe\">\n",
       "  <thead>\n",
       "    <tr style=\"text-align: right;\">\n",
       "      <th></th>\n",
       "      <th>pud</th>\n",
       "      <th>tud</th>\n",
       "      <th>area_km2</th>\n",
       "    </tr>\n",
       "    <tr>\n",
       "      <th>aoi</th>\n",
       "      <th></th>\n",
       "      <th></th>\n",
       "      <th></th>\n",
       "    </tr>\n",
       "  </thead>\n",
       "  <tbody>\n",
       "    <tr>\n",
       "      <th>nlcd</th>\n",
       "      <td>27.701</td>\n",
       "      <td>67.6638</td>\n",
       "      <td>34.2977</td>\n",
       "    </tr>\n",
       "    <tr>\n",
       "      <th>bpad</th>\n",
       "      <td>48.5023</td>\n",
       "      <td>13.6673</td>\n",
       "      <td>16.778</td>\n",
       "    </tr>\n",
       "    <tr>\n",
       "      <th>pca</th>\n",
       "      <td>9.97066</td>\n",
       "      <td>15.3437</td>\n",
       "      <td>34.2916</td>\n",
       "    </tr>\n",
       "    <tr>\n",
       "      <th>bpad_x_pca</th>\n",
       "      <td>13.826</td>\n",
       "      <td>3.32509</td>\n",
       "      <td>14.6327</td>\n",
       "    </tr>\n",
       "  </tbody>\n",
       "</table>\n",
       "</div>"
      ],
      "text/plain": [
       "                pud      tud area_km2\n",
       "aoi                                  \n",
       "nlcd         27.701  67.6638  34.2977\n",
       "bpad        48.5023  13.6673   16.778\n",
       "pca         9.97066  15.3437  34.2916\n",
       "bpad_x_pca   13.826  3.32509  14.6327"
      ]
     },
     "execution_count": 28,
     "metadata": {},
     "output_type": "execute_result"
    }
   ],
   "source": [
    "# exclusive PCA, BPAD, NLCD totals as percent of all natural lands:\n",
    "exclusive_aoi_totals/aoi_totals.iloc[0,:]*100"
   ]
  },
  {
   "cell_type": "code",
   "execution_count": null,
   "metadata": {},
   "outputs": [],
   "source": []
  },
  {
   "cell_type": "code",
   "execution_count": null,
   "metadata": {},
   "outputs": [],
   "source": []
  },
  {
   "cell_type": "markdown",
   "metadata": {},
   "source": [
    "### total PUD for each SLR scenario, and with exlcusive AOI pairings (e.g. inside BPAD & outside PCA)"
   ]
  },
  {
   "cell_type": "code",
   "execution_count": 29,
   "metadata": {},
   "outputs": [],
   "source": [
    "slr_rasters = glob.glob('../data/pca/bcdc_slr/raster/aligned/Inundate*.tif')"
   ]
  },
  {
   "cell_type": "code",
   "execution_count": 30,
   "metadata": {},
   "outputs": [
    {
     "name": "stdout",
     "output_type": "stream",
     "text": [
      "../data/pca/bcdc_slr/raster/aligned/Inundate_66.tif\n",
      "../data/pca/bcdc_slr/raster/aligned/Inundate_77.tif\n",
      "../data/pca/bcdc_slr/raster/aligned/Inundate_12.tif\n",
      "../data/pca/bcdc_slr/raster/aligned/Inundate_52.tif\n",
      "../data/pca/bcdc_slr/raster/aligned/Inundate_108.tif\n",
      "../data/pca/bcdc_slr/raster/aligned/Inundate_96.tif\n",
      "../data/pca/bcdc_slr/raster/aligned/Inundate_48.tif\n",
      "../data/pca/bcdc_slr/raster/aligned/Inundate_24.tif\n",
      "../data/pca/bcdc_slr/raster/aligned/Inundate_36.tif\n",
      "../data/pca/bcdc_slr/raster/aligned/Inundate_84.tif\n"
     ]
    }
   ],
   "source": [
    "# In PCA network, by SLR scenario\n",
    "pca_slr = {}\n",
    "\n",
    "for slr_uri in slr_rasters:\n",
    "    print(slr_uri)\n",
    "    slr = raster2array(slr_uri)\n",
    "    assert pud.shape == nlcd.shape == pca.shape == slr.shape\n",
    "    puds = np.sum(pud[(nlcd == 1) & (pca == 1) & (slr == 1)])\n",
    "    pca_slr[os.path.basename(slr_uri)] = puds\n",
    "    \n",
    "puds_slr0 = np.sum(pud[(nlcd == 1) & (pca == 1)])\n",
    "pca_slr['Inundate_0'] = puds_slr0\n",
    "\n",
    "puds_fema100 = np.sum(pud[(nlcd == 1) & (pca == 1) & (fema100 == 1)])\n",
    "pca_slr['fema100'] = puds_fema100\n",
    "puds_fema500 = np.sum(pud[(nlcd == 1) & (pca == 1) & (fema500 == 1)])\n",
    "pca_slr['fema500'] = puds_fema500"
   ]
  },
  {
   "cell_type": "code",
   "execution_count": 31,
   "metadata": {},
   "outputs": [
    {
     "name": "stdout",
     "output_type": "stream",
     "text": [
      "../data/pca/bcdc_slr/raster/aligned/Inundate_66.tif\n",
      "../data/pca/bcdc_slr/raster/aligned/Inundate_77.tif\n",
      "../data/pca/bcdc_slr/raster/aligned/Inundate_12.tif\n",
      "../data/pca/bcdc_slr/raster/aligned/Inundate_52.tif\n",
      "../data/pca/bcdc_slr/raster/aligned/Inundate_108.tif\n",
      "../data/pca/bcdc_slr/raster/aligned/Inundate_96.tif\n",
      "../data/pca/bcdc_slr/raster/aligned/Inundate_48.tif\n",
      "../data/pca/bcdc_slr/raster/aligned/Inundate_24.tif\n",
      "../data/pca/bcdc_slr/raster/aligned/Inundate_36.tif\n",
      "../data/pca/bcdc_slr/raster/aligned/Inundate_84.tif\n"
     ]
    }
   ],
   "source": [
    "# In BPAD network and not in PCA network, by SLR scenario\n",
    "bpad_slr = {}\n",
    "\n",
    "for slr_uri in slr_rasters:\n",
    "    print(slr_uri)\n",
    "    slr = raster2array(slr_uri)\n",
    "    assert pud.shape == nlcd.shape == pca.shape == slr.shape\n",
    "    puds = np.sum(pud[(nlcd == 1) & (bpad == 1) & (slr == 1) & (pca == 0)])\n",
    "    bpad_slr[os.path.basename(slr_uri)] = puds\n",
    "        \n",
    "puds_slr0 = np.sum(pud[(nlcd == 1) & (bpad == 1) & (pca == 0)])\n",
    "bpad_slr['Inundate_0'] = puds_slr0\n",
    "\n",
    "puds_fema100 = np.sum(pud[(nlcd == 1) & (bpad == 1) & (pca == 0) & (fema100 == 1)])\n",
    "bpad_slr['fema100'] = puds_fema100\n",
    "puds_fema500 = np.sum(pud[(nlcd == 1) & (bpad == 1) & (pca == 0) & (fema500 == 1)])\n",
    "bpad_slr['fema500'] = puds_fema500"
   ]
  },
  {
   "cell_type": "code",
   "execution_count": 32,
   "metadata": {},
   "outputs": [
    {
     "name": "stdout",
     "output_type": "stream",
     "text": [
      "../data/pca/bcdc_slr/raster/aligned/Inundate_66.tif\n",
      "../data/pca/bcdc_slr/raster/aligned/Inundate_77.tif\n",
      "../data/pca/bcdc_slr/raster/aligned/Inundate_12.tif\n",
      "../data/pca/bcdc_slr/raster/aligned/Inundate_52.tif\n",
      "../data/pca/bcdc_slr/raster/aligned/Inundate_108.tif\n",
      "../data/pca/bcdc_slr/raster/aligned/Inundate_96.tif\n",
      "../data/pca/bcdc_slr/raster/aligned/Inundate_48.tif\n",
      "../data/pca/bcdc_slr/raster/aligned/Inundate_24.tif\n",
      "../data/pca/bcdc_slr/raster/aligned/Inundate_36.tif\n",
      "../data/pca/bcdc_slr/raster/aligned/Inundate_84.tif\n"
     ]
    }
   ],
   "source": [
    "# In Natural Lands and not in BPAD and PCA networks, by SLR scenario\n",
    "nlcd_slr = {}\n",
    "\n",
    "for slr_uri in slr_rasters:\n",
    "    print(slr_uri)\n",
    "    slr = raster2array(slr_uri)\n",
    "    assert pud.shape == nlcd.shape == pca.shape == slr.shape\n",
    "    puds = np.sum(pud[(nlcd == 1) & (slr == 1) & (pca == 0) & (bpad == 0)])\n",
    "    \n",
    "    nlcd_slr[os.path.basename(slr_uri)] = puds\n",
    "    \n",
    "puds_slr0 = np.sum(pud[(nlcd == 1) & (pca == 0) & (bpad == 0)])\n",
    "nlcd_slr['Inundate_0'] = puds_slr0\n",
    "\n",
    "puds_fema100 = np.sum(pud[(nlcd == 1) & (pca == 0) & (bpad == 0) & (fema100 == 1)])\n",
    "nlcd_slr['fema100'] = puds_fema100\n",
    "puds_fema500 = np.sum(pud[(nlcd == 1) & (pca == 0) & (bpad == 0) & (fema500 == 1)])\n",
    "nlcd_slr['fema500'] = puds_fema500"
   ]
  },
  {
   "cell_type": "markdown",
   "metadata": {},
   "source": [
    "### Compile scenario results"
   ]
  },
  {
   "cell_type": "code",
   "execution_count": 33,
   "metadata": {},
   "outputs": [],
   "source": [
    "pca_df = pd.DataFrame(pca_slr.items(), columns=['scenario', 'pca'])\n",
    "bpad_df = pd.DataFrame(bpad_slr.items(), columns=['scenario', 'bpad'])\n",
    "nlcd_df = pd.DataFrame(nlcd_slr.items(), columns=['scenario', 'nlcd'])"
   ]
  },
  {
   "cell_type": "code",
   "execution_count": 34,
   "metadata": {},
   "outputs": [],
   "source": [
    "results = pd.merge(pd.merge(pca_df, bpad_df, on='scenario'), nlcd_df, on='scenario')"
   ]
  },
  {
   "cell_type": "code",
   "execution_count": 35,
   "metadata": {},
   "outputs": [],
   "source": [
    "pca_total = results[results['scenario'] == 'Inundate_0']['pca']\n",
    "bpad_total = results[results['scenario'] == 'Inundate_0']['bpad']\n",
    "nlcd_total = results[results['scenario'] == 'Inundate_0']['nlcd']"
   ]
  },
  {
   "cell_type": "code",
   "execution_count": 36,
   "metadata": {},
   "outputs": [],
   "source": [
    "results['pca_pr'] = results['pca'].apply(lambda x: x/pca_total*100)\n",
    "results['bpad_pr'] = results['bpad'].apply(lambda x: x/bpad_total*100)\n",
    "results['nlcd_pr'] = results['nlcd'].apply(lambda x: x/nlcd_total*100)"
   ]
  },
  {
   "cell_type": "code",
   "execution_count": 37,
   "metadata": {},
   "outputs": [],
   "source": [
    "fema_results = results[results['scenario'].isin(['fema100', 'fema500'])]\n",
    "results = results[~results['scenario'].isin(['fema100', 'fema500'])]"
   ]
  },
  {
   "cell_type": "markdown",
   "metadata": {},
   "source": [
    "### Percent of PUD in exposed area for each scenario\n",
    "#### For each AOI, percent is relative to that AOI's '0 inundation' scenario"
   ]
  },
  {
   "cell_type": "code",
   "execution_count": 38,
   "metadata": {},
   "outputs": [
    {
     "name": "stderr",
     "output_type": "stream",
     "text": [
      "/home/dmf/miniconda3/envs/geowork2/lib/python2.7/site-packages/ipykernel/__main__.py:1: FutureWarning: currently extract(expand=None) means expand=False (return Index/Series/DataFrame) but in a future version of pandas this will be changed to expand=True (return DataFrame)\n",
      "  if __name__ == '__main__':\n"
     ]
    }
   ],
   "source": [
    "results['slr_inches'] = pd.to_numeric(results['scenario'].str.extract('([0-9]?[0-9]?[0-9])'))"
   ]
  },
  {
   "cell_type": "code",
   "execution_count": 39,
   "metadata": {},
   "outputs": [
    {
     "data": {
      "text/html": [
       "<div>\n",
       "<style scoped>\n",
       "    .dataframe tbody tr th:only-of-type {\n",
       "        vertical-align: middle;\n",
       "    }\n",
       "\n",
       "    .dataframe tbody tr th {\n",
       "        vertical-align: top;\n",
       "    }\n",
       "\n",
       "    .dataframe thead th {\n",
       "        text-align: right;\n",
       "    }\n",
       "</style>\n",
       "<table border=\"1\" class=\"dataframe\">\n",
       "  <thead>\n",
       "    <tr style=\"text-align: right;\">\n",
       "      <th></th>\n",
       "      <th>scenario</th>\n",
       "      <th>pca</th>\n",
       "      <th>bpad</th>\n",
       "      <th>nlcd</th>\n",
       "      <th>pca_pr</th>\n",
       "      <th>bpad_pr</th>\n",
       "      <th>nlcd_pr</th>\n",
       "      <th>slr_inches</th>\n",
       "    </tr>\n",
       "  </thead>\n",
       "  <tbody>\n",
       "    <tr>\n",
       "      <th>2</th>\n",
       "      <td>Inundate_0</td>\n",
       "      <td>120622</td>\n",
       "      <td>245852</td>\n",
       "      <td>140413</td>\n",
       "      <td>100.000000</td>\n",
       "      <td>100.000000</td>\n",
       "      <td>100.000000</td>\n",
       "      <td>0</td>\n",
       "    </tr>\n",
       "    <tr>\n",
       "      <th>12</th>\n",
       "      <td>Inundate_12.tif</td>\n",
       "      <td>1332</td>\n",
       "      <td>3364</td>\n",
       "      <td>4274</td>\n",
       "      <td>1.104276</td>\n",
       "      <td>1.368303</td>\n",
       "      <td>3.043878</td>\n",
       "      <td>12</td>\n",
       "    </tr>\n",
       "    <tr>\n",
       "      <th>9</th>\n",
       "      <td>Inundate_24.tif</td>\n",
       "      <td>3079</td>\n",
       "      <td>4381</td>\n",
       "      <td>5615</td>\n",
       "      <td>2.552602</td>\n",
       "      <td>1.781966</td>\n",
       "      <td>3.998917</td>\n",
       "      <td>24</td>\n",
       "    </tr>\n",
       "    <tr>\n",
       "      <th>0</th>\n",
       "      <td>Inundate_36.tif</td>\n",
       "      <td>3469</td>\n",
       "      <td>6871</td>\n",
       "      <td>6974</td>\n",
       "      <td>2.875926</td>\n",
       "      <td>2.794771</td>\n",
       "      <td>4.966777</td>\n",
       "      <td>36</td>\n",
       "    </tr>\n",
       "    <tr>\n",
       "      <th>1</th>\n",
       "      <td>Inundate_48.tif</td>\n",
       "      <td>4945</td>\n",
       "      <td>8189</td>\n",
       "      <td>9022</td>\n",
       "      <td>4.099584</td>\n",
       "      <td>3.330866</td>\n",
       "      <td>6.425331</td>\n",
       "      <td>48</td>\n",
       "    </tr>\n",
       "    <tr>\n",
       "      <th>11</th>\n",
       "      <td>Inundate_52.tif</td>\n",
       "      <td>5037</td>\n",
       "      <td>8736</td>\n",
       "      <td>10383</td>\n",
       "      <td>4.175855</td>\n",
       "      <td>3.553357</td>\n",
       "      <td>7.394614</td>\n",
       "      <td>52</td>\n",
       "    </tr>\n",
       "    <tr>\n",
       "      <th>5</th>\n",
       "      <td>Inundate_66.tif</td>\n",
       "      <td>5396</td>\n",
       "      <td>16157</td>\n",
       "      <td>14624</td>\n",
       "      <td>4.473479</td>\n",
       "      <td>6.571840</td>\n",
       "      <td>10.414990</td>\n",
       "      <td>66</td>\n",
       "    </tr>\n",
       "    <tr>\n",
       "      <th>6</th>\n",
       "      <td>Inundate_77.tif</td>\n",
       "      <td>7767</td>\n",
       "      <td>17554</td>\n",
       "      <td>20666</td>\n",
       "      <td>6.439124</td>\n",
       "      <td>7.140068</td>\n",
       "      <td>14.718010</td>\n",
       "      <td>77</td>\n",
       "    </tr>\n",
       "    <tr>\n",
       "      <th>8</th>\n",
       "      <td>Inundate_84.tif</td>\n",
       "      <td>7883</td>\n",
       "      <td>18493</td>\n",
       "      <td>21556</td>\n",
       "      <td>6.535292</td>\n",
       "      <td>7.522005</td>\n",
       "      <td>15.351855</td>\n",
       "      <td>84</td>\n",
       "    </tr>\n",
       "    <tr>\n",
       "      <th>4</th>\n",
       "      <td>Inundate_96.tif</td>\n",
       "      <td>8012</td>\n",
       "      <td>19743</td>\n",
       "      <td>23717</td>\n",
       "      <td>6.642238</td>\n",
       "      <td>8.030441</td>\n",
       "      <td>16.890886</td>\n",
       "      <td>96</td>\n",
       "    </tr>\n",
       "    <tr>\n",
       "      <th>10</th>\n",
       "      <td>Inundate_108.tif</td>\n",
       "      <td>8143</td>\n",
       "      <td>20796</td>\n",
       "      <td>24779</td>\n",
       "      <td>6.750841</td>\n",
       "      <td>8.458748</td>\n",
       "      <td>17.647226</td>\n",
       "      <td>108</td>\n",
       "    </tr>\n",
       "  </tbody>\n",
       "</table>\n",
       "</div>"
      ],
      "text/plain": [
       "            scenario     pca    bpad    nlcd      pca_pr     bpad_pr  \\\n",
       "2         Inundate_0  120622  245852  140413  100.000000  100.000000   \n",
       "12   Inundate_12.tif    1332    3364    4274    1.104276    1.368303   \n",
       "9    Inundate_24.tif    3079    4381    5615    2.552602    1.781966   \n",
       "0    Inundate_36.tif    3469    6871    6974    2.875926    2.794771   \n",
       "1    Inundate_48.tif    4945    8189    9022    4.099584    3.330866   \n",
       "11   Inundate_52.tif    5037    8736   10383    4.175855    3.553357   \n",
       "5    Inundate_66.tif    5396   16157   14624    4.473479    6.571840   \n",
       "6    Inundate_77.tif    7767   17554   20666    6.439124    7.140068   \n",
       "8    Inundate_84.tif    7883   18493   21556    6.535292    7.522005   \n",
       "4    Inundate_96.tif    8012   19743   23717    6.642238    8.030441   \n",
       "10  Inundate_108.tif    8143   20796   24779    6.750841    8.458748   \n",
       "\n",
       "       nlcd_pr  slr_inches  \n",
       "2   100.000000           0  \n",
       "12    3.043878          12  \n",
       "9     3.998917          24  \n",
       "0     4.966777          36  \n",
       "1     6.425331          48  \n",
       "11    7.394614          52  \n",
       "5    10.414990          66  \n",
       "6    14.718010          77  \n",
       "8    15.351855          84  \n",
       "4    16.890886          96  \n",
       "10   17.647226         108  "
      ]
     },
     "execution_count": 39,
     "metadata": {},
     "output_type": "execute_result"
    }
   ],
   "source": [
    "results.sort_values(by='slr_inches')"
   ]
  },
  {
   "cell_type": "code",
   "execution_count": 40,
   "metadata": {},
   "outputs": [
    {
     "data": {
      "text/html": [
       "<div>\n",
       "<style scoped>\n",
       "    .dataframe tbody tr th:only-of-type {\n",
       "        vertical-align: middle;\n",
       "    }\n",
       "\n",
       "    .dataframe tbody tr th {\n",
       "        vertical-align: top;\n",
       "    }\n",
       "\n",
       "    .dataframe thead th {\n",
       "        text-align: right;\n",
       "    }\n",
       "</style>\n",
       "<table border=\"1\" class=\"dataframe\">\n",
       "  <thead>\n",
       "    <tr style=\"text-align: right;\">\n",
       "      <th></th>\n",
       "      <th>scenario</th>\n",
       "      <th>pca</th>\n",
       "      <th>bpad</th>\n",
       "      <th>nlcd</th>\n",
       "      <th>pca_pr</th>\n",
       "      <th>bpad_pr</th>\n",
       "      <th>nlcd_pr</th>\n",
       "    </tr>\n",
       "  </thead>\n",
       "  <tbody>\n",
       "    <tr>\n",
       "      <th>3</th>\n",
       "      <td>fema500</td>\n",
       "      <td>24366</td>\n",
       "      <td>35990</td>\n",
       "      <td>39104</td>\n",
       "      <td>20.200295</td>\n",
       "      <td>14.638888</td>\n",
       "      <td>27.849273</td>\n",
       "    </tr>\n",
       "    <tr>\n",
       "      <th>7</th>\n",
       "      <td>fema100</td>\n",
       "      <td>20236</td>\n",
       "      <td>30992</td>\n",
       "      <td>31405</td>\n",
       "      <td>16.776376</td>\n",
       "      <td>12.605958</td>\n",
       "      <td>22.366163</td>\n",
       "    </tr>\n",
       "  </tbody>\n",
       "</table>\n",
       "</div>"
      ],
      "text/plain": [
       "  scenario    pca   bpad   nlcd     pca_pr    bpad_pr    nlcd_pr\n",
       "3  fema500  24366  35990  39104  20.200295  14.638888  27.849273\n",
       "7  fema100  20236  30992  31405  16.776376  12.605958  22.366163"
      ]
     },
     "execution_count": 40,
     "metadata": {},
     "output_type": "execute_result"
    }
   ],
   "source": [
    "fema_results"
   ]
  },
  {
   "cell_type": "code",
   "execution_count": 41,
   "metadata": {},
   "outputs": [],
   "source": [
    "results.to_csv(os.path.join(workspace, 'results' + datestamp + '.csv'), index=False)\n",
    "fema_results.to_csv(os.path.join(workspace, 'results_fema' + datestamp + '.csv'), index=False)"
   ]
  },
  {
   "cell_type": "markdown",
   "metadata": {},
   "source": [
    "### Make scenario plot"
   ]
  },
  {
   "cell_type": "code",
   "execution_count": 42,
   "metadata": {},
   "outputs": [
    {
     "name": "stderr",
     "output_type": "stream",
     "text": [
      "/home/dmf/miniconda3/envs/geowork2/lib/python2.7/site-packages/statsmodels/compat/pandas.py:56: FutureWarning: The pandas.core.datetools module is deprecated and will be removed in a future version. Please use the pandas.tseries module instead.\n",
      "  from pandas.core import datetools\n"
     ]
    }
   ],
   "source": [
    "import plotnine as gg\n",
    "import matplotlib as mpl\n",
    "mpl.rcParams[\"figure.figsize\"] = \"11, 8\"\n",
    "\n",
    "workspace = '../data/bcdc_slr_regional_rec'"
   ]
  },
  {
   "cell_type": "code",
   "execution_count": 43,
   "metadata": {},
   "outputs": [
    {
     "data": {
      "text/html": [
       "<div>\n",
       "<style scoped>\n",
       "    .dataframe tbody tr th:only-of-type {\n",
       "        vertical-align: middle;\n",
       "    }\n",
       "\n",
       "    .dataframe tbody tr th {\n",
       "        vertical-align: top;\n",
       "    }\n",
       "\n",
       "    .dataframe thead th {\n",
       "        text-align: right;\n",
       "    }\n",
       "</style>\n",
       "<table border=\"1\" class=\"dataframe\">\n",
       "  <thead>\n",
       "    <tr style=\"text-align: right;\">\n",
       "      <th></th>\n",
       "      <th>TWL</th>\n",
       "      <th>variable</th>\n",
       "      <th>percent_pud_exposed</th>\n",
       "    </tr>\n",
       "  </thead>\n",
       "  <tbody>\n",
       "    <tr>\n",
       "      <th>0</th>\n",
       "      <td>36</td>\n",
       "      <td>pca_pr</td>\n",
       "      <td>2.875926</td>\n",
       "    </tr>\n",
       "    <tr>\n",
       "      <th>1</th>\n",
       "      <td>48</td>\n",
       "      <td>pca_pr</td>\n",
       "      <td>4.099584</td>\n",
       "    </tr>\n",
       "    <tr>\n",
       "      <th>2</th>\n",
       "      <td>0</td>\n",
       "      <td>pca_pr</td>\n",
       "      <td>100.000000</td>\n",
       "    </tr>\n",
       "    <tr>\n",
       "      <th>3</th>\n",
       "      <td>96</td>\n",
       "      <td>pca_pr</td>\n",
       "      <td>6.642238</td>\n",
       "    </tr>\n",
       "    <tr>\n",
       "      <th>4</th>\n",
       "      <td>66</td>\n",
       "      <td>pca_pr</td>\n",
       "      <td>4.473479</td>\n",
       "    </tr>\n",
       "  </tbody>\n",
       "</table>\n",
       "</div>"
      ],
      "text/plain": [
       "   TWL variable  percent_pud_exposed\n",
       "0   36   pca_pr             2.875926\n",
       "1   48   pca_pr             4.099584\n",
       "2    0   pca_pr           100.000000\n",
       "3   96   pca_pr             6.642238\n",
       "4   66   pca_pr             4.473479"
      ]
     },
     "execution_count": 43,
     "metadata": {},
     "output_type": "execute_result"
    }
   ],
   "source": [
    "# load slr scenario results for plotting\n",
    "data = pd.read_csv(os.path.join(workspace, 'results' + datestamp + '.csv'))\n",
    "data.columns = ['scenario', 'pca', 'bpad', 'natural_lands', 'pca_pr', 'bpad_pr', 'natural_lands_pr', 'TWL']\n",
    "df = data.melt(id_vars='TWL', value_vars=['pca_pr', 'bpad_pr', 'natural_lands_pr'], \\\n",
    "          value_name='percent_pud_exposed')\n",
    "df['variable'] = pd.Categorical(df['variable'], categories=['pca_pr', 'bpad_pr', 'natural_lands_pr'])\n",
    "df.head()"
   ]
  },
  {
   "cell_type": "code",
   "execution_count": 44,
   "metadata": {},
   "outputs": [
    {
     "data": {
      "text/html": [
       "<div>\n",
       "<style scoped>\n",
       "    .dataframe tbody tr th:only-of-type {\n",
       "        vertical-align: middle;\n",
       "    }\n",
       "\n",
       "    .dataframe tbody tr th {\n",
       "        vertical-align: top;\n",
       "    }\n",
       "\n",
       "    .dataframe thead th {\n",
       "        text-align: right;\n",
       "    }\n",
       "</style>\n",
       "<table border=\"1\" class=\"dataframe\">\n",
       "  <thead>\n",
       "    <tr style=\"text-align: right;\">\n",
       "      <th></th>\n",
       "      <th>scenario</th>\n",
       "      <th>pca</th>\n",
       "      <th>bpad</th>\n",
       "      <th>nlcd</th>\n",
       "      <th>pca_pr</th>\n",
       "      <th>bpad_pr</th>\n",
       "      <th>nlcd_pr</th>\n",
       "    </tr>\n",
       "  </thead>\n",
       "  <tbody>\n",
       "    <tr>\n",
       "      <th>0</th>\n",
       "      <td>fema500</td>\n",
       "      <td>24366</td>\n",
       "      <td>35990</td>\n",
       "      <td>39104</td>\n",
       "      <td>20.200295</td>\n",
       "      <td>14.638888</td>\n",
       "      <td>27.849273</td>\n",
       "    </tr>\n",
       "    <tr>\n",
       "      <th>1</th>\n",
       "      <td>fema100</td>\n",
       "      <td>20236</td>\n",
       "      <td>30992</td>\n",
       "      <td>31405</td>\n",
       "      <td>16.776376</td>\n",
       "      <td>12.605958</td>\n",
       "      <td>22.366163</td>\n",
       "    </tr>\n",
       "  </tbody>\n",
       "</table>\n",
       "</div>"
      ],
      "text/plain": [
       "  scenario    pca   bpad   nlcd     pca_pr    bpad_pr    nlcd_pr\n",
       "0  fema500  24366  35990  39104  20.200295  14.638888  27.849273\n",
       "1  fema100  20236  30992  31405  16.776376  12.605958  22.366163"
      ]
     },
     "execution_count": 44,
     "metadata": {},
     "output_type": "execute_result"
    }
   ],
   "source": [
    "# load fema scenario results for plotting\n",
    "fema = pd.read_csv(os.path.join(workspace, 'results_fema' + datestamp + '.csv'))\n",
    "fema.head()"
   ]
  },
  {
   "cell_type": "code",
   "execution_count": 45,
   "metadata": {},
   "outputs": [],
   "source": [
    "cat_colors = ['#B9ED29', '#44B1AC', '#EB922D']"
   ]
  },
  {
   "cell_type": "code",
   "execution_count": 46,
   "metadata": {},
   "outputs": [],
   "source": [
    "# plot = gg.ggplot(df[df['TWL'] != 0], gg.aes(x='TWL', y='percent_pud_exposed', fill='variable')) +\\\n",
    "# gg.geom_bar(stat='identity', position='dodge', width=4) +\\\n",
    "# gg.scale_x_continuous(breaks=df[df['TWL'] != 0]['TWL']) +\\\n",
    "# gg.scale_fill_manual(values=cat_colors) +\\\n",
    "# gg.theme_classic()\n",
    "\n",
    "# plotpath = os.path.join(workspace, 'rec_barplot.png')\n",
    "# plot.save(filename=plotpath, width=10, height=6)"
   ]
  },
  {
   "cell_type": "code",
   "execution_count": 47,
   "metadata": {},
   "outputs": [],
   "source": [
    "# from IPython.display import Image\n",
    "# Image(plotpath)"
   ]
  },
  {
   "cell_type": "code",
   "execution_count": 48,
   "metadata": {},
   "outputs": [
    {
     "name": "stderr",
     "output_type": "stream",
     "text": [
      "/home/dmf/miniconda3/envs/geowork2/lib/python2.7/site-packages/plotnine/ggplot.py:688: UserWarning: Saving 10 x 6 in image.\n",
      "  from_inches(height, units), units))\n",
      "/home/dmf/miniconda3/envs/geowork2/lib/python2.7/site-packages/plotnine/ggplot.py:689: UserWarning: Filename: ../data/bcdc_slr_regional_rec/rec_lineplot.png\n",
      "  warn('Filename: {}'.format(filename))\n"
     ]
    }
   ],
   "source": [
    "plot = gg.ggplot(df[df['TWL'] != 0], gg.aes(x='TWL', y='percent_pud_exposed', fill='variable')) +\\\n",
    "gg.geom_line(gg.aes(color='variable')) +\\\n",
    "gg.geom_point(size=5, stroke=0.25) +\\\n",
    "gg.scale_x_continuous(breaks=df[df['TWL'] != 0]['TWL']) +\\\n",
    "gg.scale_fill_manual(values=cat_colors) +\\\n",
    "gg.scale_color_manual(values=cat_colors) +\\\n",
    "gg.theme_classic() +\\\n",
    "gg.theme(axis_text=gg.element_text(size=12), axis_title=gg.element_text(size=14))\n",
    "\n",
    "plotpath = os.path.join(workspace, 'rec_lineplot.png')\n",
    "plot.save(filename=plotpath, width=10, height=6)"
   ]
  },
  {
   "cell_type": "code",
   "execution_count": 49,
   "metadata": {},
   "outputs": [
    {
     "data": {
      "image/png": "[encoded data removed]",
      "text/plain": [
       "<IPython.core.display.Image object>"
      ]
     },
     "execution_count": 49,
     "metadata": {},
     "output_type": "execute_result"
    }
   ],
   "source": [
    "from IPython.display import Image\n",
    "Image(plotpath)"
   ]
  },
  {
   "cell_type": "code",
   "execution_count": 50,
   "metadata": {},
   "outputs": [],
   "source": [
    "df = data.melt(id_vars='TWL', value_vars=['pca', 'bpad', 'natural_lands'], \\\n",
    "          value_name='total_pud_exposed')\n",
    "df['variable'] = pd.Categorical(df['variable'], categories=['pca', 'bpad', 'natural_lands'])"
   ]
  },
  {
   "cell_type": "code",
   "execution_count": 51,
   "metadata": {},
   "outputs": [
    {
     "name": "stderr",
     "output_type": "stream",
     "text": [
      "/home/dmf/miniconda3/envs/geowork2/lib/python2.7/site-packages/plotnine/ggplot.py:689: UserWarning: Filename: ../data/bcdc_slr_regional_rec/rec_lineplot_totals.png\n",
      "  warn('Filename: {}'.format(filename))\n"
     ]
    }
   ],
   "source": [
    "plot = gg.ggplot(df[df['TWL'] != 0], gg.aes(x='TWL', y='total_pud_exposed', fill='variable')) +\\\n",
    "gg.geom_line(gg.aes(color='variable')) +\\\n",
    "gg.geom_point(size=5, stroke=0.25) +\\\n",
    "gg.scale_x_continuous(breaks=df[df['TWL'] != 0]['TWL']) +\\\n",
    "gg.scale_fill_manual(values=cat_colors) +\\\n",
    "gg.scale_color_manual(values=cat_colors) +\\\n",
    "gg.theme_classic() +\\\n",
    "gg.theme(axis_text=gg.element_text(size=12), axis_title=gg.element_text(size=14))\n",
    "\n",
    "plotpath = os.path.join(workspace, 'rec_lineplot_totals.png')\n",
    "plot.save(filename=plotpath, width=10, height=6)"
   ]
  },
  {
   "cell_type": "code",
   "execution_count": 52,
   "metadata": {},
   "outputs": [
    {
     "data": {
      "image/png": "[encoded data removed]",
      "text/plain": [
       "<IPython.core.display.Image object>"
      ]
     },
     "execution_count": 52,
     "metadata": {},
     "output_type": "execute_result"
    }
   ],
   "source": [
    "from IPython.display import Image\n",
    "Image(plotpath)"
   ]
  },
  {
   "cell_type": "code",
   "execution_count": null,
   "metadata": {},
   "outputs": [],
   "source": []
  }
 ],
 "metadata": {
  "celltoolbar": "Slideshow",
  "kernelspec": {
   "display_name": "Python [conda env:geowork2]",
   "language": "python",
   "name": "conda-env-geowork2-py"
  },
  "language_info": {
   "codemirror_mode": {
    "name": "ipython",
    "version": 2
   },
   "file_extension": ".py",
   "mimetype": "text/x-python",
   "name": "python",
   "nbconvert_exporter": "python",
   "pygments_lexer": "ipython2",
   "version": "2.7.14"
  }
 },
 "nbformat": 4,
 "nbformat_minor": 2
}
