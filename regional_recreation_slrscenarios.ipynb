{
 "cells": [
  {
   "cell_type": "markdown",
   "metadata": {},
   "source": [
    "## Measuring regional outdoor recreation in the Bay Area using social media, in 3 different categories of land:  \n",
    "1. Priority Conservation Areas (PCAs),\n",
    "2. Protected Areas (Bay Area Protected Areas Database - BPAD) \n",
    "3. Natural landcover types (NLCD)\n",
    "\n",
    "### And summarizing how much of the recreation in each category is exposed to sea-level rise, based on 10 different SLR scenarios."
   ]
  },
  {
   "cell_type": "markdown",
   "metadata": {},
   "source": [
    "This workflow depends on results from:\n",
    "    * slr_rasters_align.py\n",
    "    * userdays_rasteraoi.r\n",
    "    * pud_rasterize.py"
   ]
  },
  {
   "cell_type": "code",
   "execution_count": 1,
   "metadata": {},
   "outputs": [],
   "source": [
    "import numpy as np\n",
    "from osgeo import gdal\n",
    "gdal.UseExceptions()\n",
    "import pygeoprocessing.geoprocessing as pgp\n",
    "import os\n",
    "import glob\n",
    "import pandas as pd"
   ]
  },
  {
   "cell_type": "code",
   "execution_count": 2,
   "metadata": {},
   "outputs": [],
   "source": [
    "workspace = '../data/bcdc_slr_regional_rec'"
   ]
  },
  {
   "cell_type": "code",
   "execution_count": 4,
   "metadata": {},
   "outputs": [],
   "source": [
    "def raster2array(raster_uri):\n",
    "    '''\n",
    "    helper function to go straight from raster filename to 2-d numpy array\n",
    "    '''\n",
    "    src = gdal.Open(raster_uri)\n",
    "    band1 = src.GetRasterBand(1)\n",
    "    rows = src.RasterYSize\n",
    "    cols = src.RasterXSize\n",
    "    arr = band1.ReadAsArray(0, 0, cols, rows)\n",
    "    return(arr)"
   ]
  },
  {
   "cell_type": "markdown",
   "metadata": {},
   "source": [
    "### All datasources will be rasterized and aligned to the 30m NLCD grid"
   ]
  },
  {
   "cell_type": "code",
   "execution_count": 3,
   "metadata": {},
   "outputs": [],
   "source": [
    "nlcd_uri = '../data/bcdc_othernaturalareas/NaturalAreas_ForDave/nlcd_nodevt_utm.tif'\n",
    "nlcd_src = gdal.Open(nlcd_uri)"
   ]
  },
  {
   "cell_type": "code",
   "execution_count": 5,
   "metadata": {},
   "outputs": [],
   "source": [
    "# PUD raster created by pud_rasterize.py\n",
    "pud_uri = '../data/flickr/nlcd_grid_pud/pud_nlcdgrid.tif'\n",
    "pud = raster2array(pud_uri)"
   ]
  },
  {
   "cell_type": "code",
   "execution_count": null,
   "metadata": {},
   "outputs": [],
   "source": [
    "# pgp.new_raster_from_base(nlcd_uri, base_uri, gdal.GDT_Int16, [99], [0])"
   ]
  },
  {
   "cell_type": "markdown",
   "metadata": {},
   "source": [
    "#### Load AOIs and burn them onto a grid based on the NLCD raster"
   ]
  },
  {
   "cell_type": "code",
   "execution_count": 11,
   "metadata": {},
   "outputs": [],
   "source": [
    "# BPAD \n",
    "bpad_uri = os.path.join(workspace, 'bpad.tif')\n",
    "## only need to repeat this if the AOI changes\n",
    "# pgp.new_raster_from_base(nlcd_uri, bpad_uri, gdal.GDT_Int16, [99], [0])\n",
    "# shp_uri = '../data/bcdc_othernaturalareas/NaturalAreas_ForDave/BayAreaProtectedLands_utm.shp'\n",
    "# pgp.rasterize(shp_uri, bpad_uri, [1], None)"
   ]
  },
  {
   "cell_type": "code",
   "execution_count": 12,
   "metadata": {},
   "outputs": [],
   "source": [
    "# PCA -- only need to repeat this if the AOI changes\n",
    "pca_uri = os.path.join(workspace, 'pca.tif')\n",
    "## only need to repeat this if the AOI changes\n",
    "# pgp.new_raster_from_base(nlcd_uri, pca_uri, gdal.GDT_Int16, [99], [0])\n",
    "# shp_uri = '../data/pca/shapefiles/Priority_Conservation_Areas_current.shp'\n",
    "# pgp.rasterize(shp_uri, pca_uri, [1], None)"
   ]
  },
  {
   "cell_type": "markdown",
   "metadata": {},
   "source": [
    "#### read AOIs as 2d arrays for querying"
   ]
  },
  {
   "cell_type": "code",
   "execution_count": 9,
   "metadata": {},
   "outputs": [],
   "source": [
    "# Natural Lands - make 2d array 0s and 1s where 1s are all lulc classes other than development\n",
    "# in the original datasource, development lulc's have already been assigned nodata\n",
    "band1 = nlcd_src.GetRasterBand(1)\n",
    "nodata = band1.GetNoDataValue()\n",
    "rows = nlcd_src.RasterYSize\n",
    "cols = nlcd_src.RasterXSize\n",
    "vals = band1.ReadAsArray(0, 0, cols, rows)\n",
    "nlcd = np.ones_like(vals)\n",
    "nlcd[vals == nodata] = 0"
   ]
  },
  {
   "cell_type": "code",
   "execution_count": 13,
   "metadata": {},
   "outputs": [],
   "source": [
    "bpad = raster2array(bpad_uri)\n",
    "pca = raster2array(pca_uri)"
   ]
  },
  {
   "cell_type": "code",
   "execution_count": 14,
   "metadata": {},
   "outputs": [
    {
     "data": {
      "text/plain": [
       "True"
      ]
     },
     "execution_count": 14,
     "metadata": {},
     "output_type": "execute_result"
    }
   ],
   "source": [
    "nlcd.shape == bpad.shape == pca.shape == pud.shape"
   ]
  },
  {
   "cell_type": "markdown",
   "metadata": {},
   "source": [
    "## Count the photo-user-days across all grid cells included in combinations of the AOIs and SLR scenarios. \n",
    "\n",
    "#### All calculations exclude developed areas (based on lulc development classes)"
   ]
  },
  {
   "cell_type": "markdown",
   "metadata": {},
   "source": [
    "### small example of how these 'presence/absence' arrays are used to count PUDs:"
   ]
  },
  {
   "cell_type": "code",
   "execution_count": 94,
   "metadata": {},
   "outputs": [],
   "source": [
    "## setting up some toy datasets\n",
    "np.random.seed(0)\n",
    "b = np.zeros((5,5)).astype(int)\n",
    "b[:5,:2] = 1\n",
    "p = np.zeros((5,5)).astype(int)\n",
    "p[:2,:3] = 1\n",
    "s = np.zeros((5,5)).astype(int)\n",
    "s[[0,4],:5] = 1\n",
    "u = np.flip(np.random.poisson(size=25).astype(int).reshape(5, 5), 0)"
   ]
  },
  {
   "cell_type": "code",
   "execution_count": 95,
   "metadata": {},
   "outputs": [
    {
     "data": {
      "text/plain": [
       "array([[1, 1, 0, 0, 0],\n",
       "       [1, 1, 0, 0, 0],\n",
       "       [1, 1, 0, 0, 0],\n",
       "       [1, 1, 0, 0, 0],\n",
       "       [1, 1, 0, 0, 0]])"
      ]
     },
     "execution_count": 95,
     "metadata": {},
     "output_type": "execute_result"
    }
   ],
   "source": [
    "b # could be presence of the BPAD network:"
   ]
  },
  {
   "cell_type": "code",
   "execution_count": 96,
   "metadata": {},
   "outputs": [
    {
     "data": {
      "text/plain": [
       "array([[1, 1, 1, 0, 0],\n",
       "       [1, 1, 1, 0, 0],\n",
       "       [0, 0, 0, 0, 0],\n",
       "       [0, 0, 0, 0, 0],\n",
       "       [0, 0, 0, 0, 0]])"
      ]
     },
     "execution_count": 96,
     "metadata": {},
     "output_type": "execute_result"
    }
   ],
   "source": [
    "p # could be presence of the PCA network:"
   ]
  },
  {
   "cell_type": "code",
   "execution_count": 97,
   "metadata": {},
   "outputs": [
    {
     "data": {
      "text/plain": [
       "array([[1, 1, 1, 1, 1],\n",
       "       [0, 0, 0, 0, 0],\n",
       "       [0, 0, 0, 0, 0],\n",
       "       [0, 0, 0, 0, 0],\n",
       "       [1, 1, 1, 1, 1]])"
      ]
     },
     "execution_count": 97,
     "metadata": {},
     "output_type": "execute_result"
    }
   ],
   "source": [
    "s # could be presence of SLR inundation from one scenario"
   ]
  },
  {
   "cell_type": "code",
   "execution_count": 98,
   "metadata": {},
   "outputs": [
    {
     "data": {
      "text/plain": [
       "array([[0, 0, 0, 1, 1],\n",
       "       [2, 2, 1, 0, 2],\n",
       "       [1, 2, 0, 1, 1],\n",
       "       [1, 0, 0, 5, 1],\n",
       "       [2, 1, 1, 2, 2]])"
      ]
     },
     "execution_count": 98,
     "metadata": {},
     "output_type": "execute_result"
    }
   ],
   "source": [
    "u # could be PUD values to count"
   ]
  },
  {
   "cell_type": "markdown",
   "metadata": {},
   "source": [
    "#### How many PUDs inside PCA network and exposed to inundation?"
   ]
  },
  {
   "cell_type": "code",
   "execution_count": 91,
   "metadata": {},
   "outputs": [
    {
     "name": "stdout",
     "output_type": "stream",
     "text": [
      "[[ True  True  True False False]\n",
      " [False False False False False]\n",
      " [False False False False False]\n",
      " [False False False False False]\n",
      " [False False False False False]]\n"
     ]
    },
    {
     "data": {
      "text/plain": [
       "0"
      ]
     },
     "execution_count": 91,
     "metadata": {},
     "output_type": "execute_result"
    }
   ],
   "source": [
    "print((p == 1) & (s == 1))\n",
    "np.sum(u[(p == 1) & (s == 1)])"
   ]
  },
  {
   "cell_type": "markdown",
   "metadata": {},
   "source": [
    "#### How many PUDs inside BPAD, outside of PCAs, and exposed to inundation?"
   ]
  },
  {
   "cell_type": "code",
   "execution_count": 93,
   "metadata": {},
   "outputs": [
    {
     "name": "stdout",
     "output_type": "stream",
     "text": [
      "[[False False False False False]\n",
      " [False False False False False]\n",
      " [False False False False False]\n",
      " [False False False False False]\n",
      " [ True  True False False False]]\n"
     ]
    },
    {
     "data": {
      "text/plain": [
       "3"
      ]
     },
     "execution_count": 93,
     "metadata": {},
     "output_type": "execute_result"
    }
   ],
   "source": [
    "print((b == 1) & (p == 0) & (s == 1))\n",
    "np.sum(u[(b == 1) & (p == 0) & (s == 1)])"
   ]
  },
  {
   "cell_type": "markdown",
   "metadata": {},
   "source": [
    "### Now the real thing  \n",
    "The nlcd grid is always used to exclude areas previously classified as development, and other areas with nodata"
   ]
  },
  {
   "cell_type": "code",
   "execution_count": 99,
   "metadata": {},
   "outputs": [],
   "source": [
    "slr_rasters = glob.glob('../data/pca/bcdc_slr/raster/aligned/Inundate*.tif')"
   ]
  },
  {
   "cell_type": "code",
   "execution_count": 100,
   "metadata": {},
   "outputs": [
    {
     "name": "stdout",
     "output_type": "stream",
     "text": [
      "../data/pca/bcdc_slr/raster/aligned/Inundate_66.tif\n",
      "../data/pca/bcdc_slr/raster/aligned/Inundate_77.tif\n",
      "../data/pca/bcdc_slr/raster/aligned/Inundate_12.tif\n",
      "../data/pca/bcdc_slr/raster/aligned/Inundate_52.tif\n",
      "../data/pca/bcdc_slr/raster/aligned/Inundate_108.tif\n",
      "../data/pca/bcdc_slr/raster/aligned/Inundate_96.tif\n",
      "../data/pca/bcdc_slr/raster/aligned/Inundate_48.tif\n",
      "../data/pca/bcdc_slr/raster/aligned/Inundate_24.tif\n",
      "../data/pca/bcdc_slr/raster/aligned/Inundate_36.tif\n",
      "../data/pca/bcdc_slr/raster/aligned/Inundate_84.tif\n"
     ]
    }
   ],
   "source": [
    "# In PCA network, by SLR scenario\n",
    "pca_slr = {}\n",
    "\n",
    "for slr_uri in slr_rasters:\n",
    "    print(slr_uri)\n",
    "    slr = raster2array(slr_uri)\n",
    "    assert pud.shape == nlcd.shape == pca.shape == slr.shape\n",
    "    puds = np.sum(pud[(nlcd == 1) & \\\n",
    "                      (pca == 1) & \\\n",
    "                      (slr == 1)])\n",
    "    pca_slr[os.path.basename(slr_uri)] = puds\n",
    "    \n",
    "puds_slr0 = np.sum(pud[(nlcd == 1) & \\\n",
    "                      (pca == 1)])\n",
    "pca_slr['Inundate_0'] = puds_slr0"
   ]
  },
  {
   "cell_type": "code",
   "execution_count": 101,
   "metadata": {},
   "outputs": [
    {
     "name": "stdout",
     "output_type": "stream",
     "text": [
      "../data/pca/bcdc_slr/raster/aligned/Inundate_66.tif\n",
      "../data/pca/bcdc_slr/raster/aligned/Inundate_77.tif\n",
      "../data/pca/bcdc_slr/raster/aligned/Inundate_12.tif\n",
      "../data/pca/bcdc_slr/raster/aligned/Inundate_52.tif\n",
      "../data/pca/bcdc_slr/raster/aligned/Inundate_108.tif\n",
      "../data/pca/bcdc_slr/raster/aligned/Inundate_96.tif\n",
      "../data/pca/bcdc_slr/raster/aligned/Inundate_48.tif\n",
      "../data/pca/bcdc_slr/raster/aligned/Inundate_24.tif\n",
      "../data/pca/bcdc_slr/raster/aligned/Inundate_36.tif\n",
      "../data/pca/bcdc_slr/raster/aligned/Inundate_84.tif\n"
     ]
    }
   ],
   "source": [
    "# In BPAD network and not in PCA network, by SLR scenario\n",
    "bpad_slr = {}\n",
    "\n",
    "for slr_uri in slr_rasters:\n",
    "    print(slr_uri)\n",
    "    slr = raster2array(slr_uri)\n",
    "    assert pud.shape == nlcd.shape == pca.shape == slr.shape\n",
    "    puds = np.sum(pud[(nlcd == 1) & \\\n",
    "                      (bpad == 1) & \\\n",
    "                      (slr == 1) & \\\n",
    "                      (pca == 0)])\n",
    "    bpad_slr[os.path.basename(slr_uri)] = puds\n",
    "        \n",
    "puds_slr0 = np.sum(pud[(nlcd == 1) & \\\n",
    "                      (bpad == 1) & \\\n",
    "                      (pca == 0)])\n",
    "bpad_slr['Inundate_0'] = puds_slr0"
   ]
  },
  {
   "cell_type": "code",
   "execution_count": 102,
   "metadata": {},
   "outputs": [
    {
     "name": "stdout",
     "output_type": "stream",
     "text": [
      "../data/pca/bcdc_slr/raster/aligned/Inundate_66.tif\n",
      "../data/pca/bcdc_slr/raster/aligned/Inundate_77.tif\n",
      "../data/pca/bcdc_slr/raster/aligned/Inundate_12.tif\n",
      "../data/pca/bcdc_slr/raster/aligned/Inundate_52.tif\n",
      "../data/pca/bcdc_slr/raster/aligned/Inundate_108.tif\n",
      "../data/pca/bcdc_slr/raster/aligned/Inundate_96.tif\n",
      "../data/pca/bcdc_slr/raster/aligned/Inundate_48.tif\n",
      "../data/pca/bcdc_slr/raster/aligned/Inundate_24.tif\n",
      "../data/pca/bcdc_slr/raster/aligned/Inundate_36.tif\n",
      "../data/pca/bcdc_slr/raster/aligned/Inundate_84.tif\n"
     ]
    }
   ],
   "source": [
    "# In Natural Lands and not in BPAD and PCA networks, by SLR scenario\n",
    "nlcd_slr = {}\n",
    "\n",
    "for slr_uri in slr_rasters:\n",
    "    print(slr_uri)\n",
    "    slr = raster2array(slr_uri)\n",
    "    assert pud.shape == nlcd.shape == pca.shape == slr.shape\n",
    "    puds = np.sum(pud[(nlcd == 1) & \\\n",
    "                      (slr == 1) & \\\n",
    "                      (pca == 0) & \\\n",
    "                      (bpad == 0)])\n",
    "    \n",
    "    nlcd_slr[os.path.basename(slr_uri)] = puds\n",
    "    \n",
    "puds_slr0 = np.sum(pud[(nlcd == 1) & \\\n",
    "                      (pca == 0) & \\\n",
    "                      (bpad == 0)])\n",
    "nlcd_slr['Inundate_0'] = puds_slr0"
   ]
  },
  {
   "cell_type": "markdown",
   "metadata": {},
   "source": [
    "## Compile results"
   ]
  },
  {
   "cell_type": "code",
   "execution_count": 103,
   "metadata": {},
   "outputs": [],
   "source": [
    "pca_df = pd.DataFrame(pca_slr.items(), columns=['scenario', 'pca'])\n",
    "bpad_df = pd.DataFrame(bpad_slr.items(), columns=['scenario', 'bpad'])\n",
    "nlcd_df = pd.DataFrame(nlcd_slr.items(), columns=['scenario', 'nlcd'])"
   ]
  },
  {
   "cell_type": "code",
   "execution_count": 104,
   "metadata": {},
   "outputs": [],
   "source": [
    "results = pd.merge(pd.merge(pca_df, bpad_df, on='scenario'), nlcd_df, on='scenario')"
   ]
  },
  {
   "cell_type": "code",
   "execution_count": 105,
   "metadata": {},
   "outputs": [
    {
     "name": "stderr",
     "output_type": "stream",
     "text": [
      "/home/dmf/miniconda3/envs/geowork2/lib/python2.7/site-packages/ipykernel/__main__.py:1: FutureWarning: currently extract(expand=None) means expand=False (return Index/Series/DataFrame) but in a future version of pandas this will be changed to expand=True (return DataFrame)\n",
      "  if __name__ == '__main__':\n"
     ]
    }
   ],
   "source": [
    "results['slr_inches'] = pd.to_numeric(results['scenario'].str.extract('([0-9]?[0-9]?[0-9])'))"
   ]
  },
  {
   "cell_type": "code",
   "execution_count": 106,
   "metadata": {},
   "outputs": [
    {
     "data": {
      "text/html": [
       "<div>\n",
       "<style>\n",
       "    .dataframe thead tr:only-child th {\n",
       "        text-align: right;\n",
       "    }\n",
       "\n",
       "    .dataframe thead th {\n",
       "        text-align: left;\n",
       "    }\n",
       "\n",
       "    .dataframe tbody tr th {\n",
       "        vertical-align: top;\n",
       "    }\n",
       "</style>\n",
       "<table border=\"1\" class=\"dataframe\">\n",
       "  <thead>\n",
       "    <tr style=\"text-align: right;\">\n",
       "      <th></th>\n",
       "      <th>scenario</th>\n",
       "      <th>pca</th>\n",
       "      <th>bpad</th>\n",
       "      <th>nlcd</th>\n",
       "      <th>slr_inches</th>\n",
       "    </tr>\n",
       "  </thead>\n",
       "  <tbody>\n",
       "    <tr>\n",
       "      <th>2</th>\n",
       "      <td>Inundate_0</td>\n",
       "      <td>120622</td>\n",
       "      <td>245852</td>\n",
       "      <td>140413</td>\n",
       "      <td>0</td>\n",
       "    </tr>\n",
       "    <tr>\n",
       "      <th>10</th>\n",
       "      <td>Inundate_12.tif</td>\n",
       "      <td>1332</td>\n",
       "      <td>3364</td>\n",
       "      <td>4274</td>\n",
       "      <td>12</td>\n",
       "    </tr>\n",
       "    <tr>\n",
       "      <th>7</th>\n",
       "      <td>Inundate_24.tif</td>\n",
       "      <td>3079</td>\n",
       "      <td>4381</td>\n",
       "      <td>5615</td>\n",
       "      <td>24</td>\n",
       "    </tr>\n",
       "    <tr>\n",
       "      <th>0</th>\n",
       "      <td>Inundate_36.tif</td>\n",
       "      <td>3469</td>\n",
       "      <td>6871</td>\n",
       "      <td>6974</td>\n",
       "      <td>36</td>\n",
       "    </tr>\n",
       "    <tr>\n",
       "      <th>1</th>\n",
       "      <td>Inundate_48.tif</td>\n",
       "      <td>4945</td>\n",
       "      <td>8189</td>\n",
       "      <td>9022</td>\n",
       "      <td>48</td>\n",
       "    </tr>\n",
       "    <tr>\n",
       "      <th>9</th>\n",
       "      <td>Inundate_52.tif</td>\n",
       "      <td>5037</td>\n",
       "      <td>8736</td>\n",
       "      <td>10383</td>\n",
       "      <td>52</td>\n",
       "    </tr>\n",
       "    <tr>\n",
       "      <th>4</th>\n",
       "      <td>Inundate_66.tif</td>\n",
       "      <td>5396</td>\n",
       "      <td>16157</td>\n",
       "      <td>14624</td>\n",
       "      <td>66</td>\n",
       "    </tr>\n",
       "    <tr>\n",
       "      <th>5</th>\n",
       "      <td>Inundate_77.tif</td>\n",
       "      <td>7767</td>\n",
       "      <td>17554</td>\n",
       "      <td>20666</td>\n",
       "      <td>77</td>\n",
       "    </tr>\n",
       "    <tr>\n",
       "      <th>6</th>\n",
       "      <td>Inundate_84.tif</td>\n",
       "      <td>7883</td>\n",
       "      <td>18493</td>\n",
       "      <td>21556</td>\n",
       "      <td>84</td>\n",
       "    </tr>\n",
       "    <tr>\n",
       "      <th>3</th>\n",
       "      <td>Inundate_96.tif</td>\n",
       "      <td>8012</td>\n",
       "      <td>19743</td>\n",
       "      <td>23717</td>\n",
       "      <td>96</td>\n",
       "    </tr>\n",
       "    <tr>\n",
       "      <th>8</th>\n",
       "      <td>Inundate_108.tif</td>\n",
       "      <td>8143</td>\n",
       "      <td>20796</td>\n",
       "      <td>24779</td>\n",
       "      <td>108</td>\n",
       "    </tr>\n",
       "  </tbody>\n",
       "</table>\n",
       "</div>"
      ],
      "text/plain": [
       "            scenario     pca    bpad    nlcd  slr_inches\n",
       "2         Inundate_0  120622  245852  140413           0\n",
       "10   Inundate_12.tif    1332    3364    4274          12\n",
       "7    Inundate_24.tif    3079    4381    5615          24\n",
       "0    Inundate_36.tif    3469    6871    6974          36\n",
       "1    Inundate_48.tif    4945    8189    9022          48\n",
       "9    Inundate_52.tif    5037    8736   10383          52\n",
       "4    Inundate_66.tif    5396   16157   14624          66\n",
       "5    Inundate_77.tif    7767   17554   20666          77\n",
       "6    Inundate_84.tif    7883   18493   21556          84\n",
       "3    Inundate_96.tif    8012   19743   23717          96\n",
       "8   Inundate_108.tif    8143   20796   24779         108"
      ]
     },
     "execution_count": 106,
     "metadata": {},
     "output_type": "execute_result"
    }
   ],
   "source": [
    "results.sort_values(by='slr_inches')"
   ]
  },
  {
   "cell_type": "code",
   "execution_count": 107,
   "metadata": {},
   "outputs": [],
   "source": [
    "results.to_csv(os.path.join(workspace, 'results.csv'))"
   ]
  },
  {
   "cell_type": "markdown",
   "metadata": {},
   "source": [
    "## Make plots"
   ]
  },
  {
   "cell_type": "code",
   "execution_count": 142,
   "metadata": {},
   "outputs": [],
   "source": [
    "import plotnine as gg\n",
    "import matplotlib as mpl\n",
    "mpl.rcParams[\"figure.figsize\"] = \"11, 8\"\n",
    "\n",
    "workspace = '../data/bcdc_slr_regional_rec'"
   ]
  },
  {
   "cell_type": "code",
   "execution_count": 110,
   "metadata": {},
   "outputs": [],
   "source": [
    "data = pd.read_csv(os.path.join(workspace, 'results.csv'))"
   ]
  },
  {
   "cell_type": "code",
   "execution_count": 136,
   "metadata": {},
   "outputs": [],
   "source": [
    "df = data.melt(id_vars='slr_inches', value_vars=['pca', 'bpad', 'nlcd'])"
   ]
  },
  {
   "cell_type": "code",
   "execution_count": 134,
   "metadata": {},
   "outputs": [],
   "source": [
    "# df['slr_inches'] = df['slr_inches'].astype('str')"
   ]
  },
  {
   "cell_type": "code",
   "execution_count": 148,
   "metadata": {},
   "outputs": [
    {
     "data": {
      "image/png": "[encoded data removed]",
      "text/plain": [
       "<matplotlib.figure.Figure at 0x7f5e017ffd10>"
      ]
     },
     "metadata": {},
     "output_type": "display_data"
    },
    {
     "data": {
      "text/plain": [
       "<ggplot: (8752608069677)>"
      ]
     },
     "execution_count": 148,
     "metadata": {},
     "output_type": "execute_result"
    }
   ],
   "source": [
    "gg.ggplot(df, gg.aes(x='slr_inches', y='value', fill='variable')) +\\\n",
    "gg.geom_bar(stat='identity', position='dodge', width=5) +\\\n",
    "gg.theme_seaborn(context='notebook')"
   ]
  },
  {
   "cell_type": "code",
   "execution_count": null,
   "metadata": {},
   "outputs": [],
   "source": []
  }
 ],
 "metadata": {
  "kernelspec": {
   "display_name": "Python [conda env:geowork2]",
   "language": "python",
   "name": "conda-env-geowork2-py"
  },
  "language_info": {
   "codemirror_mode": {
    "name": "ipython",
    "version": 2
   },
   "file_extension": ".py",
   "mimetype": "text/x-python",
   "name": "python",
   "nbconvert_exporter": "python",
   "pygments_lexer": "ipython2",
   "version": "2.7.14"
  }
 },
 "nbformat": 4,
 "nbformat_minor": 2
}
