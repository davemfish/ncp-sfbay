{
 "cells": [
  {
   "cell_type": "code",
   "execution_count": 1,
   "metadata": {},
   "outputs": [],
   "source": [
    "import numpy as np\n",
    "from osgeo import gdal\n",
    "gdal.UseExceptions()\n",
    "import pygeoprocessing.geoprocessing as pgp\n",
    "import os\n",
    "import glob"
   ]
  },
  {
   "cell_type": "code",
   "execution_count": 3,
   "metadata": {},
   "outputs": [],
   "source": [
    "nlcd_uri = '../data/bcdc_othernaturalareas/NaturalAreas_ForDave/nlcd_nodevt_utm.tif'\n",
    "# nlcd_src = gdal.Open(nlcd_uri)"
   ]
  },
  {
   "cell_type": "markdown",
   "metadata": {},
   "source": [
    "## Load SLR rasters, convert to 0s and 1s, align to base pixels, pad extents to match shape of base"
   ]
  },
  {
   "cell_type": "code",
   "execution_count": 57,
   "metadata": {},
   "outputs": [],
   "source": [
    "def raster_to01(in_raster, out_raster):\n",
    "    '''\n",
    "    converts a raster of any datatype to Byte type with 0s replace nodata, 1s replacing all other data.\n",
    "    '''\n",
    "    print('reading 1')\n",
    "    src = gdal.Open(in_raster)\n",
    "    band1 = src.GetRasterBand(1)\n",
    "    nodata = band1.GetNoDataValue()\n",
    "    rows = src.RasterYSize\n",
    "    cols = src.RasterXSize\n",
    "    vals = band1.ReadAsArray(0, 0, cols, rows)\n",
    "    driver = src.GetDriver()\n",
    "    \n",
    "    print('assigning 0s and 1s')\n",
    "    vals01 = np.ones_like(vals)\n",
    "#     vals01[vals == nodata] = 0 # nodata was massive flt, this equality not happenin'\n",
    "    vals01[vals <= 0] = 0\n",
    "    \n",
    "    out_data = driver.Create(out_raster, cols, rows, 1, gdal.GDT_Byte)\n",
    "    out_band = out_data.GetRasterBand(1)\n",
    "\n",
    "    print('writing 1')\n",
    "    out_band.WriteArray(vals01)\n",
    "    # flush data to disk, set the NoData value and calculate stats\n",
    "    out_band.FlushCache()\n",
    "    # out_band.SetNoDataValue(nodata)\n",
    "\n",
    "    # georeference the image and set the projection\n",
    "    out_data.SetGeoTransform(src.GetGeoTransform())\n",
    "    out_data.SetProjection(src.GetProjection())\n",
    "    del out_data"
   ]
  },
  {
   "cell_type": "code",
   "execution_count": 28,
   "metadata": {},
   "outputs": [],
   "source": [
    "slr_root = '../data/pca/bcdc_slr/raster/'\n",
    "slr_names = [os.path.basename(x) for x in glob.glob(os.path.join(slr_root,'*.tif'))]\n",
    "slr_in_files = [os.path.join(slr_root, x) for x in slr_names]\n",
    "slr_out_files = [os.path.join(slr_root, 'zeros_and_ones', x) for x in slr_names]"
   ]
  },
  {
   "cell_type": "code",
   "execution_count": 58,
   "metadata": {
    "collapsed": true
   },
   "outputs": [
    {
     "name": "stdout",
     "output_type": "stream",
     "text": [
      "reading 1\n",
      "assigning 0s and 1s\n",
      "writing 1\n",
      "reading 1\n",
      "assigning 0s and 1s\n",
      "writing 1\n",
      "reading 1\n",
      "assigning 0s and 1s\n",
      "writing 1\n",
      "reading 1\n",
      "assigning 0s and 1s\n",
      "writing 1\n",
      "reading 1\n",
      "assigning 0s and 1s\n",
      "writing 1\n",
      "reading 1\n",
      "assigning 0s and 1s\n",
      "writing 1\n",
      "reading 1\n",
      "assigning 0s and 1s\n",
      "writing 1\n",
      "reading 1\n",
      "assigning 0s and 1s\n",
      "writing 1\n",
      "reading 1\n",
      "assigning 0s and 1s\n",
      "writing 1\n",
      "reading 1\n",
      "assigning 0s and 1s\n",
      "writing 1\n"
     ]
    },
    {
     "data": {
      "text/plain": [
       "[None, None, None, None, None, None, None, None, None, None]"
      ]
     },
     "execution_count": 58,
     "metadata": {},
     "output_type": "execute_result"
    }
   ],
   "source": [
    "[raster_to01(f1, f2) for f1, f2 in zip(slr_in_files, slr_out_files)]"
   ]
  },
  {
   "cell_type": "code",
   "execution_count": 59,
   "metadata": {},
   "outputs": [],
   "source": [
    "align_rasters = [nlcd_uri] + [os.path.join(slr_root, 'zeros_and_ones', x) for x in slr_names]\n",
    "target_rasters = [os.path.join(slr_root, 'aligned', 'nlcd_utm.tif')] + [os.path.join(slr_root, 'aligned', x) for x in slr_names]"
   ]
  },
  {
   "cell_type": "code",
   "execution_count": 26,
   "metadata": {},
   "outputs": [],
   "source": [
    "pixel_size = pgp.get_raster_info(nlcd_uri)['pixel_size']\n",
    "bbox = pgp.get_raster_info(nlcd_uri)['bounding_box']"
   ]
  },
  {
   "cell_type": "code",
   "execution_count": 62,
   "metadata": {},
   "outputs": [],
   "source": [
    "pgp.align_and_resize_raster_stack(align_rasters, target_rasters, \\\n",
    "                                  [\"nearest\"]*len(align_rasters), pixel_size, bbox, \\\n",
    "                                  raster_align_index=0)"
   ]
  }
 ],
 "metadata": {
  "kernelspec": {
   "display_name": "Python [conda env:geowork2]",
   "language": "python",
   "name": "conda-env-geowork2-py"
  },
  "language_info": {
   "codemirror_mode": {
    "name": "ipython",
    "version": 2
   },
   "file_extension": ".py",
   "mimetype": "text/x-python",
   "name": "python",
   "nbconvert_exporter": "python",
   "pygments_lexer": "ipython2",
   "version": "2.7.14"
  }
 },
 "nbformat": 4,
 "nbformat_minor": 2
}
