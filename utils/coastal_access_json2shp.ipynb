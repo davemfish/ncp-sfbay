{
 "cells": [
  {
   "cell_type": "code",
   "execution_count": 10,
   "metadata": {},
   "outputs": [],
   "source": [
    "import pandas as pd\n",
    "import geopandas as gpd\n",
    "from shapely.geometry import Point"
   ]
  },
  {
   "cell_type": "code",
   "execution_count": 2,
   "metadata": {},
   "outputs": [],
   "source": [
    "# json came from: https://api.coastal.ca.gov/access/v1/locations\n",
    "jsn = pd.read_json('../data/model/coastal_access/locations.json')"
   ]
  },
  {
   "cell_type": "code",
   "execution_count": 4,
   "metadata": {},
   "outputs": [
    {
     "data": {
      "text/plain": [
       "['BIKE_PATH',\n",
       " 'BLFTP_PRK',\n",
       " 'BLFTP_TRLS',\n",
       " 'BLUFF',\n",
       " 'BOATING',\n",
       " 'BT_FACIL_TYPE',\n",
       " 'Bch_whlchr',\n",
       " 'CAMPGROUND',\n",
       " 'COUNTY',\n",
       " 'CountyNum',\n",
       " 'DISTRICT',\n",
       " 'DOG_FRIENDLY',\n",
       " 'DSABLDACSS',\n",
       " 'DUNES',\n",
       " 'DescriptionMobileWeb',\n",
       " 'EZ4STROLLERS',\n",
       " 'FEE',\n",
       " 'FISHING',\n",
       " 'GEOGR_AREA',\n",
       " 'ID',\n",
       " 'LATITUDE',\n",
       " 'LIST_ORDER',\n",
       " 'LONGITUDE',\n",
       " 'LocationMobileWeb',\n",
       " 'NameMobileWeb',\n",
       " 'PARKING',\n",
       " 'PCNC_AREA',\n",
       " 'PHONE_NMBR',\n",
       " 'PTH_BEACH',\n",
       " 'Photo_1',\n",
       " 'Photo_2',\n",
       " 'Photo_3',\n",
       " 'Photo_4',\n",
       " 'RESTROOMS',\n",
       " 'RKY_SHORE',\n",
       " 'SNDY_BEACH',\n",
       " 'STRS_BEACH',\n",
       " 'TIDEPOOL',\n",
       " 'VISTOR_CTR',\n",
       " 'VOLLEYBALL',\n",
       " 'WLDLFE_VWG']"
      ]
     },
     "execution_count": 4,
     "metadata": {},
     "output_type": "execute_result"
    }
   ],
   "source": [
    "list(jsn)"
   ]
  },
  {
   "cell_type": "code",
   "execution_count": 11,
   "metadata": {},
   "outputs": [],
   "source": [
    "geom = [Point(x, y) for x, y in zip(jsn['LONGITUDE'], jsn['LATITUDE'])]"
   ]
  },
  {
   "cell_type": "code",
   "execution_count": 19,
   "metadata": {},
   "outputs": [],
   "source": [
    "geo = gpd.GeoDataFrame(jsn, geometry=geom, crs={'init':'EPSG:4326'})"
   ]
  },
  {
   "cell_type": "code",
   "execution_count": 21,
   "metadata": {},
   "outputs": [
    {
     "data": {
      "text/plain": [
       "{'init': 'EPSG:4326'}"
      ]
     },
     "execution_count": 21,
     "metadata": {},
     "output_type": "execute_result"
    }
   ],
   "source": [
    "geo.crs"
   ]
  },
  {
   "cell_type": "code",
   "execution_count": 22,
   "metadata": {},
   "outputs": [],
   "source": [
    "geo.to_file('../data/model/coastal_access/locations.shp')"
   ]
  },
  {
   "cell_type": "code",
   "execution_count": null,
   "metadata": {},
   "outputs": [],
   "source": []
  }
 ],
 "metadata": {
  "kernelspec": {
   "display_name": "Python [conda env:geowork]",
   "language": "python",
   "name": "conda-env-geowork-py"
  },
  "language_info": {
   "codemirror_mode": {
    "name": "ipython",
    "version": 3
   },
   "file_extension": ".py",
   "mimetype": "text/x-python",
   "name": "python",
   "nbconvert_exporter": "python",
   "pygments_lexer": "ipython3",
   "version": "3.6.2"
  }
 },
 "nbformat": 4,
 "nbformat_minor": 2
}
