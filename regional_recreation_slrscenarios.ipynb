{
 "cells": [
  {
   "cell_type": "code",
   "execution_count": 1,
   "metadata": {},
   "outputs": [],
   "source": [
    "import numpy as np\n",
    "from osgeo import gdal\n",
    "gdal.UseExceptions()\n",
    "import pygeoprocessing.geoprocessing as pgp\n",
    "import os\n",
    "import glob\n",
    "import pandas as pd"
   ]
  },
  {
   "cell_type": "code",
   "execution_count": 2,
   "metadata": {},
   "outputs": [],
   "source": [
    "workspace = '../data/bcdc_slr_regional_rec'\n",
    "# base_uri = os.path.join(workspace, 'base_grid.tif')"
   ]
  },
  {
   "cell_type": "code",
   "execution_count": 3,
   "metadata": {},
   "outputs": [],
   "source": [
    "nlcd_uri = '../data/bcdc_othernaturalareas/NaturalAreas_ForDave/nlcd_nodevt_utm.tif'\n",
    "nlcd_src = gdal.Open(nlcd_uri)"
   ]
  },
  {
   "cell_type": "code",
   "execution_count": 65,
   "metadata": {},
   "outputs": [],
   "source": [
    "def raster2array(raster_uri):\n",
    "    '''\n",
    "    helper function to go straight from raster filename to numpy array\n",
    "    '''\n",
    "    src = gdal.Open(raster_uri)\n",
    "    band1 = src.GetRasterBand(1)\n",
    "    rows = src.RasterYSize\n",
    "    cols = src.RasterXSize\n",
    "    arr = band1.ReadAsArray(0, 0, cols, rows)\n",
    "    return(arr)"
   ]
  },
  {
   "cell_type": "code",
   "execution_count": 69,
   "metadata": {},
   "outputs": [],
   "source": [
    "pud_uri = '../data/flickr/nlcd_grid_pud/pud_nlcdgrid.tif'\n",
    "pud = raster2array(pud_uri)"
   ]
  },
  {
   "cell_type": "code",
   "execution_count": null,
   "metadata": {},
   "outputs": [],
   "source": [
    "# pgp.new_raster_from_base(nlcd_uri, base_uri, gdal.GDT_Int16, [99], [0])"
   ]
  },
  {
   "cell_type": "markdown",
   "metadata": {},
   "source": [
    "## Load AOIs and burn them onto a standard base raster"
   ]
  },
  {
   "cell_type": "code",
   "execution_count": 4,
   "metadata": {},
   "outputs": [],
   "source": [
    "# BPAD\n",
    "bpad_uri = os.path.join(workspace, 'bpad.tif')\n",
    "pgp.new_raster_from_base(nlcd_uri, bpad_uri, gdal.GDT_Int16, [99], [0])\n",
    "shp_uri = '../data/bcdc_othernaturalareas/NaturalAreas_ForDave/BayAreaProtectedLands_utm.shp'\n",
    "pgp.rasterize(shp_uri, bpad_uri, [1], None)"
   ]
  },
  {
   "cell_type": "code",
   "execution_count": 5,
   "metadata": {},
   "outputs": [],
   "source": [
    "# PCA\n",
    "pca_uri = os.path.join(workspace, 'pca.tif')\n",
    "pgp.new_raster_from_base(nlcd_uri, pca_uri, gdal.GDT_Int16, [99], [0])\n",
    "shp_uri = '../data/pca/shapefiles/Priority_Conservation_Areas_current.shp'\n",
    "pgp.rasterize(shp_uri, pca_uri, [1], None)"
   ]
  },
  {
   "cell_type": "markdown",
   "metadata": {},
   "source": [
    "## then read AOIs as 2d arrays for querying"
   ]
  },
  {
   "cell_type": "code",
   "execution_count": 6,
   "metadata": {},
   "outputs": [],
   "source": [
    "# Natural Lands - make 2d array 0s and 1s where 1s are all lulc classes other than development\n",
    "# in the original datasource, development lulc's have already been assigned nodata\n",
    "band1 = nlcd_src.GetRasterBand(1)\n",
    "nodata = band1.GetNoDataValue()\n",
    "rows = nlcd_src.RasterYSize\n",
    "cols = nlcd_src.RasterXSize\n",
    "vals = band1.ReadAsArray(0, 0, cols, rows)\n",
    "nlcd = np.ones_like(vals)\n",
    "nlcd[vals == nodata] = 0"
   ]
  },
  {
   "cell_type": "code",
   "execution_count": 66,
   "metadata": {},
   "outputs": [],
   "source": [
    "bpad = raster2array(bpad_uri)\n",
    "pca = raster2array(pca_uri)"
   ]
  },
  {
   "cell_type": "code",
   "execution_count": 71,
   "metadata": {},
   "outputs": [
    {
     "data": {
      "text/plain": [
       "True"
      ]
     },
     "execution_count": 71,
     "metadata": {},
     "output_type": "execute_result"
    }
   ],
   "source": [
    "nlcd.shape == bpad.shape == pca.shape == pud.shape"
   ]
  },
  {
   "cell_type": "markdown",
   "metadata": {},
   "source": [
    "## Load SLR rasters, convert to 0s and 1s, align to base pixels, pad extents to match shape of base"
   ]
  },
  {
   "cell_type": "code",
   "execution_count": 57,
   "metadata": {},
   "outputs": [],
   "source": [
    "def raster_to01(in_raster, out_raster):\n",
    "    '''\n",
    "    converts a raster of any datatype to Byte type with 0s replace nodata, 1s replacing all other data.\n",
    "    '''\n",
    "    print('reading 1')\n",
    "    src = gdal.Open(in_raster)\n",
    "    band1 = src.GetRasterBand(1)\n",
    "    nodata = band1.GetNoDataValue()\n",
    "    rows = src.RasterYSize\n",
    "    cols = src.RasterXSize\n",
    "    vals = band1.ReadAsArray(0, 0, cols, rows)\n",
    "    driver = src.GetDriver()\n",
    "    \n",
    "    print('assigning 0s and 1s')\n",
    "    vals01 = np.ones_like(vals)\n",
    "#     vals01[vals == nodata] = 0 # nodata was massive flt, this equality not happenin'\n",
    "    vals01[vals <= 0] = 0\n",
    "    \n",
    "    out_data = driver.Create(out_raster, cols, rows, 1, gdal.GDT_Byte)\n",
    "    out_band = out_data.GetRasterBand(1)\n",
    "\n",
    "    print('writing 1')\n",
    "    out_band.WriteArray(vals01)\n",
    "    # flush data to disk, set the NoData value and calculate stats\n",
    "    out_band.FlushCache()\n",
    "    # out_band.SetNoDataValue(nodata)\n",
    "\n",
    "    # georeference the image and set the projection\n",
    "    out_data.SetGeoTransform(src.GetGeoTransform())\n",
    "    out_data.SetProjection(src.GetProjection())\n",
    "    del out_data"
   ]
  },
  {
   "cell_type": "code",
   "execution_count": 28,
   "metadata": {},
   "outputs": [],
   "source": [
    "slr_root = '../data/pca/bcdc_slr/raster/'\n",
    "slr_names = [os.path.basename(x) for x in glob.glob(os.path.join(slr_root,'*.tif'))]\n",
    "slr_in_files = [os.path.join(slr_root, x) for x in slr_names]\n",
    "slr_out_files = [os.path.join(slr_root, 'zeros_and_ones', x) for x in slr_names]"
   ]
  },
  {
   "cell_type": "code",
   "execution_count": 58,
   "metadata": {
    "collapsed": true
   },
   "outputs": [
    {
     "name": "stdout",
     "output_type": "stream",
     "text": [
      "reading 1\n",
      "assigning 0s and 1s\n",
      "writing 1\n",
      "reading 1\n",
      "assigning 0s and 1s\n",
      "writing 1\n",
      "reading 1\n",
      "assigning 0s and 1s\n",
      "writing 1\n",
      "reading 1\n",
      "assigning 0s and 1s\n",
      "writing 1\n",
      "reading 1\n",
      "assigning 0s and 1s\n",
      "writing 1\n",
      "reading 1\n",
      "assigning 0s and 1s\n",
      "writing 1\n",
      "reading 1\n",
      "assigning 0s and 1s\n",
      "writing 1\n",
      "reading 1\n",
      "assigning 0s and 1s\n",
      "writing 1\n",
      "reading 1\n",
      "assigning 0s and 1s\n",
      "writing 1\n",
      "reading 1\n",
      "assigning 0s and 1s\n",
      "writing 1\n"
     ]
    },
    {
     "data": {
      "text/plain": [
       "[None, None, None, None, None, None, None, None, None, None]"
      ]
     },
     "execution_count": 58,
     "metadata": {},
     "output_type": "execute_result"
    }
   ],
   "source": [
    "[raster_to01(f1, f2) for f1, f2 in zip(slr_in_files, slr_out_files)]"
   ]
  },
  {
   "cell_type": "code",
   "execution_count": 59,
   "metadata": {},
   "outputs": [],
   "source": [
    "align_rasters = [nlcd_uri] + [os.path.join(slr_root, 'zeros_and_ones', x) for x in slr_names]\n",
    "target_rasters = [os.path.join(slr_root, 'aligned', 'nlcd_utm.tif')] + [os.path.join(slr_root, 'aligned', x) for x in slr_names]"
   ]
  },
  {
   "cell_type": "code",
   "execution_count": 26,
   "metadata": {},
   "outputs": [],
   "source": [
    "pixel_size = pgp.get_raster_info(nlcd_uri)['pixel_size']\n",
    "bbox = pgp.get_raster_info(nlcd_uri)['bounding_box']"
   ]
  },
  {
   "cell_type": "code",
   "execution_count": 62,
   "metadata": {},
   "outputs": [],
   "source": [
    "pgp.align_and_resize_raster_stack(align_rasters, target_rasters, \\\n",
    "                                  [\"nearest\"]*len(align_rasters), pixel_size, bbox, \\\n",
    "                                  raster_align_index=0)"
   ]
  },
  {
   "cell_type": "markdown",
   "metadata": {},
   "source": [
    "### testing some logic on small arrays..."
   ]
  },
  {
   "cell_type": "code",
   "execution_count": 95,
   "metadata": {},
   "outputs": [],
   "source": [
    "x = np.zeros((3,3))\n",
    "x[:2,:2] = 1\n",
    "y = np.zeros((3,3))\n",
    "y[:1,:2] = 1\n",
    "w = np.zeros((3,3))\n",
    "w[0,1] = 1\n",
    "z = np.flip(np.arange(9).reshape(3, 3), 0)"
   ]
  },
  {
   "cell_type": "code",
   "execution_count": 96,
   "metadata": {},
   "outputs": [
    {
     "data": {
      "text/plain": [
       "array([[1., 1., 0.],\n",
       "       [1., 1., 0.],\n",
       "       [0., 0., 0.]])"
      ]
     },
     "execution_count": 96,
     "metadata": {},
     "output_type": "execute_result"
    }
   ],
   "source": [
    "x"
   ]
  },
  {
   "cell_type": "code",
   "execution_count": 109,
   "metadata": {},
   "outputs": [
    {
     "data": {
      "text/plain": [
       "array([[1., 1., 0.],\n",
       "       [0., 0., 0.],\n",
       "       [0., 0., 0.]])"
      ]
     },
     "execution_count": 109,
     "metadata": {},
     "output_type": "execute_result"
    }
   ],
   "source": [
    "y"
   ]
  },
  {
   "cell_type": "code",
   "execution_count": 114,
   "metadata": {},
   "outputs": [
    {
     "data": {
      "text/plain": [
       "array([[0., 1., 0.],\n",
       "       [0., 0., 0.],\n",
       "       [0., 0., 0.]])"
      ]
     },
     "execution_count": 114,
     "metadata": {},
     "output_type": "execute_result"
    }
   ],
   "source": [
    "w"
   ]
  },
  {
   "cell_type": "code",
   "execution_count": 104,
   "metadata": {},
   "outputs": [
    {
     "data": {
      "text/plain": [
       "array([[6, 7, 8],\n",
       "       [3, 4, 5],\n",
       "       [0, 1, 2]])"
      ]
     },
     "execution_count": 104,
     "metadata": {},
     "output_type": "execute_result"
    }
   ],
   "source": [
    "z"
   ]
  },
  {
   "cell_type": "code",
   "execution_count": 177,
   "metadata": {},
   "outputs": [
    {
     "data": {
      "text/plain": [
       "array([6])"
      ]
     },
     "execution_count": 177,
     "metadata": {},
     "output_type": "execute_result"
    }
   ],
   "source": [
    "z[(x != 0) & (y != 0) & (w != 1)]"
   ]
  },
  {
   "cell_type": "markdown",
   "metadata": {},
   "source": [
    "## All calculations below exclude developed areas (based on lulc development classes)"
   ]
  },
  {
   "cell_type": "code",
   "execution_count": 118,
   "metadata": {},
   "outputs": [],
   "source": [
    "slr_rasters = glob.glob(os.path.join(slr_root, 'aligned','Inundate*.tif'))"
   ]
  },
  {
   "cell_type": "code",
   "execution_count": 181,
   "metadata": {},
   "outputs": [
    {
     "name": "stdout",
     "output_type": "stream",
     "text": [
      "../data/pca/bcdc_slr/raster/aligned/Inundate_66.tif\n",
      "../data/pca/bcdc_slr/raster/aligned/Inundate_77.tif\n",
      "../data/pca/bcdc_slr/raster/aligned/Inundate_12.tif\n",
      "../data/pca/bcdc_slr/raster/aligned/Inundate_52.tif\n",
      "../data/pca/bcdc_slr/raster/aligned/Inundate_108.tif\n",
      "../data/pca/bcdc_slr/raster/aligned/Inundate_96.tif\n",
      "../data/pca/bcdc_slr/raster/aligned/Inundate_48.tif\n",
      "../data/pca/bcdc_slr/raster/aligned/Inundate_24.tif\n",
      "../data/pca/bcdc_slr/raster/aligned/Inundate_36.tif\n",
      "../data/pca/bcdc_slr/raster/aligned/Inundate_84.tif\n"
     ]
    }
   ],
   "source": [
    "# In PCA network\n",
    "pca_slr = {}\n",
    "\n",
    "for slr_uri in slr_rasters:\n",
    "    print(slr_uri)\n",
    "    slr = raster2array(slr_uri)\n",
    "    pud.shape == nlcd.shape == pca.shape == slr.shape\n",
    "    puds = np.sum(pud[(nlcd != 0) & \\\n",
    "                      (pca != 0) & \\\n",
    "                      (slr != 0)])\n",
    "    pca_slr[os.path.basename(slr_uri)] = puds\n",
    "    \n",
    "puds_slr0 = np.sum(pud[(nlcd != 0) & \\\n",
    "                      (pca != 0)])\n",
    "pca_slr['Inundate_0'] = puds_slr0"
   ]
  },
  {
   "cell_type": "code",
   "execution_count": 178,
   "metadata": {},
   "outputs": [
    {
     "name": "stdout",
     "output_type": "stream",
     "text": [
      "../data/pca/bcdc_slr/raster/aligned/Inundate_66.tif\n",
      "../data/pca/bcdc_slr/raster/aligned/Inundate_77.tif\n",
      "../data/pca/bcdc_slr/raster/aligned/Inundate_12.tif\n",
      "../data/pca/bcdc_slr/raster/aligned/Inundate_52.tif\n",
      "../data/pca/bcdc_slr/raster/aligned/Inundate_108.tif\n",
      "../data/pca/bcdc_slr/raster/aligned/Inundate_96.tif\n",
      "../data/pca/bcdc_slr/raster/aligned/Inundate_48.tif\n",
      "../data/pca/bcdc_slr/raster/aligned/Inundate_24.tif\n",
      "../data/pca/bcdc_slr/raster/aligned/Inundate_36.tif\n",
      "../data/pca/bcdc_slr/raster/aligned/Inundate_84.tif\n"
     ]
    }
   ],
   "source": [
    "# In BPAD network and not in PCA network\n",
    "bpad_slr = {}\n",
    "\n",
    "for slr_uri in slr_rasters:\n",
    "    print(slr_uri)\n",
    "    slr = raster2array(slr_uri)\n",
    "    puds = np.sum(pud[(nlcd != 0) & \\\n",
    "                      (bpad != 0) & \\\n",
    "                      (slr != 0) & \\\n",
    "                      (pca != 1)])\n",
    "    bpad_slr[os.path.basename(slr_uri)] = puds\n",
    "        \n",
    "puds_slr0 = np.sum(pud[(nlcd != 0) & \\\n",
    "                      (bpad != 0) & \\\n",
    "                      (pca != 1)])\n",
    "bpad_slr['Inundate_0'] = puds_slr0"
   ]
  },
  {
   "cell_type": "code",
   "execution_count": 173,
   "metadata": {},
   "outputs": [
    {
     "name": "stdout",
     "output_type": "stream",
     "text": [
      "../data/pca/bcdc_slr/raster/aligned/Inundate_66.tif\n",
      "../data/pca/bcdc_slr/raster/aligned/Inundate_77.tif\n",
      "../data/pca/bcdc_slr/raster/aligned/Inundate_12.tif\n",
      "../data/pca/bcdc_slr/raster/aligned/Inundate_52.tif\n",
      "../data/pca/bcdc_slr/raster/aligned/Inundate_108.tif\n",
      "../data/pca/bcdc_slr/raster/aligned/Inundate_96.tif\n",
      "../data/pca/bcdc_slr/raster/aligned/Inundate_48.tif\n",
      "../data/pca/bcdc_slr/raster/aligned/Inundate_24.tif\n",
      "../data/pca/bcdc_slr/raster/aligned/Inundate_36.tif\n",
      "../data/pca/bcdc_slr/raster/aligned/Inundate_84.tif\n"
     ]
    }
   ],
   "source": [
    "# In Natural Lands and not in BPAD and PCA networks\n",
    "nlcd_slr = {}\n",
    "\n",
    "for slr_uri in slr_rasters:\n",
    "    print(slr_uri)\n",
    "    slr = raster2array(slr_uri)\n",
    "    puds = np.sum(pud[(nlcd != 0) & \\\n",
    "                      (slr != 0) & \\\n",
    "                      (pca != 1) & \\\n",
    "                      (bpad != 1)])\n",
    "    \n",
    "    nlcd_slr[os.path.basename(slr_uri)] = puds\n",
    "    \n",
    "puds_slr0 = np.sum(pud[(nlcd != 0) & \\\n",
    "                      (pca != 1) & \\\n",
    "                      (bpad != 1)])\n",
    "nlcd_slr['Inundate_0'] = puds_slr0"
   ]
  },
  {
   "cell_type": "markdown",
   "metadata": {},
   "source": [
    "## Compile results"
   ]
  },
  {
   "cell_type": "code",
   "execution_count": 186,
   "metadata": {},
   "outputs": [],
   "source": [
    "pca_df = pd.DataFrame(pca_slr.items(), columns=['scenario', 'pca'])\n",
    "bpad_df = pd.DataFrame(bpad_slr.items(), columns=['scenario', 'bpad'])\n",
    "nlcd_df = pd.DataFrame(nlcd_slr.items(), columns=['scenario', 'nlcd'])"
   ]
  },
  {
   "cell_type": "code",
   "execution_count": 187,
   "metadata": {},
   "outputs": [],
   "source": [
    "results = pd.merge(pd.merge(pca_df, bpad_df, on='scenario'), nlcd_df, on='scenario')"
   ]
  },
  {
   "cell_type": "code",
   "execution_count": 204,
   "metadata": {},
   "outputs": [
    {
     "name": "stderr",
     "output_type": "stream",
     "text": [
      "/home/dmf/miniconda3/envs/geowork2/lib/python2.7/site-packages/ipykernel/__main__.py:1: FutureWarning: currently extract(expand=None) means expand=False (return Index/Series/DataFrame) but in a future version of pandas this will be changed to expand=True (return DataFrame)\n",
      "  if __name__ == '__main__':\n"
     ]
    }
   ],
   "source": [
    "results['slr_inches'] = pd.to_numeric(results['scenario'].str.extract('([0-9]?[0-9]?[0-9])'))"
   ]
  },
  {
   "cell_type": "code",
   "execution_count": 205,
   "metadata": {},
   "outputs": [
    {
     "data": {
      "text/html": [
       "<div>\n",
       "<style>\n",
       "    .dataframe thead tr:only-child th {\n",
       "        text-align: right;\n",
       "    }\n",
       "\n",
       "    .dataframe thead th {\n",
       "        text-align: left;\n",
       "    }\n",
       "\n",
       "    .dataframe tbody tr th {\n",
       "        vertical-align: top;\n",
       "    }\n",
       "</style>\n",
       "<table border=\"1\" class=\"dataframe\">\n",
       "  <thead>\n",
       "    <tr style=\"text-align: right;\">\n",
       "      <th></th>\n",
       "      <th>scenario</th>\n",
       "      <th>pca</th>\n",
       "      <th>bpad</th>\n",
       "      <th>nlcd</th>\n",
       "      <th>slr_inches</th>\n",
       "    </tr>\n",
       "  </thead>\n",
       "  <tbody>\n",
       "    <tr>\n",
       "      <th>2</th>\n",
       "      <td>Inundate_0</td>\n",
       "      <td>147464</td>\n",
       "      <td>194652</td>\n",
       "      <td>125562</td>\n",
       "      <td>0</td>\n",
       "    </tr>\n",
       "    <tr>\n",
       "      <th>10</th>\n",
       "      <td>Inundate_12.tif</td>\n",
       "      <td>1982</td>\n",
       "      <td>3356</td>\n",
       "      <td>2824</td>\n",
       "      <td>12</td>\n",
       "    </tr>\n",
       "    <tr>\n",
       "      <th>7</th>\n",
       "      <td>Inundate_24.tif</td>\n",
       "      <td>4042</td>\n",
       "      <td>4698</td>\n",
       "      <td>4056</td>\n",
       "      <td>24</td>\n",
       "    </tr>\n",
       "    <tr>\n",
       "      <th>0</th>\n",
       "      <td>Inundate_36.tif</td>\n",
       "      <td>4590</td>\n",
       "      <td>7014</td>\n",
       "      <td>5450</td>\n",
       "      <td>36</td>\n",
       "    </tr>\n",
       "    <tr>\n",
       "      <th>1</th>\n",
       "      <td>Inundate_48.tif</td>\n",
       "      <td>5428</td>\n",
       "      <td>8546</td>\n",
       "      <td>6818</td>\n",
       "      <td>48</td>\n",
       "    </tr>\n",
       "    <tr>\n",
       "      <th>9</th>\n",
       "      <td>Inundate_52.tif</td>\n",
       "      <td>5540</td>\n",
       "      <td>9050</td>\n",
       "      <td>7570</td>\n",
       "      <td>52</td>\n",
       "    </tr>\n",
       "    <tr>\n",
       "      <th>4</th>\n",
       "      <td>Inundate_66.tif</td>\n",
       "      <td>5992</td>\n",
       "      <td>12068</td>\n",
       "      <td>8532</td>\n",
       "      <td>66</td>\n",
       "    </tr>\n",
       "    <tr>\n",
       "      <th>5</th>\n",
       "      <td>Inundate_77.tif</td>\n",
       "      <td>7640</td>\n",
       "      <td>12716</td>\n",
       "      <td>9712</td>\n",
       "      <td>77</td>\n",
       "    </tr>\n",
       "    <tr>\n",
       "      <th>6</th>\n",
       "      <td>Inundate_84.tif</td>\n",
       "      <td>7786</td>\n",
       "      <td>13310</td>\n",
       "      <td>10102</td>\n",
       "      <td>84</td>\n",
       "    </tr>\n",
       "    <tr>\n",
       "      <th>3</th>\n",
       "      <td>Inundate_96.tif</td>\n",
       "      <td>7916</td>\n",
       "      <td>14320</td>\n",
       "      <td>10884</td>\n",
       "      <td>96</td>\n",
       "    </tr>\n",
       "    <tr>\n",
       "      <th>8</th>\n",
       "      <td>Inundate_108.tif</td>\n",
       "      <td>8048</td>\n",
       "      <td>14828</td>\n",
       "      <td>11358</td>\n",
       "      <td>108</td>\n",
       "    </tr>\n",
       "  </tbody>\n",
       "</table>\n",
       "</div>"
      ],
      "text/plain": [
       "            scenario     pca    bpad    nlcd  slr_inches\n",
       "2         Inundate_0  147464  194652  125562           0\n",
       "10   Inundate_12.tif    1982    3356    2824          12\n",
       "7    Inundate_24.tif    4042    4698    4056          24\n",
       "0    Inundate_36.tif    4590    7014    5450          36\n",
       "1    Inundate_48.tif    5428    8546    6818          48\n",
       "9    Inundate_52.tif    5540    9050    7570          52\n",
       "4    Inundate_66.tif    5992   12068    8532          66\n",
       "5    Inundate_77.tif    7640   12716    9712          77\n",
       "6    Inundate_84.tif    7786   13310   10102          84\n",
       "3    Inundate_96.tif    7916   14320   10884          96\n",
       "8   Inundate_108.tif    8048   14828   11358         108"
      ]
     },
     "execution_count": 205,
     "metadata": {},
     "output_type": "execute_result"
    }
   ],
   "source": [
    "results.sort_values(by='slr_inches')"
   ]
  },
  {
   "cell_type": "code",
   "execution_count": 206,
   "metadata": {},
   "outputs": [],
   "source": [
    "results.to_csv(os.path.join(workspace, 'results.csv'))"
   ]
  },
  {
   "cell_type": "code",
   "execution_count": null,
   "metadata": {},
   "outputs": [],
   "source": []
  }
 ],
 "metadata": {
  "kernelspec": {
   "display_name": "Python [conda env:geowork2]",
   "language": "python",
   "name": "conda-env-geowork2-py"
  },
  "language_info": {
   "codemirror_mode": {
    "name": "ipython",
    "version": 2
   },
   "file_extension": ".py",
   "mimetype": "text/x-python",
   "name": "python",
   "nbconvert_exporter": "python",
   "pygments_lexer": "ipython2",
   "version": "2.7.14"
  }
 },
 "nbformat": 4,
 "nbformat_minor": 2
}
