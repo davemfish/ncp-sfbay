{
 "cells": [
  {
   "cell_type": "code",
   "execution_count": 1,
   "metadata": {},
   "outputs": [],
   "source": [
    "import geopandas as gpd\n",
    "import fiona\n",
    "from shapely.geometry import MultiPolygon, shape, mapping\n",
    "# from shapely.prepared import prep\n",
    "from shapely.ops import unary_union"
   ]
  },
  {
   "cell_type": "code",
   "execution_count": 2,
   "metadata": {},
   "outputs": [],
   "source": [
    "## note, sometimes these buffers do not respect the buffer() arguments and just make plain rounded buffers\n",
    "## clearing the environment and restarting the kernel and running again solves it."
   ]
  },
  {
   "cell_type": "markdown",
   "metadata": {},
   "source": [
    "## Segment the coastline\n",
    "coastline source: https://www.naturalearthdata.com/http//www.naturalearthdata.com/download/10m/physical/ne_10m_coastline.zip  \n",
    "In QGIS, I selected just the CA coast and transformed to nad83 UTM Zone 10N.  \n",
    "Then used `grass` `v.split.length` from within QGIS to cut the line at 1km intervals  \n",
    "The result is this:"
   ]
  },
  {
   "cell_type": "code",
   "execution_count": 3,
   "metadata": {},
   "outputs": [],
   "source": [
    "coastlines = gpd.read_file(\"../../data/recdata/scratch/ne_ca_coastline_1k_segments.shp\")"
   ]
  },
  {
   "cell_type": "markdown",
   "metadata": {},
   "source": [
    "## Create polygons from line segments\n",
    "Buffer the line segment by fixed width. This buffers on either side of the line. An asymmetrical buffer that extends far offshore but not too far onshore would be better. That way we avoid counting PUDs and TUDs from onshore sites like parts of cities. So after buffering, we'll cut the buffer away with a land polygon. And first we'll 'shrink' the land polygon with a negative buffer, because we do want some onshore area to stay in the coast segments."
   ]
  },
  {
   "cell_type": "code",
   "execution_count": 4,
   "metadata": {},
   "outputs": [],
   "source": [
    "## Set these parameters, including locations for the output files\n",
    "\n",
    "bufferwidth = 400 # all units are meters since we're always using NAD83 UTM Zone 10N\n",
    "shrinklandwidth = -100\n",
    "buffer_segments_uri = \"./model_data/aoi/ne_ca_coastline_1k_segments_buff\" + str(bufferwidth) + \"m.shp\"\n",
    "finalcut_segments_uri = \"./model_data/aoi/ne_ca_coastline_1k_segments_buff\" + str(bufferwidth) + \"m_cut.shp\""
   ]
  },
  {
   "cell_type": "markdown",
   "metadata": {},
   "source": [
    "#### Buffer segments"
   ]
  },
  {
   "cell_type": "code",
   "execution_count": 5,
   "metadata": {},
   "outputs": [],
   "source": [
    "buffers = coastlines.geometry.apply(lambda x: x.buffer(bufferwidth, cap_style=2, join_style=1))\n",
    "coastsegments = coastlines\n",
    "coastsegments['geometry'] = buffers\n",
    "\n",
    "# I'll always use 'pid' as the unique key for polygons in all tables\n",
    "coastsegments['pid'] = coastsegments.index\n",
    "# don't need these cols\n",
    "coastsegments.drop(labels=['featurecla', 'scalerank', 'min_zoom'], axis=1, inplace=True)\n",
    "\n",
    "coastsegments.to_file(buffer_segments_uri)"
   ]
  },
  {
   "cell_type": "markdown",
   "metadata": {},
   "source": [
    "#### Erase land area"
   ]
  },
  {
   "cell_type": "code",
   "execution_count": 6,
   "metadata": {},
   "outputs": [],
   "source": [
    "coastsegments = gpd.read_file(buffer_segments_uri)"
   ]
  },
  {
   "cell_type": "code",
   "execution_count": 7,
   "metadata": {},
   "outputs": [],
   "source": [
    "land_uri = \"../../data/recdata/scratch/ca_adm1_utm.shp\"\n",
    "land = fiona.open(land_uri)\n",
    "geoms = []\n",
    "for pol in land:\n",
    "    geom = shape(pol['geometry']).buffer(shrinklandwidth)\n",
    "    geoms.append(geom)\n",
    "shrunkland = unary_union(geoms).buffer(0)"
   ]
  },
  {
   "cell_type": "code",
   "execution_count": 8,
   "metadata": {},
   "outputs": [],
   "source": [
    "# intersecting coast segment buffers with a land polygon, removing the land area from the segment.\n",
    "# this takes a couple minutes\n",
    "diffs = coastsegments.geometry.apply(lambda x: x.difference(shrunkland))"
   ]
  },
  {
   "cell_type": "code",
   "execution_count": 9,
   "metadata": {},
   "outputs": [],
   "source": [
    "# clean up the mixed bag of geometry types that resulted from the intersection by converted all to MultiPolygon\n",
    "geoms = []\n",
    "for geom, idx in zip(diffs, range(len(diffs))):\n",
    "    if geom.geom_type == 'MultiPolygon':\n",
    "        geoms.append(geom)\n",
    "        continue\n",
    "    if geom.geom_type == 'Polygon':\n",
    "        geoms.append(MultiPolygon([geom]))\n",
    "        continue\n",
    "    if geom.geom_type == 'GeometryCollection':\n",
    "        if geom.wkt == 'GEOMETRYCOLLECTION EMPTY':\n",
    "            geoms.append(MultiPolygon([]))\n",
    "            continue\n",
    "    print(geom.geom_type, idx) # if stuff prints, then probably need more 'if' clauses to catch more misc types"
   ]
  },
  {
   "cell_type": "code",
   "execution_count": 10,
   "metadata": {},
   "outputs": [],
   "source": [
    "# write cut segments to file\n",
    "with fiona.open(buffer_segments_uri, 'r') as input:\n",
    "    meta = input.meta # The output file has the same crs, schema as input file\n",
    "    with fiona.open(finalcut_segments_uri, 'w', **meta) as output:\n",
    "        for item, g in zip(input, geoms):\n",
    "            output.write({'geometry':mapping(g), 'properties': item['properties']})"
   ]
  },
  {
   "cell_type": "markdown",
   "metadata": {},
   "source": [
    "The final cut segments are what we'll want as an AOI for counting PUDs and TUDs. But the larger uncut segments might be best for spatial joins with ESI shore lines or YourCoast points. The larger segments give a little more wiggle room with those overlays, which is useful since all our coastal data come from different sources and don't align perfectly."
   ]
  },
  {
   "cell_type": "code",
   "execution_count": null,
   "metadata": {},
   "outputs": [],
   "source": []
  }
 ],
 "metadata": {
  "kernelspec": {
   "display_name": "Python [conda env:geowork]",
   "language": "python",
   "name": "conda-env-geowork-py"
  },
  "language_info": {
   "codemirror_mode": {
    "name": "ipython",
    "version": 3
   },
   "file_extension": ".py",
   "mimetype": "text/x-python",
   "name": "python",
   "nbconvert_exporter": "python",
   "pygments_lexer": "ipython3",
   "version": "3.6.2"
  }
 },
 "nbformat": 4,
 "nbformat_minor": 2
}
