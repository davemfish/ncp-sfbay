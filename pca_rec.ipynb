{
 "cells": [
  {
   "cell_type": "code",
   "execution_count": 1,
   "metadata": {},
   "outputs": [],
   "source": [
    "import pandas as pd\n",
    "import geopandas as gpd\n",
    "import matplotlib.pyplot as plt\n",
    "import numpy as np\n",
    "import os\n",
    "\n",
    "from bokeh.plotting import figure, output_notebook, show, ColumnDataSource\n",
    "from bokeh.models import HoverTool\n",
    "from bokeh.layouts import row\n",
    "\n",
    "%matplotlib inline\n"
   ]
  },
  {
   "cell_type": "markdown",
   "metadata": {},
   "source": [
    "# PCAs - general data exploration\n",
    "* PUDs and TUDs\n",
    "* Area inundation from SLR "
   ]
  },
  {
   "cell_type": "markdown",
   "metadata": {},
   "source": [
    "### PUD and TUD distributions for the PCA network\n",
    "\n",
    "PCA shapefile for PUDs and TUDs is the one provided here: https://abag.ca.gov/priority/conservation/, \n",
    "\n",
    "dissolved versions dissolved on 'joinkey', which appeared to be a unique identifier.\n",
    "\n",
    "non-dissolved versions don't dissolve, and use the concat of ('joinkey', 'fipco') as the unique id, which matches what bcdc did during their slr intersections..."
   ]
  },
  {
   "cell_type": "code",
   "execution_count": null,
   "metadata": {},
   "outputs": [],
   "source": [
    "# pudtable = pd.read_csv('../flickr/userdays_avg_annual_bypid.csv')\n",
    "pudtable = pd.read_csv('../flickr/not_dissolved/userdays_avg_annual_bypid.csv')\n",
    "pudtable.rename(columns={'avg_ann_ud':'pud'}, inplace=True)"
   ]
  },
  {
   "cell_type": "code",
   "execution_count": null,
   "metadata": {},
   "outputs": [],
   "source": [
    "# tudtable = pd.read_csv('../twitter/userdays_avg_annual_bypid.csv')\n",
    "tudtable = pd.read_csv('../twitter/tud_nondissolved_pcas/userdays_avg_annual_bypid.csv')\n",
    "tudtable.rename(columns={'avg_ann_ud':'tud'}, inplace=True)"
   ]
  },
  {
   "cell_type": "code",
   "execution_count": null,
   "metadata": {},
   "outputs": [],
   "source": [
    "data = pudtable.merge(tudtable, on='pid')"
   ]
  },
  {
   "cell_type": "code",
   "execution_count": null,
   "metadata": {},
   "outputs": [],
   "source": [
    "data.shape"
   ]
  },
  {
   "cell_type": "code",
   "execution_count": null,
   "metadata": {},
   "outputs": [],
   "source": [
    "fig, axs = plt.subplots(1,2, figsize=(14,5))\n",
    "data.hist('pud', bins=50, ax=axs[0])\n",
    "data.hist('tud', bins=50, ax=axs[1])"
   ]
  },
  {
   "cell_type": "code",
   "execution_count": null,
   "metadata": {},
   "outputs": [],
   "source": [
    "data['logpud'] = np.log1p(data['pud'])\n",
    "data['logtud'] = np.log1p(data['tud'])"
   ]
  },
  {
   "cell_type": "markdown",
   "metadata": {},
   "source": [
    "### PUD and TUD are correlated, but capture slightly different visitation patterns"
   ]
  },
  {
   "cell_type": "code",
   "execution_count": null,
   "metadata": {},
   "outputs": [],
   "source": [
    "fig, axs = plt.subplots(1,2, figsize=(14,5))\n",
    "data.plot.scatter(x='pud', y='tud', ax=axs[0])\n",
    "data.plot.scatter(x='logpud', y='logtud', ax=axs[1])"
   ]
  },
  {
   "cell_type": "markdown",
   "metadata": {},
   "source": [
    "### PUD, TUD are influenced by area of PCA"
   ]
  },
  {
   "cell_type": "code",
   "execution_count": null,
   "metadata": {},
   "outputs": [],
   "source": [
    "# pca_shp = gpd.read_file('../twitter/shp/Priority_Conservation_Areas_current_dissolve_pid.shp')\n",
    "pca_shp = gpd.read_file('../twitter/tud_nondissolved_pcas/shp/Priority_Conservation_Areas_current_pid.shp')"
   ]
  },
  {
   "cell_type": "code",
   "execution_count": null,
   "metadata": {},
   "outputs": [],
   "source": [
    "pca_shp['area_m2'] = pca_shp.area\n",
    "data = data.merge(pca_shp[['area_m2', 'pid', 'name', 'joinkey', 'fipco']], on='pid')"
   ]
  },
  {
   "cell_type": "code",
   "execution_count": null,
   "metadata": {},
   "outputs": [],
   "source": [
    "data.hist('area_m2', bins=50)"
   ]
  },
  {
   "cell_type": "code",
   "execution_count": null,
   "metadata": {},
   "outputs": [],
   "source": [
    "data['logarea'] = np.log1p(data['area_m2'])"
   ]
  },
  {
   "cell_type": "code",
   "execution_count": null,
   "metadata": {},
   "outputs": [],
   "source": [
    "fig, axs = plt.subplots(1,2, figsize=(14,5))\n",
    "data.plot.scatter(x='logarea', y='logpud', ax=axs[0])\n",
    "data.plot.scatter(x='logarea', y='logtud', ax=axs[1])"
   ]
  },
  {
   "cell_type": "code",
   "execution_count": null,
   "metadata": {},
   "outputs": [],
   "source": [
    "data['pud_per_m2'] = data['pud']/data['area_m2']\n",
    "data['tud_per_m2'] = data['tud']/data['area_m2']"
   ]
  },
  {
   "cell_type": "markdown",
   "metadata": {},
   "source": [
    "#### break visitation density measures into deciles, so we can easily glance at the top 10% of PCAs, for example"
   ]
  },
  {
   "cell_type": "code",
   "execution_count": null,
   "metadata": {},
   "outputs": [],
   "source": [
    "# data['pudden_tile'] = pd.qcut(data['pud_per_m2'], q=10, labels=False)\n",
    "# data['tudden_tile'] = pd.qcut(data['tud_per_m2'], q=10, labels=False)"
   ]
  },
  {
   "cell_type": "markdown",
   "metadata": {},
   "source": [
    "### Add Designation type of each PCA to the table"
   ]
  },
  {
   "cell_type": "markdown",
   "metadata": {},
   "source": [
    "#### load some PCA metadata - the 'designation' of each PCA as:\n",
    "NL = Natural Landscape  \n",
    "AL = Agricultural Land  \n",
    "UG = Urban Greening  \n",
    "RR = Regional Recreation"
   ]
  },
  {
   "cell_type": "code",
   "execution_count": null,
   "metadata": {},
   "outputs": [],
   "source": [
    "designation = pd.read_csv('../pca/FINAL_List_of_165_PCAs_Designations.csv')\n",
    "# Source: https://abag.ca.gov/priority/conservation/pdfs/FINAL_List_of_165_PCAs_Approved_as_of_September_2015.pdf"
   ]
  },
  {
   "cell_type": "code",
   "execution_count": null,
   "metadata": {
    "scrolled": true
   },
   "outputs": [],
   "source": [
    "designation['NL'] = designation['Designation'].str.extract('(NL)')\n",
    "designation['AL'] = designation['Designation'].str.extract('(AL)')\n",
    "designation['UG'] = designation['Designation'].str.extract('(UG)')\n",
    "designation['RR'] = designation['Designation'].str.extract('(RR)')"
   ]
  },
  {
   "cell_type": "code",
   "execution_count": null,
   "metadata": {},
   "outputs": [],
   "source": [
    "data = pd.merge(data, designation, left_on='joinkey', right_on='Area ID', how='left')"
   ]
  },
  {
   "cell_type": "code",
   "execution_count": null,
   "metadata": {},
   "outputs": [],
   "source": [
    "data.to_csv('../pca/pca_vis_designation.csv', index=False)"
   ]
  },
  {
   "cell_type": "markdown",
   "metadata": {},
   "source": [
    "## PCA x SLR scenarios"
   ]
  },
  {
   "cell_type": "code",
   "execution_count": 2,
   "metadata": {},
   "outputs": [],
   "source": [
    "import glob\n",
    "from functools import reduce\n",
    "from bokeh.charts import show, output_file"
   ]
  },
  {
   "cell_type": "code",
   "execution_count": 3,
   "metadata": {},
   "outputs": [],
   "source": [
    "def join_scenario_puds(scenario, whole_pca_df):\n",
    "    print(scenario)\n",
    "    \n",
    "    # table with userdays in the scenario polygons, keyed by pid\n",
    "    spud = pd.read_csv(os.path.join(scenario, \"userdays_avg_annual_bypid_2005_2015.csv\"))\n",
    "    \n",
    "    # table linking userdays id (pid) and scenario polygon id (FID_spjoin)\n",
    "    # sometimes this table includes an 'area' column sometimes not, we won't use it\n",
    "    pid_fidspjoin_crswlk = pd.read_csv(glob.glob(os.path.join(scenario, '*_pid'))[0])\n",
    "    pid_fidspjoin_crswlk = pid_fidspjoin_crswlk[['FID_spjoin', 'pid']]\n",
    "    \n",
    "    # table linking scenario polygon id (TARGET_FID) and master PCA unique id (joinkey, fipco)\n",
    "    fidspjoin_joinkey_crswlk = gpd.read_file(glob.glob(os.path.join(scenario, 'spjoin*.dbf'))[0])\n",
    "    fidspjoin_joinkey_crswlk = fidspjoin_joinkey_crswlk[['TARGET_FID', 'joinkey', 'fipco', 'name']]\n",
    "    \n",
    "    # joins to get scenario userdays linked to master PCA unique id (joinkey, fipco)\n",
    "    spud_fid = pd.merge(spud, pid_fidspjoin_crswlk, on='pid')\n",
    "    np.all(np.isnan(spud_fid['avg_ann_ud']))\n",
    "    dat = pd.merge(spud_fid, fidspjoin_joinkey_crswlk, left_on='FID_spjoin', right_on='TARGET_FID')\n",
    "    \n",
    "    ## join scenario PUDs to whole PUDs\n",
    "    dat2 = pd.merge(dat, whole_pca_df, on=['joinkey', 'fipco'], how='right')\n",
    "    \n",
    "    scen = os.path.basename(scenario)\n",
    "    # proportion of PUD that are outside the flood zone\n",
    "    dat2[scen] = 1 - dat2['avg_ann_ud']/dat2['pud']\n",
    "    return(dat2[['joinkey', 'fipco', scen]])"
   ]
  },
  {
   "cell_type": "code",
   "execution_count": 4,
   "metadata": {},
   "outputs": [],
   "source": [
    "data = pd.read_csv('../pca/pca_vis_designation.csv', dtype={'fipco': 'str'})"
   ]
  },
  {
   "cell_type": "code",
   "execution_count": 5,
   "metadata": {},
   "outputs": [],
   "source": [
    "data['uid'] = data['joinkey']+data['fipco']"
   ]
  },
  {
   "cell_type": "code",
   "execution_count": 6,
   "metadata": {},
   "outputs": [],
   "source": [
    "basedir = '../bcdc_slr/PCAexposure_201710/slr_scenarios/'\n",
    "# for now excluding the FEMA scenarios since they have different unique ID column name in diss.shp\n",
    "scenarios = ['12inches', '24inches', '36inches',  '48inches', '52inches', '66inches', '77inches', '84inches', '96inches', '108inches']"
   ]
  },
  {
   "cell_type": "code",
   "execution_count": 27,
   "metadata": {},
   "outputs": [
    {
     "name": "stdout",
     "output_type": "stream",
     "text": [
      "../bcdc_slr/PCAexposure_201710/slr_scenarios/12inches\n",
      "../bcdc_slr/PCAexposure_201710/slr_scenarios/24inches\n",
      "../bcdc_slr/PCAexposure_201710/slr_scenarios/36inches\n",
      "../bcdc_slr/PCAexposure_201710/slr_scenarios/48inches\n",
      "../bcdc_slr/PCAexposure_201710/slr_scenarios/52inches\n",
      "../bcdc_slr/PCAexposure_201710/slr_scenarios/66inches\n",
      "../bcdc_slr/PCAexposure_201710/slr_scenarios/77inches\n",
      "../bcdc_slr/PCAexposure_201710/slr_scenarios/84inches\n",
      "../bcdc_slr/PCAexposure_201710/slr_scenarios/96inches\n",
      "../bcdc_slr/PCAexposure_201710/slr_scenarios/108inches\n"
     ]
    },
    {
     "data": {
      "text/plain": [
       "[0, 12, 24, 36, 48, 52, 66, 77, 84, 96, 108]"
      ]
     },
     "execution_count": 27,
     "metadata": {},
     "output_type": "execute_result"
    }
   ],
   "source": [
    "results = []\n",
    "for scen in scenarios:\n",
    "    results.append(join_scenario_puds(os.path.join(basedir, scen), data))\n",
    "\n",
    "# make single table\n",
    "slrdata = reduce(lambda x, y: pd.merge(x, y, on = ['joinkey', 'fipco']), results)\n",
    "\n",
    "# single key for PCAs\n",
    "slrdata['uid'] = slrdata['joinkey']+slrdata['fipco']\n",
    "slrdata.drop(labels=['joinkey', 'fipco'], axis='columns', inplace=True)\n",
    "slrdata.set_index('uid', inplace=True)\n",
    "slrdata['0inches'] = 1\n",
    "scenario_labels = ['0inches'] + scenarios\n",
    "slrdata = slrdata[scenario_labels]\n",
    "slrdata.fillna(1, inplace=True)\n",
    "\n",
    "numeric_index = [int(s.strip('inches')) for s in list(slrdata)]\n",
    "numeric_index\n",
    "\n",
    "# print(slrdata.head())\n",
    "\n",
    "# # transpose and use SLR number as row key\n",
    "# tslrdata = pd.DataFrame.transpose(slrdata)\n",
    "# numeric_index = [int(s.strip('inches')) for s in tslrdata.index.values]\n",
    "# tslrdata['slr'] = numeric_index\n",
    "# tslrdata.set_index('slr', inplace=True)\n",
    "\n",
    "# # set the 0 slr scenario to 100 percent of PUDs\n",
    "# allones = pd.DataFrame.transpose(pd.DataFrame(data=np.ones_like(tslrdata.iloc[0]), index=list(tslrdata)))\n",
    "# tslrdata = tslrdata.append(allones)\n",
    "# tslrdata = tslrdata.reindex([0, 12, 24, 36, 48, 52, 66, 77, 84, 96, 108])\n",
    "\n",
    "# # # NAs represent no intersection between PCA and SLR polygon, so no change from 100% PUD\n",
    "# tslrdata.fillna(1, inplace=True)\n",
    "# # tslrdata"
   ]
  },
  {
   "cell_type": "code",
   "execution_count": 23,
   "metadata": {},
   "outputs": [
    {
     "data": {
      "text/plain": [
       "[[0, 12, 24, 36, 48, 52, 66, 77, 84, 96, 108],\n",
       " [0, 12, 24, 36, 48, 52, 66, 77, 84, 96, 108],\n",
       " [0, 12, 24, 36, 48, 52, 66, 77, 84, 96, 108],\n",
       " [0, 12, 24, 36, 48, 52, 66, 77, 84, 96, 108],\n",
       " [0, 12, 24, 36, 48, 52, 66, 77, 84, 96, 108],\n",
       " [0, 12, 24, 36, 48, 52, 66, 77, 84, 96, 108],\n",
       " [0, 12, 24, 36, 48, 52, 66, 77, 84, 96, 108],\n",
       " [0, 12, 24, 36, 48, 52, 66, 77, 84, 96, 108],\n",
       " [0, 12, 24, 36, 48, 52, 66, 77, 84, 96, 108],\n",
       " [0, 12, 24, 36, 48, 52, 66, 77, 84, 96, 108],\n",
       " [0, 12, 24, 36, 48, 52, 66, 77, 84, 96, 108],\n",
       " [0, 12, 24, 36, 48, 52, 66, 77, 84, 96, 108],\n",
       " [0, 12, 24, 36, 48, 52, 66, 77, 84, 96, 108],\n",
       " [0, 12, 24, 36, 48, 52, 66, 77, 84, 96, 108],\n",
       " [0, 12, 24, 36, 48, 52, 66, 77, 84, 96, 108],\n",
       " [0, 12, 24, 36, 48, 52, 66, 77, 84, 96, 108],\n",
       " [0, 12, 24, 36, 48, 52, 66, 77, 84, 96, 108],\n",
       " [0, 12, 24, 36, 48, 52, 66, 77, 84, 96, 108],\n",
       " [0, 12, 24, 36, 48, 52, 66, 77, 84, 96, 108],\n",
       " [0, 12, 24, 36, 48, 52, 66, 77, 84, 96, 108],\n",
       " [0, 12, 24, 36, 48, 52, 66, 77, 84, 96, 108],\n",
       " [0, 12, 24, 36, 48, 52, 66, 77, 84, 96, 108],\n",
       " [0, 12, 24, 36, 48, 52, 66, 77, 84, 96, 108],\n",
       " [0, 12, 24, 36, 48, 52, 66, 77, 84, 96, 108],\n",
       " [0, 12, 24, 36, 48, 52, 66, 77, 84, 96, 108],\n",
       " [0, 12, 24, 36, 48, 52, 66, 77, 84, 96, 108],\n",
       " [0, 12, 24, 36, 48, 52, 66, 77, 84, 96, 108],\n",
       " [0, 12, 24, 36, 48, 52, 66, 77, 84, 96, 108],\n",
       " [0, 12, 24, 36, 48, 52, 66, 77, 84, 96, 108],\n",
       " [0, 12, 24, 36, 48, 52, 66, 77, 84, 96, 108],\n",
       " [0, 12, 24, 36, 48, 52, 66, 77, 84, 96, 108],\n",
       " [0, 12, 24, 36, 48, 52, 66, 77, 84, 96, 108],\n",
       " [0, 12, 24, 36, 48, 52, 66, 77, 84, 96, 108],\n",
       " [0, 12, 24, 36, 48, 52, 66, 77, 84, 96, 108],\n",
       " [0, 12, 24, 36, 48, 52, 66, 77, 84, 96, 108],\n",
       " [0, 12, 24, 36, 48, 52, 66, 77, 84, 96, 108],\n",
       " [0, 12, 24, 36, 48, 52, 66, 77, 84, 96, 108],\n",
       " [0, 12, 24, 36, 48, 52, 66, 77, 84, 96, 108],\n",
       " [0, 12, 24, 36, 48, 52, 66, 77, 84, 96, 108],\n",
       " [0, 12, 24, 36, 48, 52, 66, 77, 84, 96, 108],\n",
       " [0, 12, 24, 36, 48, 52, 66, 77, 84, 96, 108],\n",
       " [0, 12, 24, 36, 48, 52, 66, 77, 84, 96, 108],\n",
       " [0, 12, 24, 36, 48, 52, 66, 77, 84, 96, 108],\n",
       " [0, 12, 24, 36, 48, 52, 66, 77, 84, 96, 108],\n",
       " [0, 12, 24, 36, 48, 52, 66, 77, 84, 96, 108],\n",
       " [0, 12, 24, 36, 48, 52, 66, 77, 84, 96, 108],\n",
       " [0, 12, 24, 36, 48, 52, 66, 77, 84, 96, 108],\n",
       " [0, 12, 24, 36, 48, 52, 66, 77, 84, 96, 108],\n",
       " [0, 12, 24, 36, 48, 52, 66, 77, 84, 96, 108],\n",
       " [0, 12, 24, 36, 48, 52, 66, 77, 84, 96, 108],\n",
       " [0, 12, 24, 36, 48, 52, 66, 77, 84, 96, 108],\n",
       " [0, 12, 24, 36, 48, 52, 66, 77, 84, 96, 108],\n",
       " [0, 12, 24, 36, 48, 52, 66, 77, 84, 96, 108],\n",
       " [0, 12, 24, 36, 48, 52, 66, 77, 84, 96, 108],\n",
       " [0, 12, 24, 36, 48, 52, 66, 77, 84, 96, 108],\n",
       " [0, 12, 24, 36, 48, 52, 66, 77, 84, 96, 108],\n",
       " [0, 12, 24, 36, 48, 52, 66, 77, 84, 96, 108],\n",
       " [0, 12, 24, 36, 48, 52, 66, 77, 84, 96, 108],\n",
       " [0, 12, 24, 36, 48, 52, 66, 77, 84, 96, 108],\n",
       " [0, 12, 24, 36, 48, 52, 66, 77, 84, 96, 108],\n",
       " [0, 12, 24, 36, 48, 52, 66, 77, 84, 96, 108],\n",
       " [0, 12, 24, 36, 48, 52, 66, 77, 84, 96, 108],\n",
       " [0, 12, 24, 36, 48, 52, 66, 77, 84, 96, 108],\n",
       " [0, 12, 24, 36, 48, 52, 66, 77, 84, 96, 108],\n",
       " [0, 12, 24, 36, 48, 52, 66, 77, 84, 96, 108],\n",
       " [0, 12, 24, 36, 48, 52, 66, 77, 84, 96, 108],\n",
       " [0, 12, 24, 36, 48, 52, 66, 77, 84, 96, 108],\n",
       " [0, 12, 24, 36, 48, 52, 66, 77, 84, 96, 108],\n",
       " [0, 12, 24, 36, 48, 52, 66, 77, 84, 96, 108],\n",
       " [0, 12, 24, 36, 48, 52, 66, 77, 84, 96, 108],\n",
       " [0, 12, 24, 36, 48, 52, 66, 77, 84, 96, 108],\n",
       " [0, 12, 24, 36, 48, 52, 66, 77, 84, 96, 108],\n",
       " [0, 12, 24, 36, 48, 52, 66, 77, 84, 96, 108],\n",
       " [0, 12, 24, 36, 48, 52, 66, 77, 84, 96, 108],\n",
       " [0, 12, 24, 36, 48, 52, 66, 77, 84, 96, 108],\n",
       " [0, 12, 24, 36, 48, 52, 66, 77, 84, 96, 108],\n",
       " [0, 12, 24, 36, 48, 52, 66, 77, 84, 96, 108],\n",
       " [0, 12, 24, 36, 48, 52, 66, 77, 84, 96, 108],\n",
       " [0, 12, 24, 36, 48, 52, 66, 77, 84, 96, 108],\n",
       " [0, 12, 24, 36, 48, 52, 66, 77, 84, 96, 108],\n",
       " [0, 12, 24, 36, 48, 52, 66, 77, 84, 96, 108],\n",
       " [0, 12, 24, 36, 48, 52, 66, 77, 84, 96, 108],\n",
       " [0, 12, 24, 36, 48, 52, 66, 77, 84, 96, 108],\n",
       " [0, 12, 24, 36, 48, 52, 66, 77, 84, 96, 108],\n",
       " [0, 12, 24, 36, 48, 52, 66, 77, 84, 96, 108],\n",
       " [0, 12, 24, 36, 48, 52, 66, 77, 84, 96, 108],\n",
       " [0, 12, 24, 36, 48, 52, 66, 77, 84, 96, 108],\n",
       " [0, 12, 24, 36, 48, 52, 66, 77, 84, 96, 108],\n",
       " [0, 12, 24, 36, 48, 52, 66, 77, 84, 96, 108],\n",
       " [0, 12, 24, 36, 48, 52, 66, 77, 84, 96, 108],\n",
       " [0, 12, 24, 36, 48, 52, 66, 77, 84, 96, 108],\n",
       " [0, 12, 24, 36, 48, 52, 66, 77, 84, 96, 108],\n",
       " [0, 12, 24, 36, 48, 52, 66, 77, 84, 96, 108],\n",
       " [0, 12, 24, 36, 48, 52, 66, 77, 84, 96, 108],\n",
       " [0, 12, 24, 36, 48, 52, 66, 77, 84, 96, 108],\n",
       " [0, 12, 24, 36, 48, 52, 66, 77, 84, 96, 108],\n",
       " [0, 12, 24, 36, 48, 52, 66, 77, 84, 96, 108],\n",
       " [0, 12, 24, 36, 48, 52, 66, 77, 84, 96, 108],\n",
       " [0, 12, 24, 36, 48, 52, 66, 77, 84, 96, 108],\n",
       " [0, 12, 24, 36, 48, 52, 66, 77, 84, 96, 108],\n",
       " [0, 12, 24, 36, 48, 52, 66, 77, 84, 96, 108],\n",
       " [0, 12, 24, 36, 48, 52, 66, 77, 84, 96, 108],\n",
       " [0, 12, 24, 36, 48, 52, 66, 77, 84, 96, 108],\n",
       " [0, 12, 24, 36, 48, 52, 66, 77, 84, 96, 108],\n",
       " [0, 12, 24, 36, 48, 52, 66, 77, 84, 96, 108],\n",
       " [0, 12, 24, 36, 48, 52, 66, 77, 84, 96, 108],\n",
       " [0, 12, 24, 36, 48, 52, 66, 77, 84, 96, 108],\n",
       " [0, 12, 24, 36, 48, 52, 66, 77, 84, 96, 108],\n",
       " [0, 12, 24, 36, 48, 52, 66, 77, 84, 96, 108],\n",
       " [0, 12, 24, 36, 48, 52, 66, 77, 84, 96, 108],\n",
       " [0, 12, 24, 36, 48, 52, 66, 77, 84, 96, 108],\n",
       " [0, 12, 24, 36, 48, 52, 66, 77, 84, 96, 108],\n",
       " [0, 12, 24, 36, 48, 52, 66, 77, 84, 96, 108],\n",
       " [0, 12, 24, 36, 48, 52, 66, 77, 84, 96, 108],\n",
       " [0, 12, 24, 36, 48, 52, 66, 77, 84, 96, 108],\n",
       " [0, 12, 24, 36, 48, 52, 66, 77, 84, 96, 108],\n",
       " [0, 12, 24, 36, 48, 52, 66, 77, 84, 96, 108],\n",
       " [0, 12, 24, 36, 48, 52, 66, 77, 84, 96, 108],\n",
       " [0, 12, 24, 36, 48, 52, 66, 77, 84, 96, 108],\n",
       " [0, 12, 24, 36, 48, 52, 66, 77, 84, 96, 108],\n",
       " [0, 12, 24, 36, 48, 52, 66, 77, 84, 96, 108],\n",
       " [0, 12, 24, 36, 48, 52, 66, 77, 84, 96, 108],\n",
       " [0, 12, 24, 36, 48, 52, 66, 77, 84, 96, 108],\n",
       " [0, 12, 24, 36, 48, 52, 66, 77, 84, 96, 108],\n",
       " [0, 12, 24, 36, 48, 52, 66, 77, 84, 96, 108],\n",
       " [0, 12, 24, 36, 48, 52, 66, 77, 84, 96, 108],\n",
       " [0, 12, 24, 36, 48, 52, 66, 77, 84, 96, 108],\n",
       " [0, 12, 24, 36, 48, 52, 66, 77, 84, 96, 108],\n",
       " [0, 12, 24, 36, 48, 52, 66, 77, 84, 96, 108],\n",
       " [0, 12, 24, 36, 48, 52, 66, 77, 84, 96, 108],\n",
       " [0, 12, 24, 36, 48, 52, 66, 77, 84, 96, 108],\n",
       " [0, 12, 24, 36, 48, 52, 66, 77, 84, 96, 108],\n",
       " [0, 12, 24, 36, 48, 52, 66, 77, 84, 96, 108],\n",
       " [0, 12, 24, 36, 48, 52, 66, 77, 84, 96, 108],\n",
       " [0, 12, 24, 36, 48, 52, 66, 77, 84, 96, 108],\n",
       " [0, 12, 24, 36, 48, 52, 66, 77, 84, 96, 108],\n",
       " [0, 12, 24, 36, 48, 52, 66, 77, 84, 96, 108],\n",
       " [0, 12, 24, 36, 48, 52, 66, 77, 84, 96, 108],\n",
       " [0, 12, 24, 36, 48, 52, 66, 77, 84, 96, 108],\n",
       " [0, 12, 24, 36, 48, 52, 66, 77, 84, 96, 108],\n",
       " [0, 12, 24, 36, 48, 52, 66, 77, 84, 96, 108],\n",
       " [0, 12, 24, 36, 48, 52, 66, 77, 84, 96, 108],\n",
       " [0, 12, 24, 36, 48, 52, 66, 77, 84, 96, 108],\n",
       " [0, 12, 24, 36, 48, 52, 66, 77, 84, 96, 108],\n",
       " [0, 12, 24, 36, 48, 52, 66, 77, 84, 96, 108],\n",
       " [0, 12, 24, 36, 48, 52, 66, 77, 84, 96, 108],\n",
       " [0, 12, 24, 36, 48, 52, 66, 77, 84, 96, 108],\n",
       " [0, 12, 24, 36, 48, 52, 66, 77, 84, 96, 108],\n",
       " [0, 12, 24, 36, 48, 52, 66, 77, 84, 96, 108],\n",
       " [0, 12, 24, 36, 48, 52, 66, 77, 84, 96, 108],\n",
       " [0, 12, 24, 36, 48, 52, 66, 77, 84, 96, 108],\n",
       " [0, 12, 24, 36, 48, 52, 66, 77, 84, 96, 108],\n",
       " [0, 12, 24, 36, 48, 52, 66, 77, 84, 96, 108],\n",
       " [0, 12, 24, 36, 48, 52, 66, 77, 84, 96, 108],\n",
       " [0, 12, 24, 36, 48, 52, 66, 77, 84, 96, 108],\n",
       " [0, 12, 24, 36, 48, 52, 66, 77, 84, 96, 108],\n",
       " [0, 12, 24, 36, 48, 52, 66, 77, 84, 96, 108],\n",
       " [0, 12, 24, 36, 48, 52, 66, 77, 84, 96, 108],\n",
       " [0, 12, 24, 36, 48, 52, 66, 77, 84, 96, 108],\n",
       " [0, 12, 24, 36, 48, 52, 66, 77, 84, 96, 108],\n",
       " [0, 12, 24, 36, 48, 52, 66, 77, 84, 96, 108],\n",
       " [0, 12, 24, 36, 48, 52, 66, 77, 84, 96, 108],\n",
       " [0, 12, 24, 36, 48, 52, 66, 77, 84, 96, 108],\n",
       " [0, 12, 24, 36, 48, 52, 66, 77, 84, 96, 108],\n",
       " [0, 12, 24, 36, 48, 52, 66, 77, 84, 96, 108],\n",
       " [0, 12, 24, 36, 48, 52, 66, 77, 84, 96, 108],\n",
       " [0, 12, 24, 36, 48, 52, 66, 77, 84, 96, 108],\n",
       " [0, 12, 24, 36, 48, 52, 66, 77, 84, 96, 108],\n",
       " [0, 12, 24, 36, 48, 52, 66, 77, 84, 96, 108],\n",
       " [0, 12, 24, 36, 48, 52, 66, 77, 84, 96, 108],\n",
       " [0, 12, 24, 36, 48, 52, 66, 77, 84, 96, 108],\n",
       " [0, 12, 24, 36, 48, 52, 66, 77, 84, 96, 108],\n",
       " [0, 12, 24, 36, 48, 52, 66, 77, 84, 96, 108],\n",
       " [0, 12, 24, 36, 48, 52, 66, 77, 84, 96, 108],\n",
       " [0, 12, 24, 36, 48, 52, 66, 77, 84, 96, 108],\n",
       " [0, 12, 24, 36, 48, 52, 66, 77, 84, 96, 108],\n",
       " [0, 12, 24, 36, 48, 52, 66, 77, 84, 96, 108],\n",
       " [0, 12, 24, 36, 48, 52, 66, 77, 84, 96, 108],\n",
       " [0, 12, 24, 36, 48, 52, 66, 77, 84, 96, 108],\n",
       " [0, 12, 24, 36, 48, 52, 66, 77, 84, 96, 108],\n",
       " [0, 12, 24, 36, 48, 52, 66, 77, 84, 96, 108],\n",
       " [0, 12, 24, 36, 48, 52, 66, 77, 84, 96, 108],\n",
       " [0, 12, 24, 36, 48, 52, 66, 77, 84, 96, 108],\n",
       " [0, 12, 24, 36, 48, 52, 66, 77, 84, 96, 108],\n",
       " [0, 12, 24, 36, 48, 52, 66, 77, 84, 96, 108],\n",
       " [0, 12, 24, 36, 48, 52, 66, 77, 84, 96, 108]]"
      ]
     },
     "execution_count": 23,
     "metadata": {},
     "output_type": "execute_result"
    }
   ],
   "source": [
    "[numeric_index]*len(pcaslr.index.values)"
   ]
  },
  {
   "cell_type": "code",
   "execution_count": 13,
   "metadata": {},
   "outputs": [
    {
     "data": {
      "text/html": [
       "<div>\n",
       "<style>\n",
       "    .dataframe thead tr:only-child th {\n",
       "        text-align: right;\n",
       "    }\n",
       "\n",
       "    .dataframe thead th {\n",
       "        text-align: left;\n",
       "    }\n",
       "\n",
       "    .dataframe tbody tr th {\n",
       "        vertical-align: top;\n",
       "    }\n",
       "</style>\n",
       "<table border=\"1\" class=\"dataframe\">\n",
       "  <thead>\n",
       "    <tr style=\"text-align: right;\">\n",
       "      <th></th>\n",
       "      <th>0inches</th>\n",
       "      <th>12inches</th>\n",
       "      <th>24inches</th>\n",
       "      <th>36inches</th>\n",
       "      <th>48inches</th>\n",
       "      <th>52inches</th>\n",
       "      <th>66inches</th>\n",
       "      <th>77inches</th>\n",
       "      <th>84inches</th>\n",
       "      <th>96inches</th>\n",
       "      <th>108inches</th>\n",
       "    </tr>\n",
       "    <tr>\n",
       "      <th>uid</th>\n",
       "      <th></th>\n",
       "      <th></th>\n",
       "      <th></th>\n",
       "      <th></th>\n",
       "      <th></th>\n",
       "      <th></th>\n",
       "      <th></th>\n",
       "      <th></th>\n",
       "      <th></th>\n",
       "      <th></th>\n",
       "      <th></th>\n",
       "    </tr>\n",
       "  </thead>\n",
       "  <tbody>\n",
       "    <tr>\n",
       "      <th>MR46041</th>\n",
       "      <td>1</td>\n",
       "      <td>0.993022</td>\n",
       "      <td>0.988835</td>\n",
       "      <td>0.988137</td>\n",
       "      <td>0.862526</td>\n",
       "      <td>0.860433</td>\n",
       "      <td>0.847872</td>\n",
       "      <td>0.838102</td>\n",
       "      <td>0.833217</td>\n",
       "      <td>0.832519</td>\n",
       "      <td>0.832519</td>\n",
       "    </tr>\n",
       "    <tr>\n",
       "      <th>MR156041</th>\n",
       "      <td>1</td>\n",
       "      <td>0.381696</td>\n",
       "      <td>0.357143</td>\n",
       "      <td>0.341518</td>\n",
       "      <td>0.053571</td>\n",
       "      <td>0.037946</td>\n",
       "      <td>0.015625</td>\n",
       "      <td>0.008929</td>\n",
       "      <td>0.006696</td>\n",
       "      <td>0.004464</td>\n",
       "      <td>0.004464</td>\n",
       "    </tr>\n",
       "    <tr>\n",
       "      <th>MR186041</th>\n",
       "      <td>1</td>\n",
       "      <td>0.453488</td>\n",
       "      <td>0.348837</td>\n",
       "      <td>0.290698</td>\n",
       "      <td>0.168605</td>\n",
       "      <td>0.162791</td>\n",
       "      <td>0.110465</td>\n",
       "      <td>0.110465</td>\n",
       "      <td>0.110465</td>\n",
       "      <td>0.098837</td>\n",
       "      <td>0.087209</td>\n",
       "    </tr>\n",
       "    <tr>\n",
       "      <th>MR146041</th>\n",
       "      <td>1</td>\n",
       "      <td>1.000000</td>\n",
       "      <td>1.000000</td>\n",
       "      <td>1.000000</td>\n",
       "      <td>0.690722</td>\n",
       "      <td>0.680412</td>\n",
       "      <td>0.592784</td>\n",
       "      <td>0.587629</td>\n",
       "      <td>0.587629</td>\n",
       "      <td>0.587629</td>\n",
       "      <td>0.587629</td>\n",
       "    </tr>\n",
       "    <tr>\n",
       "      <th>MR96041</th>\n",
       "      <td>1</td>\n",
       "      <td>0.725108</td>\n",
       "      <td>0.461039</td>\n",
       "      <td>0.225108</td>\n",
       "      <td>0.099567</td>\n",
       "      <td>0.075758</td>\n",
       "      <td>0.058442</td>\n",
       "      <td>0.049784</td>\n",
       "      <td>0.043290</td>\n",
       "      <td>0.043290</td>\n",
       "      <td>0.041126</td>\n",
       "    </tr>\n",
       "  </tbody>\n",
       "</table>\n",
       "</div>"
      ],
      "text/plain": [
       "          0inches  12inches  24inches  36inches  48inches  52inches  66inches  \\\n",
       "uid                                                                             \n",
       "MR46041         1  0.993022  0.988835  0.988137  0.862526  0.860433  0.847872   \n",
       "MR156041        1  0.381696  0.357143  0.341518  0.053571  0.037946  0.015625   \n",
       "MR186041        1  0.453488  0.348837  0.290698  0.168605  0.162791  0.110465   \n",
       "MR146041        1  1.000000  1.000000  1.000000  0.690722  0.680412  0.592784   \n",
       "MR96041         1  0.725108  0.461039  0.225108  0.099567  0.075758  0.058442   \n",
       "\n",
       "          77inches  84inches  96inches  108inches  \n",
       "uid                                                \n",
       "MR46041   0.838102  0.833217  0.832519   0.832519  \n",
       "MR156041  0.008929  0.006696  0.004464   0.004464  \n",
       "MR186041  0.110465  0.110465  0.098837   0.087209  \n",
       "MR146041  0.587629  0.587629  0.587629   0.587629  \n",
       "MR96041   0.049784  0.043290  0.043290   0.041126  "
      ]
     },
     "execution_count": 13,
     "metadata": {},
     "output_type": "execute_result"
    }
   ],
   "source": [
    "slrdata.head()"
   ]
  },
  {
   "cell_type": "code",
   "execution_count": 16,
   "metadata": {},
   "outputs": [],
   "source": [
    "# join some PCA metadata\n",
    "pcaslr = pd.merge(slrdata, data[['uid', 'pud', 'name', 'Designation']], left_index=True, right_on='uid', how='left')"
   ]
  },
  {
   "cell_type": "code",
   "execution_count": 28,
   "metadata": {},
   "outputs": [
    {
     "data": {
      "text/html": [
       "\n",
       "    <div class=\"bk-root\">\n",
       "        <a href=\"http://bokeh.pydata.org\" target=\"_blank\" class=\"bk-logo bk-logo-small bk-logo-notebook\"></a>\n",
       "        <span id=\"98eb4385-f589-44b0-83b1-cc56fae6060e\">Loading BokehJS ...</span>\n",
       "    </div>"
      ]
     },
     "metadata": {},
     "output_type": "display_data"
    },
    {
     "data": {
      "application/javascript": [
       "\n",
       "(function(global) {\n",
       "  function now() {\n",
       "    return new Date();\n",
       "  }\n",
       "\n",
       "  var force = true;\n",
       "\n",
       "  if (typeof (window._bokeh_onload_callbacks) === \"undefined\" || force === true) {\n",
       "    window._bokeh_onload_callbacks = [];\n",
       "    window._bokeh_is_loading = undefined;\n",
       "  }\n",
       "\n",
       "\n",
       "  \n",
       "  if (typeof (window._bokeh_timeout) === \"undefined\" || force === true) {\n",
       "    window._bokeh_timeout = Date.now() + 5000;\n",
       "    window._bokeh_failed_load = false;\n",
       "  }\n",
       "\n",
       "  var NB_LOAD_WARNING = {'data': {'text/html':\n",
       "     \"<div style='background-color: #fdd'>\\n\"+\n",
       "     \"<p>\\n\"+\n",
       "     \"BokehJS does not appear to have successfully loaded. If loading BokehJS from CDN, this \\n\"+\n",
       "     \"may be due to a slow or bad network connection. Possible fixes:\\n\"+\n",
       "     \"</p>\\n\"+\n",
       "     \"<ul>\\n\"+\n",
       "     \"<li>re-rerun `output_notebook()` to attempt to load from CDN again, or</li>\\n\"+\n",
       "     \"<li>use INLINE resources instead, as so:</li>\\n\"+\n",
       "     \"</ul>\\n\"+\n",
       "     \"<code>\\n\"+\n",
       "     \"from bokeh.resources import INLINE\\n\"+\n",
       "     \"output_notebook(resources=INLINE)\\n\"+\n",
       "     \"</code>\\n\"+\n",
       "     \"</div>\"}};\n",
       "\n",
       "  function display_loaded() {\n",
       "    if (window.Bokeh !== undefined) {\n",
       "      document.getElementById(\"98eb4385-f589-44b0-83b1-cc56fae6060e\").textContent = \"BokehJS successfully loaded.\";\n",
       "    } else if (Date.now() < window._bokeh_timeout) {\n",
       "      setTimeout(display_loaded, 100)\n",
       "    }\n",
       "  }\n",
       "\n",
       "  function run_callbacks() {\n",
       "    window._bokeh_onload_callbacks.forEach(function(callback) { callback() });\n",
       "    delete window._bokeh_onload_callbacks\n",
       "    console.info(\"Bokeh: all callbacks have finished\");\n",
       "  }\n",
       "\n",
       "  function load_libs(js_urls, callback) {\n",
       "    window._bokeh_onload_callbacks.push(callback);\n",
       "    if (window._bokeh_is_loading > 0) {\n",
       "      console.log(\"Bokeh: BokehJS is being loaded, scheduling callback at\", now());\n",
       "      return null;\n",
       "    }\n",
       "    if (js_urls == null || js_urls.length === 0) {\n",
       "      run_callbacks();\n",
       "      return null;\n",
       "    }\n",
       "    console.log(\"Bokeh: BokehJS not loaded, scheduling load and callback at\", now());\n",
       "    window._bokeh_is_loading = js_urls.length;\n",
       "    for (var i = 0; i < js_urls.length; i++) {\n",
       "      var url = js_urls[i];\n",
       "      var s = document.createElement('script');\n",
       "      s.src = url;\n",
       "      s.async = false;\n",
       "      s.onreadystatechange = s.onload = function() {\n",
       "        window._bokeh_is_loading--;\n",
       "        if (window._bokeh_is_loading === 0) {\n",
       "          console.log(\"Bokeh: all BokehJS libraries loaded\");\n",
       "          run_callbacks()\n",
       "        }\n",
       "      };\n",
       "      s.onerror = function() {\n",
       "        console.warn(\"failed to load library \" + url);\n",
       "      };\n",
       "      console.log(\"Bokeh: injecting script tag for BokehJS library: \", url);\n",
       "      document.getElementsByTagName(\"head\")[0].appendChild(s);\n",
       "    }\n",
       "  };var element = document.getElementById(\"98eb4385-f589-44b0-83b1-cc56fae6060e\");\n",
       "  if (element == null) {\n",
       "    console.log(\"Bokeh: ERROR: autoload.js configured with elementid '98eb4385-f589-44b0-83b1-cc56fae6060e' but no matching script tag was found. \")\n",
       "    return false;\n",
       "  }\n",
       "\n",
       "  var js_urls = [\"https://cdn.pydata.org/bokeh/release/bokeh-0.12.4.min.js\", \"https://cdn.pydata.org/bokeh/release/bokeh-widgets-0.12.4.min.js\"];\n",
       "\n",
       "  var inline_js = [\n",
       "    function(Bokeh) {\n",
       "      Bokeh.set_log_level(\"info\");\n",
       "    },\n",
       "    \n",
       "    function(Bokeh) {\n",
       "      \n",
       "      document.getElementById(\"98eb4385-f589-44b0-83b1-cc56fae6060e\").textContent = \"BokehJS is loading...\";\n",
       "    },\n",
       "    function(Bokeh) {\n",
       "      console.log(\"Bokeh: injecting CSS: https://cdn.pydata.org/bokeh/release/bokeh-0.12.4.min.css\");\n",
       "      Bokeh.embed.inject_css(\"https://cdn.pydata.org/bokeh/release/bokeh-0.12.4.min.css\");\n",
       "      console.log(\"Bokeh: injecting CSS: https://cdn.pydata.org/bokeh/release/bokeh-widgets-0.12.4.min.css\");\n",
       "      Bokeh.embed.inject_css(\"https://cdn.pydata.org/bokeh/release/bokeh-widgets-0.12.4.min.css\");\n",
       "    }\n",
       "  ];\n",
       "\n",
       "  function run_inline_js() {\n",
       "    \n",
       "    if ((window.Bokeh !== undefined) || (force === true)) {\n",
       "      for (var i = 0; i < inline_js.length; i++) {\n",
       "        inline_js[i](window.Bokeh);\n",
       "      }if (force === true) {\n",
       "        display_loaded();\n",
       "      }} else if (Date.now() < window._bokeh_timeout) {\n",
       "      setTimeout(run_inline_js, 100);\n",
       "    } else if (!window._bokeh_failed_load) {\n",
       "      console.log(\"Bokeh: BokehJS failed to load within specified timeout.\");\n",
       "      window._bokeh_failed_load = true;\n",
       "    } else if (force !== true) {\n",
       "      var cell = $(document.getElementById(\"98eb4385-f589-44b0-83b1-cc56fae6060e\")).parents('.cell').data().cell;\n",
       "      cell.output_area.append_execute_result(NB_LOAD_WARNING)\n",
       "    }\n",
       "\n",
       "  }\n",
       "\n",
       "  if (window._bokeh_is_loading === 0) {\n",
       "    console.log(\"Bokeh: BokehJS loaded, going straight to plotting\");\n",
       "    run_inline_js();\n",
       "  } else {\n",
       "    load_libs(js_urls, function() {\n",
       "      console.log(\"Bokeh: BokehJS plotting callback run at\", now());\n",
       "      run_inline_js();\n",
       "    });\n",
       "  }\n",
       "}(this));"
      ]
     },
     "metadata": {},
     "output_type": "display_data"
    },
    {
     "name": "stderr",
     "output_type": "stream",
     "text": [
      "/home/dmf/miniconda3/envs/geowork/lib/python3.6/site-packages/bokeh/core/json_encoder.py:73: FutureWarning: pandas.tslib is deprecated and will be removed in a future version.\n",
      "You can access Timestamp as pandas.Timestamp\n",
      "  if pd and isinstance(obj, pd.tslib.Timestamp):\n"
     ]
    },
    {
     "data": {
      "text/html": [
       "\n",
       "\n",
       "    <div class=\"bk-root\">\n",
       "        <div class=\"bk-plotdiv\" id=\"1dad323c-6fa1-45d2-b30d-7a39d8561be2\"></div>\n",
       "    </div>\n",
       "<script type=\"text/javascript\">\n",
       "  \n",
       "  (function(global) {\n",
       "    function now() {\n",
       "      return new Date();\n",
       "    }\n",
       "  \n",
       "    var force = false;\n",
       "  \n",
       "    if (typeof (window._bokeh_onload_callbacks) === \"undefined\" || force === true) {\n",
       "      window._bokeh_onload_callbacks = [];\n",
       "      window._bokeh_is_loading = undefined;\n",
       "    }\n",
       "  \n",
       "  \n",
       "    \n",
       "    if (typeof (window._bokeh_timeout) === \"undefined\" || force === true) {\n",
       "      window._bokeh_timeout = Date.now() + 0;\n",
       "      window._bokeh_failed_load = false;\n",
       "    }\n",
       "  \n",
       "    var NB_LOAD_WARNING = {'data': {'text/html':\n",
       "       \"<div style='background-color: #fdd'>\\n\"+\n",
       "       \"<p>\\n\"+\n",
       "       \"BokehJS does not appear to have successfully loaded. If loading BokehJS from CDN, this \\n\"+\n",
       "       \"may be due to a slow or bad network connection. Possible fixes:\\n\"+\n",
       "       \"</p>\\n\"+\n",
       "       \"<ul>\\n\"+\n",
       "       \"<li>re-rerun `output_notebook()` to attempt to load from CDN again, or</li>\\n\"+\n",
       "       \"<li>use INLINE resources instead, as so:</li>\\n\"+\n",
       "       \"</ul>\\n\"+\n",
       "       \"<code>\\n\"+\n",
       "       \"from bokeh.resources import INLINE\\n\"+\n",
       "       \"output_notebook(resources=INLINE)\\n\"+\n",
       "       \"</code>\\n\"+\n",
       "       \"</div>\"}};\n",
       "  \n",
       "    function display_loaded() {\n",
       "      if (window.Bokeh !== undefined) {\n",
       "        document.getElementById(\"1dad323c-6fa1-45d2-b30d-7a39d8561be2\").textContent = \"BokehJS successfully loaded.\";\n",
       "      } else if (Date.now() < window._bokeh_timeout) {\n",
       "        setTimeout(display_loaded, 100)\n",
       "      }\n",
       "    }if ((window.Jupyter !== undefined) && Jupyter.notebook.kernel) {\n",
       "      comm_manager = Jupyter.notebook.kernel.comm_manager\n",
       "      comm_manager.register_target(\"e27f0835-ec9f-47c4-87c1-bb1849fad97b\", function () {});\n",
       "    }\n",
       "  \n",
       "    function run_callbacks() {\n",
       "      window._bokeh_onload_callbacks.forEach(function(callback) { callback() });\n",
       "      delete window._bokeh_onload_callbacks\n",
       "      console.info(\"Bokeh: all callbacks have finished\");\n",
       "    }\n",
       "  \n",
       "    function load_libs(js_urls, callback) {\n",
       "      window._bokeh_onload_callbacks.push(callback);\n",
       "      if (window._bokeh_is_loading > 0) {\n",
       "        console.log(\"Bokeh: BokehJS is being loaded, scheduling callback at\", now());\n",
       "        return null;\n",
       "      }\n",
       "      if (js_urls == null || js_urls.length === 0) {\n",
       "        run_callbacks();\n",
       "        return null;\n",
       "      }\n",
       "      console.log(\"Bokeh: BokehJS not loaded, scheduling load and callback at\", now());\n",
       "      window._bokeh_is_loading = js_urls.length;\n",
       "      for (var i = 0; i < js_urls.length; i++) {\n",
       "        var url = js_urls[i];\n",
       "        var s = document.createElement('script');\n",
       "        s.src = url;\n",
       "        s.async = false;\n",
       "        s.onreadystatechange = s.onload = function() {\n",
       "          window._bokeh_is_loading--;\n",
       "          if (window._bokeh_is_loading === 0) {\n",
       "            console.log(\"Bokeh: all BokehJS libraries loaded\");\n",
       "            run_callbacks()\n",
       "          }\n",
       "        };\n",
       "        s.onerror = function() {\n",
       "          console.warn(\"failed to load library \" + url);\n",
       "        };\n",
       "        console.log(\"Bokeh: injecting script tag for BokehJS library: \", url);\n",
       "        document.getElementsByTagName(\"head\")[0].appendChild(s);\n",
       "      }\n",
       "    };var element = document.getElementById(\"1dad323c-6fa1-45d2-b30d-7a39d8561be2\");\n",
       "    if (element == null) {\n",
       "      console.log(\"Bokeh: ERROR: autoload.js configured with elementid '1dad323c-6fa1-45d2-b30d-7a39d8561be2' but no matching script tag was found. \")\n",
       "      return false;\n",
       "    }\n",
       "  \n",
       "    var js_urls = [];\n",
       "  \n",
       "    var inline_js = [\n",
       "      function(Bokeh) {\n",
       "        (function() {\n",
       "          var fn = function() {\n",
       "            var docs_json = {\"cf8c0aaa-1ccd-4011-a3d0-189122bdd036\":{\"roots\":{\"references\":[{\"attributes\":{\"plot\":{\"id\":\"2503eeff-351a-4575-a015-eab490a36968\",\"subtype\":\"Figure\",\"type\":\"Plot\"},\"ticker\":{\"id\":\"eeffeb0a-c370-47f5-a51e-aff5fb8baaa4\",\"type\":\"BasicTicker\"}},\"id\":\"15c3b3c6-317c-4fb7-b02e-a2468d273b8e\",\"type\":\"Grid\"},{\"attributes\":{},\"id\":\"9859d648-4b4b-4490-bb6f-73354c52d004\",\"type\":\"BasicTickFormatter\"},{\"attributes\":{\"data_source\":{\"id\":\"7376e5ec-c44b-438d-8fb0-1d3f4dd326a4\",\"type\":\"ColumnDataSource\"},\"glyph\":{\"id\":\"0d175f99-9ad0-455a-8e4e-e90ee56366ec\",\"type\":\"MultiLine\"},\"hover_glyph\":null,\"nonselection_glyph\":{\"id\":\"d03e8962-4a84-4120-8ab6-66435c7d90a9\",\"type\":\"MultiLine\"},\"selection_glyph\":null},\"id\":\"e9cd895b-430e-4ae3-ae73-c3287b07ec61\",\"type\":\"GlyphRenderer\"},{\"attributes\":{\"plot\":{\"id\":\"2503eeff-351a-4575-a015-eab490a36968\",\"subtype\":\"Figure\",\"type\":\"Plot\"}},\"id\":\"e4dfe770-e54f-4387-89da-b5fe9ede0bd3\",\"type\":\"WheelZoomTool\"},{\"attributes\":{\"plot\":{\"id\":\"2503eeff-351a-4575-a015-eab490a36968\",\"subtype\":\"Figure\",\"type\":\"Plot\"}},\"id\":\"42588adc-8097-41d5-b6c9-8cdbd7b365ea\",\"type\":\"ResetTool\"},{\"attributes\":{\"plot\":{\"id\":\"2503eeff-351a-4575-a015-eab490a36968\",\"subtype\":\"Figure\",\"type\":\"Plot\"}},\"id\":\"3019ce39-5db7-43ff-a697-daba05d626bf\",\"type\":\"SaveTool\"},{\"attributes\":{},\"id\":\"29f783bb-ae39-448f-bd01-ffe623f5f856\",\"type\":\"BasicTicker\"},{\"attributes\":{\"line_alpha\":{\"value\":0.4},\"line_color\":{\"value\":\"red\"},\"xs\":{\"field\":\"xs\"},\"ys\":{\"field\":\"ys\"}},\"id\":\"0d175f99-9ad0-455a-8e4e-e90ee56366ec\",\"type\":\"MultiLine\"},{\"attributes\":{\"callback\":null,\"line_policy\":\"next\",\"plot\":{\"id\":\"2503eeff-351a-4575-a015-eab490a36968\",\"subtype\":\"Figure\",\"type\":\"Plot\"},\"show_arrow\":false,\"tooltips\":[[\"PCA\",\"@name\"],[\"PUD\",\"@pud\"],[\"Type\",\"@desig\"]]},\"id\":\"d3e02df8-c526-458c-a25b-9a980969536e\",\"type\":\"HoverTool\"},{\"attributes\":{\"below\":[{\"id\":\"600962d9-d3a1-48f7-a169-a30477e4e221\",\"type\":\"LinearAxis\"}],\"left\":[{\"id\":\"ec566bbb-1665-4f33-9e95-4e5515e8a823\",\"type\":\"LinearAxis\"}],\"plot_height\":400,\"plot_width\":900,\"renderers\":[{\"id\":\"600962d9-d3a1-48f7-a169-a30477e4e221\",\"type\":\"LinearAxis\"},{\"id\":\"15c3b3c6-317c-4fb7-b02e-a2468d273b8e\",\"type\":\"Grid\"},{\"id\":\"ec566bbb-1665-4f33-9e95-4e5515e8a823\",\"type\":\"LinearAxis\"},{\"id\":\"cc5a2603-f511-4ed4-9bbc-3538ba9531dc\",\"type\":\"Grid\"},{\"id\":\"a8c55d34-93d9-49b3-b8db-790b667d4ee4\",\"type\":\"BoxAnnotation\"},{\"id\":\"e9cd895b-430e-4ae3-ae73-c3287b07ec61\",\"type\":\"GlyphRenderer\"}],\"title\":{\"id\":\"0b35eb47-fde6-44aa-81ac-89d2543d4b39\",\"type\":\"Title\"},\"tool_events\":{\"id\":\"6d3804a4-f139-4bed-a3d9-594021d7e740\",\"type\":\"ToolEvents\"},\"toolbar\":{\"id\":\"8a9ad020-f78c-4e8b-969d-2dc2b3a77668\",\"type\":\"Toolbar\"},\"x_range\":{\"id\":\"fa6ccab9-3ac5-4f58-90a0-9c502fcc7c0a\",\"type\":\"Range1d\"},\"y_range\":{\"id\":\"5fef2573-cfa9-420d-9134-ad303da3b816\",\"type\":\"DataRange1d\"}},\"id\":\"2503eeff-351a-4575-a015-eab490a36968\",\"subtype\":\"Figure\",\"type\":\"Plot\"},{\"attributes\":{\"dimension\":1,\"plot\":{\"id\":\"2503eeff-351a-4575-a015-eab490a36968\",\"subtype\":\"Figure\",\"type\":\"Plot\"},\"ticker\":{\"id\":\"29f783bb-ae39-448f-bd01-ffe623f5f856\",\"type\":\"BasicTicker\"}},\"id\":\"cc5a2603-f511-4ed4-9bbc-3538ba9531dc\",\"type\":\"Grid\"},{\"attributes\":{\"callback\":null,\"column_names\":[\"xs\",\"ys\",\"name\",\"pud\",\"desig\"],\"data\":{\"desig\":[\"AL\",\"NL\",\"NL\",\"NL\",\"NL\",\"NL\",\"NL\",\"AL\",\"NL, RR\",\"NL\",\"NL\",\"NL, RR\",\"NL\",\"NL, RR, AL\",\"NL, AL\",\"NL, AL, RR\",\"NL, AL, RR, UG\",\"NL\",\"NL\",\"NL\",\"NL\",\"NL\",\"NL\",\"NL\",\"NL\",\"NL\",\"RR\",\"RR\",\"RR\",\"RR\",\"RR\",\"RR\",\"RR\",\"RR\",\"RR\",\"RR\",\"RR\",\"RR\",\"RR\",\"NL, RR\",\"NL, AL, RR, UG\",\"NL, RR, UG\",\"NL, RR\",\"NL, UG\",\"RR\",\"UG\",\"NL, RR, UG\",\"NL\",\"AL\",\"NL\",\"NL, RR, UG\",\"NL, AL\",\"NL, AL, RR\",\"NL, AL, RR\",\"NL, AL, UG\",\"NL, RR, AL\",\"NL, RR, AL\",\"NL, RR\",\"NL, RR, AL\",\"NL\",\"NL, AL, RR\",\"NL\",\"NL, RR\",\"NL, RR\",\"NL\",\"NL, RR\",\"NaN\",\"NL\",\"NaN\",\"NL, RR\",\"NL, RR\",\"NL, RR\",\"NL, RR\",\"NL, AL, RR\",\"NL\",\"NL\",\"NL\",\"NL\",\"NL, RR\",\"AL\",\"NL\",\"NL\",\"NL, RR\",\"NL, RR\",\"RR\",\"RR\",\"NL\",\"NL\",\"NL\",\"NL, RR, AL\",\"NL, RR, AL\",\"NL, RR, AL\",\"NL, RR, AL\",\"NL, RR, AL\",\"NL, RR\",\"NL, RR, AL\",\"NL, RR, AL\",\"NL, RR, AL\",\"NL, RR, AL\",\"NL, RR, AL\",\"NL, RR, AL\",\"NL, RR, AL\",\"NL, RR, AL\",\"NL, RR, AL\",\"NL, RR\",\"NL, AL, RR, UG\",\"NL, AL, RR, UG\",\"NL, AL, RR\",\"NL, RR\",\"NL, AL, RR\",\"NL, RR, UG\",\"NL, AL, RR, UG\",\"NL\",\"NL\",\"NL\",\"NL\",\"RR\",\"RR\",\"NL\",\"NL, RR\",\"NL, RR, AL\",\"NL, RR\",\"NL, RR\",\"NL, RR, AL\",\"NL, RR\",\"NL, RR\",\"UG, RR\",\"NL, RR\",\"NL, AL, UG, RR\",\"NL, RR\",\"NL, RR, UG\",\"NL, RR\",\"NL, RR, UG\",\"RR, UG\",\"NL, UG, AL\",\"UG\",\"AL, RR\",\"NL, UG\",\"AL, NL, UG\",\"NL, AL, RR\",\"NL, AL, RR, UG\",\"RR, AL, UG\",\"NL, AL, RR\",\"NL, RR\",\"AL\",\"AL, UG\",\"NL, RR, AL\",\"NL, RR, AL\",\"NL, RR, AL\",\"NL\",\"RR, AL, NL\",\"AL\",\"NL, UG, AL\",\"NL, UG, RR\",\"NL, RR, AL\",\"NL, UG, RR\",\"NL, UG, RR\",\"NL, UG, RR\",\"NL, RR\",\"NL, UG, RR\",\"NL, UG, RR\",\"NL, RR\",\"NL\",\"NL\",\"NL, AL, UG\",\"UG, RR\",\"NL, RR\",\"NL, RR, AL\",\"NL, RR\",\"NL, RR\",\"NL, RR\",\"NL, RR\",\"NL, RR\",\"NL, RR\",\"NL, RR\",\"UG\",\"UG\",\"UG\",\"NaN\",\"NL\",\"NL\",\"NL, RR\",\"NL, RR\",\"NL, RR\",\"NL\",\"NL, RR\"],\"name\":[\"Marin County Agricultural Lands\",\"Central Marin Bayfront, Madera Bay Park\",\"Central Marin Bayfront, Canalways\",\"St. Vincent's and Silveira Properties\",\"Bothin Waterfront\",\"Tiburon Ridge Lands\",\"North County Gateway\",\"Albany Hill\",\"Potential Oakland Gateway Area\",\"Site 1-Coyote Hills\",\"East Bay Greenway\",\"Point Edith Wetlands Area\",\"Central Hercules and Waterfront District\",\"Baylands\",\"Coastal Agriculture\",\"Sonoma Baylands\",\"Petaluma Watershed Southeastern Portion\",\"San Francisco Bay Trail - Bay Area Ridge Trail\",\"San Francisco Bay Trail - Bay Area Ridge Trail\",\"San Francisco Bay Trail - Bay Area Ridge Trail\",\"San Francisco Bay Trail - Bay Area Ridge Trail\",\"San Francisco Bay Trail - Bay Area Ridge Trail\",\"San Francisco Bay Trail - Bay Area Ridge Trail\",\"San Francisco Bay Trail - Bay Area Ridge Trail\",\"San Francisco Bay Trail - Bay Area Ridge Trail\",\"San Francisco Bay Trail - Bay Area Ridge Trail\",\"Regional Trails System Gaps\",\"Regional Trails System Gaps\",\"California Coastal Trail\",\"California Coastal Trail\",\"San Francisco Bay Area Water Trail\",\"San Francisco Bay Area Water Trail\",\"San Francisco Bay Area Water Trail\",\"San Francisco Bay Area Water Trail\",\"San Francisco Bay Area Water Trail\",\"San Francisco Bay Area Water Trail\",\"San Francisco Bay Area Water Trail\",\"San Francisco Bay Area Water Trail\",\"San Francisco Bay Area Water Trail\",\"Menlo Park and East Palo Alto Baylands\",\"San Bruno Mountain and Surrounding Area\",\"Baylands\",\"Oakland Priority Estuaries\",\"Oakland Priority Creeks\",\"Oakland Recreational Trails\",\"Oakland Urban Greening\",\"Oakland Priority Creek Trails\",\"Pinole Creek Watershed\",\"Napa County Agricultural Lands and Watersheds\",\"Napa Valley - Napa River Corridor\",\"Riparian Corridor\",\"Blue Ridge Hills (Vaca Mountains)\",\"Western Hills (including part of the Vallejo Lakes Property)\",\"Tri City and County Cooperative Planning Area\",\"Vacaville-Fairfield-Solano Greenbelt and Cement Hill\",\"Gateway to the San Mateo County Coast\",\"Upper San Gregorio Creek Headwaters\",\"Pacifica Conservation Area: South of Mussell Rock to McNee Ranch State Park\",\"Lobitos Ridge Corridor\",\"Montara Mountain Complex\",\"Bowman Canyon\",\"Big Rock Ridge Lands\",\"North Golden Gate National Recreation Area Lagunitas Creek Parcels\",\"San Geronimo Valley Headwaters of the Lagunitas Watershed and Shore of Tomales Bay\",\"Third Valley Creek/Chicken Ranch Beach Conservation Area\",\"Marin City Ridge\",\"Central Marin Ridge Lands\",\"Butters Canyon/Headwaters of Peralta Creek\",\"Bethany Reservoir Area\",\"Cedar Mountain Area\",\"Duarte Canyon Area\",\"Chain of Lakes Area\",\"Potential Tesla Area\",\"North Livermore, South Livermore Valley\",\"Leona Canyon Creek Tributaries\",\"Ridgemont West\",\"South Hills, San Leandro Creek\",\"Temescal Creek/North Oakland\",\"Union City Hillside Area\",\"Contra Costa County Agricultural Core\",\"East Contra Costa County Habitat Conservation Plan/Natural Community Conservation Plan (ECCC HCP/NCCP)\",\"Indian Valley\",\"Delta Recreation Area\",\"Potential Pinole Watershed Area\",\"Burton Ridge\",\"Lafayette Ridge\",\"MOSO and NON-MOSO Open Space\",\"Big Canyon Preserve\",\"Acalanes Ridge Open Space\",\"Soap Lake\",\"Rancho Ca\\u00f1ada\",\"South County Agriculture\",\"Alum Rock Foothills\",\"East Berryessa Foothills\",\"Joseph D. Grant to Coyote Ridge\",\"East Coyote Foothills to Almaden Quicksilver\",\"Paradise Valley to Calero\",\"Anderson/Coyote Connection\",\"Lexington Hills\",\"Sanborn Skyline\",\"Pescadero/Tar Creek\",\"East Gilroy Foothills\",\"South County Regional Trail Connection\",\"Upper Stevens Creek Watershed Area\",\"Upper Los Gatos Creek Watershed\",\"Laguna de Santa Rosa\",\"Santa Rosa Plain\",\"Coastal Sonoma to Armstrong Redwoods\",\"Coastal Access and Resource Protection\",\"Sonoma County Gateway\",\"Russian River Access\",\"Sonoma Mountain\",\"The Cedars\",\"Northern Mayacamas\",\"Pitkin Marsh - Atascadero Creek Watershed\",\"Upper Mark West Watershed\",\"California Coastal Trail\",\"California Coastal Trail\",\"San Francisco Watershed Lands to Wilder Ranch State Park Priority Conservation Area\",\"Pedro Point Headlands\",\"Miramontes\",\"North Skyline\",\"South Skyline\",\"Southern San Mateo Coast\",\"Teague Hill\",\"Windy Hill\",\"O'Hair Park\",\"Davidson Hill Area\",\"Hill Recreation and Arroyo Avichi Creek Area\",\"Carmel Open Space\",\"Los Gatos Creek Park\",\"Penitencia Creek County Park\",\"Coyote Creek Parkway\",\"Coyote Ridge\",\"Coyote Valley - Mid\",\"Coyote Valley - North\",\"Coyote Valley - South\",\"Field Sports Park\",\"Gilroy 660\",\"Gilroy Foothills\",\"Gilroy South\",\"Martial Cottle\",\"Metcalf\",\"Morgan Hill South\",\"Pacheco Agriculture\",\"San Martin South Agriculture\",\"Santa Cruz Mountains East\",\"Santa Teresa Hills\",\"Sierra Vista\",\"Upper Pacheco\",\"Northeastern Quadrant\",\"San Martin North Agriculture\",\"Upper Pajaro Agriculture\",\"Ulistac Natural Area\",\"Mount Hamilton Range\",\"Fairfax Zone 1 - Western Fairfax/Tamarancho/Cascade\",\"Fairfax Zone 2 - Southern Fairfax/Bald Hill\",\"Fairfax Zone 3 - Northern Fairfax/Sleepy Hollow/Oak Manor/Wall\",\"Bayview Hill Natural Area\",\"Crosstown Trail: Connecting Twin Peaks Bio-Region/Glen Canyon\",\"Green Connections: McLaren Park Pivot\",\"Palou Phelps Natural Area\",\"Oakland Natural Landscapes\",\"Office of Education - Loma Mar Property\",\"Suisun Valley\",\"Livermore Arroyos, Parks and Trails\",\"Palo Alto Open Space\",\"Hidden Villa/Rancho San Antonio\",\"Southeast Rancho San Antonio\",\"Cupertino Open Space\",\"Stevens Creek\",\"Saratoga-to-the-Sea\",\"El Sereno/Sierra Azul\",\"Critical Wildlife Linkage\",\"Eastern Sierra Azul\",\"Hillside Natural Area\",\"Ohlone Greenway\",\"Cerrito Creek\",\"Bethany Reservoir Area\",\"Bothe-Napa Valley State Park to Sugarloaf Ridge State Park Priority Conservation Area\",\"Redwood & Dry Creek Watersheds Priority Conservation Area\",\"Palisades - Mount Saint Helena to Angwin\",\"Interior Mountains - Moore Creek to Milliken Creek\",\"Blue Oak Woodlands of the Lake District\",\"Lake Curry/Suisun Creek Watershed\",\"Southern Mountains - Skyline Park to Newell Preserve\"],\"pud\":[130.272727272727,40.7272727272727,15.6363636363636,17.6363636363636,42.0,5.18181818181818,12.909090909090901,6.27272727272727,49.9090909090909,8.63636363636364,34.454545454545496,3.45454545454545,18.727272727272698,3.36363636363636,94.5454545454545,121.181818181818,23.181818181818198,56.2727272727273,29.181818181818198,134.545454545455,43.1818181818182,292.272727272727,26.3636363636364,19.727272727272698,9.0,6.4545454545454515,7.72727272727273,30.0,159.727272727273,737.0,7.4545454545454515,0.272727272727273,0.9090909090909092,1.45454545454545,0.181818181818182,1.18181818181818,26.0909090909091,2.2727272727272703,0.818181818181818,41.54545454545449,71.9090909090909,150.545454545455,308.36363636363603,82.0909090909091,3.90909090909091,2909.54545454545,30.818181818181802,46.545454545454504,763.727272727273,362.27272727272697,145.545454545455,7.63636363636364,4.90909090909091,49.9090909090909,2.36363636363636,50.63636363636361,60.363636363636395,71.8181818181818,72.0,368.0,0.545454545454545,2.54545454545455,0.0909090909090909,33.2727272727273,3.90909090909091,1.90909090909091,6.27272727272727,0.0,4.81818181818182,4.27272727272727,1.72727272727273,3.2727272727272703,4.63636363636364,91.9090909090909,0.454545454545455,3.7272727272727297,1.09090909090909,5.72727272727273,0.9090909090909092,16.363636363636402,73.1818181818182,1.09090909090909,10.0,2.36363636363636,1.09090909090909,7.09090909090909,7.81818181818182,0.0909090909090909,0.181818181818182,1.54545454545455,1.54545454545455,6.5454545454545485,7.27272727272727,21.7272727272727,1.3636363636363602,37.0909090909091,17.0,2.18181818181818,59.1818181818182,82.3636363636364,14.3636363636364,2.0,49.7272727272727,29.3636363636364,8.90909090909091,54.2727272727273,44.0909090909091,421.181818181818,523.5454545454551,6.18181818181818,84.7272727272727,75.9090909090909,3.45454545454545,38.54545454545449,11.909090909090901,30.0,248.72727272727298,34.636363636363605,86.8181818181818,5.36363636363636,18.0,45.0909090909091,57.1818181818182,536.0,34.2727272727273,20.727272727272698,0.454545454545455,0.181818181818182,0.0,0.0,26.2727272727273,5.72727272727273,71.7272727272727,3.18181818181818,12.3636363636364,12.727272727272696,2.18181818181818,3.54545454545455,0.7272727272727271,0.9090909090909092,13.1818181818182,2.0,4.09090909090909,0.181818181818182,0.9090909090909092,4.63636363636364,109.636363636364,44.1818181818182,23.4545454545455,2.54545454545455,1.0,1.45454545454545,7.81818181818182,11.8181818181818,172.81818181818196,1.54545454545455,1.54545454545455,0.454545454545455,3.54545454545455,375.36363636363603,55.1818181818182,1.18181818181818,315.63636363636397,0.454545454545455,18.818181818181802,29.5454545454545,54.2727272727273,43.63636363636361,11.0,24.6363636363636,3.0,2.45454545454545,11.272727272727304,41.2727272727273,4.27272727272727,12.1818181818182,10.5454545454545,3.18181818181818,0.181818181818182,214.18181818181802,31.0909090909091,15.272727272727304,18.6363636363636,5.0,1.18181818181818,18.4545454545455],\"xs\":[[0,12,24,36,48,52,66,77,84,96,108],[0,12,24,36,48,52,66,77,84,96,108],[0,12,24,36,48,52,66,77,84,96,108],[0,12,24,36,48,52,66,77,84,96,108],[0,12,24,36,48,52,66,77,84,96,108],[0,12,24,36,48,52,66,77,84,96,108],[0,12,24,36,48,52,66,77,84,96,108],[0,12,24,36,48,52,66,77,84,96,108],[0,12,24,36,48,52,66,77,84,96,108],[0,12,24,36,48,52,66,77,84,96,108],[0,12,24,36,48,52,66,77,84,96,108],[0,12,24,36,48,52,66,77,84,96,108],[0,12,24,36,48,52,66,77,84,96,108],[0,12,24,36,48,52,66,77,84,96,108],[0,12,24,36,48,52,66,77,84,96,108],[0,12,24,36,48,52,66,77,84,96,108],[0,12,24,36,48,52,66,77,84,96,108],[0,12,24,36,48,52,66,77,84,96,108],[0,12,24,36,48,52,66,77,84,96,108],[0,12,24,36,48,52,66,77,84,96,108],[0,12,24,36,48,52,66,77,84,96,108],[0,12,24,36,48,52,66,77,84,96,108],[0,12,24,36,48,52,66,77,84,96,108],[0,12,24,36,48,52,66,77,84,96,108],[0,12,24,36,48,52,66,77,84,96,108],[0,12,24,36,48,52,66,77,84,96,108],[0,12,24,36,48,52,66,77,84,96,108],[0,12,24,36,48,52,66,77,84,96,108],[0,12,24,36,48,52,66,77,84,96,108],[0,12,24,36,48,52,66,77,84,96,108],[0,12,24,36,48,52,66,77,84,96,108],[0,12,24,36,48,52,66,77,84,96,108],[0,12,24,36,48,52,66,77,84,96,108],[0,12,24,36,48,52,66,77,84,96,108],[0,12,24,36,48,52,66,77,84,96,108],[0,12,24,36,48,52,66,77,84,96,108],[0,12,24,36,48,52,66,77,84,96,108],[0,12,24,36,48,52,66,77,84,96,108],[0,12,24,36,48,52,66,77,84,96,108],[0,12,24,36,48,52,66,77,84,96,108],[0,12,24,36,48,52,66,77,84,96,108],[0,12,24,36,48,52,66,77,84,96,108],[0,12,24,36,48,52,66,77,84,96,108],[0,12,24,36,48,52,66,77,84,96,108],[0,12,24,36,48,52,66,77,84,96,108],[0,12,24,36,48,52,66,77,84,96,108],[0,12,24,36,48,52,66,77,84,96,108],[0,12,24,36,48,52,66,77,84,96,108],[0,12,24,36,48,52,66,77,84,96,108],[0,12,24,36,48,52,66,77,84,96,108],[0,12,24,36,48,52,66,77,84,96,108],[0,12,24,36,48,52,66,77,84,96,108],[0,12,24,36,48,52,66,77,84,96,108],[0,12,24,36,48,52,66,77,84,96,108],[0,12,24,36,48,52,66,77,84,96,108],[0,12,24,36,48,52,66,77,84,96,108],[0,12,24,36,48,52,66,77,84,96,108],[0,12,24,36,48,52,66,77,84,96,108],[0,12,24,36,48,52,66,77,84,96,108],[0,12,24,36,48,52,66,77,84,96,108],[0,12,24,36,48,52,66,77,84,96,108],[0,12,24,36,48,52,66,77,84,96,108],[0,12,24,36,48,52,66,77,84,96,108],[0,12,24,36,48,52,66,77,84,96,108],[0,12,24,36,48,52,66,77,84,96,108],[0,12,24,36,48,52,66,77,84,96,108],[0,12,24,36,48,52,66,77,84,96,108],[0,12,24,36,48,52,66,77,84,96,108],[0,12,24,36,48,52,66,77,84,96,108],[0,12,24,36,48,52,66,77,84,96,108],[0,12,24,36,48,52,66,77,84,96,108],[0,12,24,36,48,52,66,77,84,96,108],[0,12,24,36,48,52,66,77,84,96,108],[0,12,24,36,48,52,66,77,84,96,108],[0,12,24,36,48,52,66,77,84,96,108],[0,12,24,36,48,52,66,77,84,96,108],[0,12,24,36,48,52,66,77,84,96,108],[0,12,24,36,48,52,66,77,84,96,108],[0,12,24,36,48,52,66,77,84,96,108],[0,12,24,36,48,52,66,77,84,96,108],[0,12,24,36,48,52,66,77,84,96,108],[0,12,24,36,48,52,66,77,84,96,108],[0,12,24,36,48,52,66,77,84,96,108],[0,12,24,36,48,52,66,77,84,96,108],[0,12,24,36,48,52,66,77,84,96,108],[0,12,24,36,48,52,66,77,84,96,108],[0,12,24,36,48,52,66,77,84,96,108],[0,12,24,36,48,52,66,77,84,96,108],[0,12,24,36,48,52,66,77,84,96,108],[0,12,24,36,48,52,66,77,84,96,108],[0,12,24,36,48,52,66,77,84,96,108],[0,12,24,36,48,52,66,77,84,96,108],[0,12,24,36,48,52,66,77,84,96,108],[0,12,24,36,48,52,66,77,84,96,108],[0,12,24,36,48,52,66,77,84,96,108],[0,12,24,36,48,52,66,77,84,96,108],[0,12,24,36,48,52,66,77,84,96,108],[0,12,24,36,48,52,66,77,84,96,108],[0,12,24,36,48,52,66,77,84,96,108],[0,12,24,36,48,52,66,77,84,96,108],[0,12,24,36,48,52,66,77,84,96,108],[0,12,24,36,48,52,66,77,84,96,108],[0,12,24,36,48,52,66,77,84,96,108],[0,12,24,36,48,52,66,77,84,96,108],[0,12,24,36,48,52,66,77,84,96,108],[0,12,24,36,48,52,66,77,84,96,108],[0,12,24,36,48,52,66,77,84,96,108],[0,12,24,36,48,52,66,77,84,96,108],[0,12,24,36,48,52,66,77,84,96,108],[0,12,24,36,48,52,66,77,84,96,108],[0,12,24,36,48,52,66,77,84,96,108],[0,12,24,36,48,52,66,77,84,96,108],[0,12,24,36,48,52,66,77,84,96,108],[0,12,24,36,48,52,66,77,84,96,108],[0,12,24,36,48,52,66,77,84,96,108],[0,12,24,36,48,52,66,77,84,96,108],[0,12,24,36,48,52,66,77,84,96,108],[0,12,24,36,48,52,66,77,84,96,108],[0,12,24,36,48,52,66,77,84,96,108],[0,12,24,36,48,52,66,77,84,96,108],[0,12,24,36,48,52,66,77,84,96,108],[0,12,24,36,48,52,66,77,84,96,108],[0,12,24,36,48,52,66,77,84,96,108],[0,12,24,36,48,52,66,77,84,96,108],[0,12,24,36,48,52,66,77,84,96,108],[0,12,24,36,48,52,66,77,84,96,108],[0,12,24,36,48,52,66,77,84,96,108],[0,12,24,36,48,52,66,77,84,96,108],[0,12,24,36,48,52,66,77,84,96,108],[0,12,24,36,48,52,66,77,84,96,108],[0,12,24,36,48,52,66,77,84,96,108],[0,12,24,36,48,52,66,77,84,96,108],[0,12,24,36,48,52,66,77,84,96,108],[0,12,24,36,48,52,66,77,84,96,108],[0,12,24,36,48,52,66,77,84,96,108],[0,12,24,36,48,52,66,77,84,96,108],[0,12,24,36,48,52,66,77,84,96,108],[0,12,24,36,48,52,66,77,84,96,108],[0,12,24,36,48,52,66,77,84,96,108],[0,12,24,36,48,52,66,77,84,96,108],[0,12,24,36,48,52,66,77,84,96,108],[0,12,24,36,48,52,66,77,84,96,108],[0,12,24,36,48,52,66,77,84,96,108],[0,12,24,36,48,52,66,77,84,96,108],[0,12,24,36,48,52,66,77,84,96,108],[0,12,24,36,48,52,66,77,84,96,108],[0,12,24,36,48,52,66,77,84,96,108],[0,12,24,36,48,52,66,77,84,96,108],[0,12,24,36,48,52,66,77,84,96,108],[0,12,24,36,48,52,66,77,84,96,108],[0,12,24,36,48,52,66,77,84,96,108],[0,12,24,36,48,52,66,77,84,96,108],[0,12,24,36,48,52,66,77,84,96,108],[0,12,24,36,48,52,66,77,84,96,108],[0,12,24,36,48,52,66,77,84,96,108],[0,12,24,36,48,52,66,77,84,96,108],[0,12,24,36,48,52,66,77,84,96,108],[0,12,24,36,48,52,66,77,84,96,108],[0,12,24,36,48,52,66,77,84,96,108],[0,12,24,36,48,52,66,77,84,96,108],[0,12,24,36,48,52,66,77,84,96,108],[0,12,24,36,48,52,66,77,84,96,108],[0,12,24,36,48,52,66,77,84,96,108],[0,12,24,36,48,52,66,77,84,96,108],[0,12,24,36,48,52,66,77,84,96,108],[0,12,24,36,48,52,66,77,84,96,108],[0,12,24,36,48,52,66,77,84,96,108],[0,12,24,36,48,52,66,77,84,96,108],[0,12,24,36,48,52,66,77,84,96,108],[0,12,24,36,48,52,66,77,84,96,108],[0,12,24,36,48,52,66,77,84,96,108],[0,12,24,36,48,52,66,77,84,96,108],[0,12,24,36,48,52,66,77,84,96,108],[0,12,24,36,48,52,66,77,84,96,108],[0,12,24,36,48,52,66,77,84,96,108],[0,12,24,36,48,52,66,77,84,96,108],[0,12,24,36,48,52,66,77,84,96,108],[0,12,24,36,48,52,66,77,84,96,108],[0,12,24,36,48,52,66,77,84,96,108],[0,12,24,36,48,52,66,77,84,96,108],[0,12,24,36,48,52,66,77,84,96,108],[0,12,24,36,48,52,66,77,84,96,108],[0,12,24,36,48,52,66,77,84,96,108],[0,12,24,36,48,52,66,77,84,96,108],[0,12,24,36,48,52,66,77,84,96,108],[0,12,24,36,48,52,66,77,84,96,108]],\"ys\":[[1,0.9930216329378925,0.9888346127006281,0.9881367759944173,0.8625261688764827,0.8604326587578502,0.847871598046057,0.8381018841591064,0.8332170272156314,0.8325191905094206,0.8325191905094206],[1,0.3816964285714277,0.3571428571428563,0.3415178571428571,0.053571428571428936,0.03794642857142738,0.015624999999999112,0.008928571428569954,0.006696428571426827,0.0044642857142860315,0.0044642857142860315],[1,0.4534883720930223,0.34883720930232287,0.2906976744186025,0.16860465116278878,0.16279069767441612,0.11046511627906819,0.11046511627906819,0.11046511627906819,0.09883720930232298,0.08720930232557733],[1,1.0,1.0,1.0,0.6907216494845356,0.6804123711340198,0.5927835051546384,0.5876288659793808,0.5876288659793808,0.5876288659793808,0.5876288659793808],[1,0.7251082251082261,0.4610389610389619,0.22510822510822615,0.09956709956710008,0.07575757575757625,0.058441558441559405,0.04978354978355004,0.04329004329004282,0.04329004329004282,0.041125541125540455],[1,1.0,0.9122807017543858,0.9122807017543858,0.9122807017543858,0.9122807017543858,0.9122807017543858,0.9122807017543858,0.9122807017543858,0.9122807017543858,0.9122807017543858],[1,0.8380281690140845,0.8309859154929577,0.8169014084507045,0.8098591549295777,0.7957746478873235,0.73943661971831,0.7323943661971832,0.7183098591549291,0.7183098591549291,0.7183098591549291],[1,0.9855072463768116,0.9855072463768116,0.9855072463768116,0.9855072463768116,0.9855072463768116,0.9855072463768116,0.9855072463768116,0.9855072463768116,0.9855072463768116,0.9710144927536232],[1,0.9271402550091074,0.9016393442622951,0.8469945355191255,0.7140255009107461,0.577413479052823,0.36976320582877853,0.2349726775956279,0.17122040072859668,0.05646630236794137,0.007285974499089853],[1,0.9894736842105263,0.9894736842105263,0.9894736842105263,0.9894736842105263,0.9894736842105263,0.12631578947368416,0.05263157894736903,0.042105263157895534,0.0210526315789471,0.010526315789474827],[1,0.9894459102902374,0.9894459102902374,0.9841688654353562,0.9683377308707125,0.9630606860158313,0.8759894459102905,0.6226912928759899,0.4089709762532978,0.2532981530343025,0.23746701846965712],[1,0.8684210526315786,0.8421052631578947,0.7894736842105261,0.7631578947368418,0.7631578947368418,0.7368421052631575,0.7105263157894733,0.7105263157894733,0.7105263157894733,0.7105263157894733],[1,0.9514563106796116,0.9077669902912618,0.8980582524271843,0.8689320388349515,0.8689320388349515,0.8349514563106795,0.7912621359223297,0.7864077669902909,0.7038834951456304,0.6990291262135915],[1,0.7567567567567566,0.7297297297297294,0.05405405405405361,0.05405405405405361,0.05405405405405361,0.05405405405405361,0.05405405405405361,0.02702702702702675,0.02702702702702675,0.02702702702702675],[1,1.0,1.0,0.9990384615384615,0.9990384615384615,0.9990384615384615,0.9980769230769231,0.9980769230769231,0.9980769230769231,0.9971153846153846,0.9961538461538462],[1,0.9092273068267065,0.8732183045761436,0.8364591147786946,0.8267066766691671,0.8244561140285066,0.8117029257314328,0.8012003000750184,0.798949737434358,0.7921980495123777,0.7846961740435104],[1,0.5490196078431356,0.5333333333333344,0.5137254901960775,0.5098039215686262,0.5019607843137277,0.4941176470588251,0.4901960784313737,0.4901960784313737,0.4901960784313737,0.482352941176471],[1,0.9789983844911148,0.9531502423263327,0.8739903069466883,0.7867528271405494,0.7415185783521818,0.5638126009693063,0.43134087237479835,0.3828756058158328,0.30533117932148646,0.2536348949919228],[1,0.9937694704049844,0.9906542056074766,0.9875389408099688,0.9813084112149533,0.9781931464174455,0.928348909657321,0.9003115264797508,0.8878504672897197,0.7694704049844237,0.6105919003115254],[1,0.9506756756756758,0.9364864864864867,0.9216216216216222,0.8418918918918922,0.819594594594595,0.7067567567567574,0.656081081081082,0.6405405405405415,0.586486486486488,0.5689189189189203],[1,0.9936842105263158,0.9873684210526316,0.9831578947368421,0.9810526315789474,0.9789473684210527,0.9789473684210527,0.976842105263158,0.976842105263158,0.976842105263158,0.976842105263158],[1,0.9940902021772939,0.991601866251944,0.9835147744945567,0.9769828926905132,0.9595645412130638,0.6429237947122871,0.5636080870917555,0.5573872472783834,0.5377916018662519,0.5181959564541203],[1,0.9758620689655173,0.9655172413793104,0.8655172413793104,0.5655172413793093,0.5379310344827586,0.4931034482758614,0.48275862068965725,0.47586206896551864,0.44482758620689866,0.43103448275862144],[1,0.9723502304147466,0.6682027649769579,0.6589861751152067,0.6313364055299535,0.6313364055299535,0.6175115207373264,0.6082949308755753,0.5990783410138243,0.5944700460829487,0.5898617511520732],[1,0.9191919191919192,0.8787878787878789,0.8181818181818178,0.7474747474747477,0.7474747474747477,0.7070707070707066,0.6969696969696967,0.6767676767676767,0.6666666666666667,0.6161616161616166],[1,0.746478873239436,0.6901408450704224,0.6338028169014089,0.549295774647887,0.549295774647887,0.5352112676056335,0.5352112676056335,0.5352112676056335,0.5352112676056335,0.4788732394366201],[1,1.0,1.0,1.0,1.0,1.0,1.0,1.0,0.9294117647058824,0.8352941176470592,0.8352941176470592],[1,0.9939393939393939,0.9909090909090909,0.9878787878787879,0.9757575757575757,0.9242424242424243,0.903030303030303,0.8787878787878787,0.8636363636363636,0.6242424242424233,0.5666666666666667],[1,0.9698349459305635,0.9664200341491179,0.9658508821855436,0.9652817302219693,0.9652817302219693,0.9641434262948207,0.9635742743312465,0.9635742743312465,0.9618668184405237,0.9590210586226523],[1,0.9937091402491673,0.9914888368076971,0.9879116812631059,0.9847045762920932,0.9839644751449365,0.978167016158875,0.9768101640557543,0.9765634636733687,0.9759467127174047,0.9754533119526335],[1,0.3536585365853653,0.3536585365853653,0.1951219512195118,0.10975609756097471,0.03658536585365835,0.03658536585365835,0.03658536585365835,0.024390243902439046,0.024390243902439046,0.024390243902439046],[1,1.0,1.0,1.0,1.0,1.0,1.0,1.0,1.0,0.0,0.0],[1,0.4000000000000006,0.4000000000000006,1.1102230246251565e-16,1.1102230246251565e-16,1.1102230246251565e-16,1.1102230246251565e-16,1.1102230246251565e-16,1.1102230246251565e-16,1.1102230246251565e-16,1.1102230246251565e-16],[1,0.7499999999999989,0.6874999999999987,0.6874999999999987,0.6874999999999987,0.6874999999999987,0.6874999999999987,0.49999999999999856,0.49999999999999856,0.43749999999999833,0.3124999999999978],[1,-2.220446049250313e-16,-2.220446049250313e-16,-2.220446049250313e-16,-2.220446049250313e-16,-2.220446049250313e-16,-2.220446049250313e-16,-2.220446049250313e-16,-2.220446049250313e-16,-2.220446049250313e-16,-2.220446049250313e-16],[1,0.8461538461538458,0.6923076923076915,0.6923076923076915,0.6153846153846144,0.6153846153846144,0.15384615384615263,0.15384615384615263,0.15384615384615263,0.15384615384615263,0.15384615384615263],[1,0.9790940766550523,0.9790940766550523,0.9790940766550523,0.9790940766550523,0.9721254355400697,0.19512195121951248,0.12891986062717897,0.11846689895470419,0.1080139372822293,0.1080139372822293],[1,0.6799999999999997,0.5199999999999999,0.4000000000000009,0.2799999999999977,0.239999999999998,0.1599999999999987,0.1599999999999987,0.119999999999999,0.0799999999999994,0.0799999999999994],[1,0.3333333333333338,0.22222222222222265,0.22222222222222265,0.22222222222222265,0.22222222222222265,0.22222222222222265,0.22222222222222265,0.22222222222222265,0.0,0.0],[1,0.8796498905908094,0.579868708971552,0.5536105032822762,0.5164113785557978,0.4726477024070017,0.3960612691466072,0.3763676148796493,0.36980306345732916,0.363238512035009,0.3610503282275713],[1,1.0,1.0,0.9848293299620733,0.9823008849557523,0.9823008849557523,0.9823008849557523,0.9823008849557523,0.9683944374209861,0.9469026548672566,0.943109987357775],[1,0.8707729468599035,0.25845410628019305,0.17330917874396679,0.14794685990338596,0.13707729468599228,0.09178743961352742,0.06280193236715303,0.05132850241546061,0.03804347826087129,0.028985507246380715],[1,0.9849646226415094,0.9826061320754716,0.9719929245283019,0.9669811320754716,0.9660966981132073,0.9643278301886792,0.26886792452830266,0.2556014150943373,0.2334905660377362,0.21904481132075337],[1,0.8925802879291251,0.8803986710963455,0.8604651162790692,0.8250276854928014,0.7641196013289032,0.7441860465116279,0.6954595791805094,0.6921373200442965,0.6899224806201545,0.6854928017718718],[1,1.0,1.0,0.9534883720930232,0.883720930232558,0.8372093023255816,0.7906976744186047,0.6976744186046517,0.41860465116279144,0.3720930232558153,0.2790697674418602],[1,0.9908764255585065,0.9890329635994376,0.983908764255585,0.9198250273394781,0.8768942352757381,0.8098422121543507,0.6883924386814555,0.6678643961880952,0.6368067489454777,0.6125292922980766],[1,0.9646017699115045,0.9646017699115045,0.9616519174041298,0.9616519174041298,0.9587020648967552,0.9587020648967552,0.9498525073746311,0.9469026548672566,0.9439528023598819,0.9380530973451326],[1,0.970703125,0.95703125,0.951171875,0.935546875,0.93359375,0.9238281249999998,0.9023437499999998,0.9003906249999998,0.9003906249999998,0.9003906249999998],[1,0.9885727889536959,0.985477919295322,0.9835733841209381,0.9829782168789429,0.9825020830853469,0.9809546482561601,0.980240447565766,0.9797643137721699,0.9796452803237711,0.979526246875372],[1,0.9329987452948556,0.9267252195734004,0.9124215809284818,0.9099121706398996,0.9066499372647427,0.9008782936010037,0.8933500627352572,0.8898368883312421,0.8717691342534502,0.8582183186951065],[1,0.9700187382885698,0.9668956901936291,0.9606495940037477,0.9575265459088071,0.956901936289819,0.9556527170518427,0.9544034978138665,0.952529668956902,0.947532792004997,0.9469081823860089],[1,1.0,1.0,1.0,1.0,1.0,1.0,1.0,1.0,1.0,1.0],[1,1.0,1.0,1.0,1.0,1.0,1.0,1.0,1.0,1.0,1.0],[1,1.0,1.0,1.0,1.0,1.0,1.0,1.0,1.0,1.0,0.9981785063752276],[1,1.0,1.0,1.0,1.0,1.0,1.0,1.0,1.0,1.0,1.0],[1,1.0,1.0,1.0,1.0,1.0,1.0,1.0,1.0,1.0,1.0],[1,1.0,1.0,1.0,1.0,1.0,1.0,1.0,1.0,1.0,1.0],[1,1.0,1.0,1.0,1.0,1.0,1.0,1.0,1.0,1.0,1.0],[1,1.0,1.0,1.0,1.0,1.0,1.0,1.0,1.0,1.0,1.0],[1,1.0,1.0,1.0,1.0,1.0,1.0,1.0,1.0,1.0,1.0],[1,1.0,1.0,1.0,1.0,1.0,1.0,1.0,1.0,1.0,1.0],[1,1.0,1.0,1.0,1.0,1.0,1.0,1.0,1.0,1.0,1.0],[1,1.0,1.0,1.0,1.0,1.0,1.0,1.0,1.0,1.0,1.0],[1,1.0,1.0,1.0,1.0,1.0,1.0,1.0,1.0,1.0,1.0],[1,1.0,1.0,1.0,1.0,1.0,1.0,1.0,1.0,1.0,1.0],[1,1.0,1.0,1.0,1.0,1.0,1.0,1.0,1.0,1.0,1.0],[1,1.0,1.0,1.0,1.0,1.0,1.0,1.0,1.0,1.0,1.0],[1,1.0,1.0,1.0,1.0,1.0,1.0,1.0,1.0,1.0,1.0],[1,1.0,1.0,1.0,1.0,1.0,1.0,1.0,1.0,1.0,1.0],[1,1.0,1.0,1.0,1.0,1.0,1.0,1.0,1.0,1.0,1.0],[1,1.0,1.0,1.0,1.0,1.0,1.0,1.0,1.0,1.0,1.0],[1,1.0,1.0,1.0,1.0,1.0,1.0,1.0,1.0,1.0,1.0],[1,1.0,1.0,1.0,1.0,1.0,1.0,1.0,1.0,1.0,1.0],[1,1.0,1.0,1.0,1.0,1.0,1.0,1.0,1.0,1.0,1.0],[1,1.0,1.0,1.0,1.0,1.0,1.0,1.0,1.0,1.0,1.0],[1,1.0,1.0,1.0,1.0,1.0,1.0,1.0,1.0,1.0,1.0],[1,1.0,1.0,1.0,1.0,1.0,1.0,1.0,1.0,1.0,1.0],[1,1.0,1.0,1.0,1.0,1.0,1.0,1.0,1.0,1.0,1.0],[1,1.0,1.0,1.0,1.0,1.0,1.0,1.0,1.0,1.0,1.0],[1,1.0,1.0,1.0,1.0,1.0,1.0,1.0,1.0,1.0,1.0],[1,1.0,1.0,1.0,1.0,1.0,1.0,1.0,1.0,1.0,1.0],[1,1.0,1.0,1.0,1.0,1.0,1.0,1.0,1.0,1.0,1.0],[1,1.0,1.0,1.0,1.0,1.0,1.0,1.0,1.0,1.0,1.0],[1,1.0,1.0,1.0,1.0,1.0,1.0,1.0,1.0,1.0,1.0],[1,1.0,1.0,1.0,1.0,1.0,1.0,1.0,1.0,1.0,1.0],[1,1.0,1.0,1.0,1.0,1.0,1.0,1.0,1.0,1.0,1.0],[1,1.0,1.0,1.0,1.0,1.0,1.0,1.0,1.0,1.0,1.0],[1,1.0,1.0,1.0,1.0,1.0,1.0,1.0,1.0,1.0,1.0],[1,1.0,1.0,1.0,1.0,1.0,1.0,1.0,1.0,1.0,1.0],[1,1.0,1.0,1.0,1.0,1.0,1.0,1.0,1.0,1.0,1.0],[1,1.0,1.0,1.0,1.0,1.0,1.0,1.0,1.0,1.0,1.0],[1,1.0,1.0,1.0,1.0,1.0,1.0,1.0,1.0,1.0,1.0],[1,1.0,1.0,1.0,1.0,1.0,1.0,1.0,1.0,1.0,1.0],[1,1.0,1.0,1.0,1.0,1.0,1.0,1.0,1.0,1.0,1.0],[1,1.0,1.0,1.0,1.0,1.0,1.0,1.0,1.0,1.0,1.0],[1,1.0,1.0,1.0,1.0,1.0,1.0,1.0,1.0,1.0,1.0],[1,1.0,1.0,1.0,1.0,1.0,1.0,1.0,1.0,1.0,1.0],[1,1.0,1.0,1.0,1.0,1.0,1.0,1.0,1.0,1.0,1.0],[1,1.0,1.0,1.0,1.0,1.0,1.0,1.0,1.0,1.0,1.0],[1,1.0,1.0,1.0,1.0,1.0,1.0,1.0,1.0,1.0,1.0],[1,1.0,1.0,1.0,1.0,1.0,1.0,1.0,1.0,1.0,1.0],[1,1.0,1.0,1.0,1.0,1.0,1.0,1.0,1.0,1.0,1.0],[1,1.0,1.0,1.0,1.0,1.0,1.0,1.0,1.0,1.0,1.0],[1,1.0,1.0,1.0,1.0,1.0,1.0,1.0,1.0,1.0,1.0],[1,1.0,1.0,1.0,1.0,1.0,1.0,1.0,1.0,1.0,1.0],[1,1.0,1.0,1.0,1.0,1.0,1.0,1.0,1.0,1.0,1.0],[1,1.0,1.0,1.0,1.0,1.0,1.0,1.0,1.0,1.0,1.0],[1,1.0,1.0,1.0,1.0,1.0,1.0,1.0,1.0,1.0,1.0],[1,1.0,1.0,1.0,1.0,1.0,1.0,1.0,1.0,1.0,1.0],[1,1.0,1.0,1.0,1.0,1.0,1.0,1.0,1.0,1.0,1.0],[1,1.0,1.0,1.0,1.0,1.0,1.0,1.0,1.0,1.0,1.0],[1,1.0,1.0,1.0,1.0,1.0,1.0,1.0,1.0,1.0,1.0],[1,1.0,1.0,1.0,1.0,1.0,1.0,1.0,1.0,1.0,1.0],[1,1.0,1.0,1.0,1.0,1.0,1.0,1.0,1.0,1.0,1.0],[1,1.0,1.0,1.0,1.0,1.0,1.0,1.0,1.0,1.0,1.0],[1,1.0,1.0,1.0,1.0,1.0,1.0,1.0,1.0,1.0,1.0],[1,1.0,1.0,1.0,1.0,1.0,1.0,1.0,1.0,1.0,1.0],[1,1.0,1.0,1.0,1.0,1.0,1.0,1.0,1.0,1.0,1.0],[1,1.0,1.0,1.0,1.0,1.0,1.0,1.0,1.0,1.0,1.0],[1,1.0,1.0,1.0,1.0,1.0,1.0,1.0,1.0,1.0,1.0],[1,1.0,1.0,1.0,1.0,1.0,1.0,1.0,1.0,1.0,1.0],[1,1.0,1.0,1.0,1.0,1.0,1.0,1.0,1.0,1.0,1.0],[1,1.0,1.0,1.0,1.0,1.0,1.0,1.0,1.0,1.0,1.0],[1,1.0,1.0,1.0,1.0,1.0,1.0,1.0,1.0,1.0,1.0],[1,1.0,1.0,1.0,1.0,1.0,1.0,1.0,1.0,1.0,1.0],[1,1.0,1.0,1.0,1.0,1.0,1.0,1.0,1.0,1.0,1.0],[1,1.0,1.0,1.0,1.0,1.0,1.0,1.0,1.0,1.0,1.0],[1,1.0,1.0,1.0,1.0,1.0,1.0,1.0,1.0,1.0,1.0],[1,1.0,1.0,1.0,1.0,1.0,1.0,1.0,1.0,1.0,1.0],[1,1.0,1.0,1.0,1.0,1.0,1.0,1.0,1.0,1.0,1.0],[1,1.0,1.0,1.0,1.0,1.0,1.0,1.0,1.0,1.0,1.0],[1,1.0,1.0,1.0,1.0,1.0,1.0,1.0,1.0,1.0,1.0],[1,1.0,1.0,1.0,1.0,1.0,1.0,1.0,1.0,1.0,1.0],[1,1.0,1.0,1.0,1.0,1.0,1.0,1.0,1.0,1.0,1.0],[1,1.0,1.0,1.0,1.0,1.0,1.0,1.0,1.0,1.0,1.0],[1,1.0,1.0,1.0,1.0,1.0,1.0,1.0,1.0,1.0,1.0],[1,1.0,1.0,1.0,1.0,1.0,1.0,1.0,1.0,1.0,1.0],[1,1.0,1.0,1.0,1.0,1.0,1.0,1.0,1.0,1.0,1.0],[1,1.0,1.0,1.0,1.0,1.0,1.0,1.0,1.0,1.0,1.0],[1,1.0,1.0,1.0,1.0,1.0,1.0,1.0,1.0,1.0,1.0],[1,1.0,1.0,1.0,1.0,1.0,1.0,1.0,1.0,1.0,1.0],[1,1.0,1.0,1.0,1.0,1.0,1.0,1.0,1.0,1.0,1.0],[1,1.0,1.0,1.0,1.0,1.0,1.0,1.0,1.0,1.0,1.0],[1,1.0,1.0,1.0,1.0,1.0,1.0,1.0,1.0,1.0,1.0],[1,1.0,1.0,1.0,1.0,1.0,1.0,1.0,1.0,1.0,1.0],[1,1.0,1.0,1.0,1.0,1.0,1.0,1.0,1.0,1.0,1.0],[1,1.0,1.0,1.0,1.0,1.0,1.0,1.0,1.0,1.0,1.0],[1,1.0,1.0,1.0,1.0,1.0,1.0,1.0,1.0,1.0,1.0],[1,1.0,1.0,1.0,1.0,1.0,1.0,1.0,1.0,1.0,1.0],[1,1.0,1.0,1.0,1.0,1.0,1.0,1.0,1.0,1.0,1.0],[1,1.0,1.0,1.0,1.0,1.0,1.0,1.0,1.0,1.0,1.0],[1,1.0,1.0,1.0,1.0,1.0,1.0,1.0,1.0,1.0,1.0],[1,1.0,1.0,1.0,1.0,1.0,1.0,1.0,1.0,1.0,1.0],[1,1.0,1.0,1.0,1.0,1.0,1.0,1.0,1.0,1.0,1.0],[1,1.0,1.0,1.0,1.0,1.0,1.0,1.0,1.0,1.0,1.0],[1,1.0,1.0,1.0,1.0,1.0,1.0,1.0,1.0,1.0,1.0],[1,1.0,1.0,1.0,1.0,1.0,1.0,1.0,1.0,1.0,1.0],[1,1.0,1.0,1.0,1.0,1.0,1.0,1.0,1.0,1.0,1.0],[1,1.0,1.0,1.0,1.0,1.0,1.0,1.0,1.0,1.0,1.0],[1,1.0,1.0,1.0,1.0,1.0,1.0,1.0,1.0,1.0,1.0],[1,1.0,1.0,1.0,1.0,1.0,1.0,1.0,1.0,1.0,1.0],[1,1.0,1.0,1.0,1.0,1.0,1.0,1.0,1.0,1.0,1.0],[1,1.0,1.0,1.0,1.0,1.0,1.0,1.0,1.0,1.0,1.0],[1,1.0,1.0,1.0,1.0,1.0,1.0,1.0,1.0,1.0,1.0],[1,1.0,1.0,1.0,1.0,1.0,1.0,1.0,1.0,1.0,1.0],[1,1.0,1.0,1.0,1.0,1.0,1.0,1.0,1.0,1.0,1.0],[1,1.0,1.0,1.0,1.0,1.0,1.0,1.0,1.0,1.0,1.0],[1,1.0,1.0,1.0,1.0,1.0,1.0,1.0,1.0,1.0,1.0],[1,1.0,1.0,1.0,1.0,1.0,1.0,1.0,1.0,1.0,1.0],[1,1.0,1.0,1.0,1.0,1.0,1.0,1.0,1.0,1.0,1.0],[1,1.0,1.0,1.0,1.0,1.0,1.0,1.0,1.0,1.0,1.0],[1,1.0,1.0,1.0,1.0,1.0,1.0,1.0,1.0,1.0,1.0],[1,1.0,1.0,1.0,1.0,1.0,1.0,1.0,1.0,1.0,1.0],[1,1.0,1.0,1.0,1.0,1.0,1.0,1.0,1.0,1.0,1.0],[1,1.0,1.0,1.0,1.0,1.0,1.0,1.0,1.0,1.0,1.0],[1,1.0,1.0,1.0,1.0,1.0,1.0,1.0,1.0,1.0,1.0],[1,1.0,1.0,1.0,1.0,1.0,1.0,1.0,1.0,1.0,1.0],[1,1.0,1.0,0.9428571428571427,0.8857142857142856,0.8571428571428569,0.7428571428571428,0.6857142857142855,0.628571428571429,0.542857142857144,0.45714285714285596],[1,1.0,1.0,1.0,1.0,1.0,1.0,1.0,1.0,1.0,1.0],[1,1.0,1.0,1.0,1.0,1.0,1.0,1.0,1.0,1.0,1.0],[1,1.0,1.0,1.0,1.0,1.0,1.0,1.0,1.0,1.0,1.0],[1,1.0,1.0,1.0,1.0,1.0,1.0,1.0,1.0,1.0,1.0],[1,1.0,1.0,1.0,1.0,1.0,1.0,1.0,1.0,1.0,1.0],[1,1.0,1.0,1.0,1.0,1.0,1.0,1.0,1.0,1.0,1.0],[1,1.0,1.0,1.0,1.0,1.0,1.0,1.0,1.0,1.0,1.0],[1,1.0,1.0,1.0,1.0,1.0,1.0,1.0,1.0,1.0,1.0]]}},\"id\":\"7376e5ec-c44b-438d-8fb0-1d3f4dd326a4\",\"type\":\"ColumnDataSource\"},{\"attributes\":{\"overlay\":{\"id\":\"a8c55d34-93d9-49b3-b8db-790b667d4ee4\",\"type\":\"BoxAnnotation\"},\"plot\":{\"id\":\"2503eeff-351a-4575-a015-eab490a36968\",\"subtype\":\"Figure\",\"type\":\"Plot\"}},\"id\":\"9fe54eb8-1a82-4e5c-95c9-eb19ad905fd7\",\"type\":\"BoxZoomTool\"},{\"attributes\":{\"bottom_units\":\"screen\",\"fill_alpha\":{\"value\":0.5},\"fill_color\":{\"value\":\"lightgrey\"},\"left_units\":\"screen\",\"level\":\"overlay\",\"line_alpha\":{\"value\":1.0},\"line_color\":{\"value\":\"black\"},\"line_dash\":[4,4],\"line_width\":{\"value\":2},\"plot\":null,\"render_mode\":\"css\",\"right_units\":\"screen\",\"top_units\":\"screen\"},\"id\":\"a8c55d34-93d9-49b3-b8db-790b667d4ee4\",\"type\":\"BoxAnnotation\"},{\"attributes\":{\"callback\":null},\"id\":\"5fef2573-cfa9-420d-9134-ad303da3b816\",\"type\":\"DataRange1d\"},{\"attributes\":{\"active_drag\":\"auto\",\"active_scroll\":\"auto\",\"active_tap\":\"auto\",\"tools\":[{\"id\":\"f898bf8d-4830-4d68-afa8-47abdbebf117\",\"type\":\"PanTool\"},{\"id\":\"e4dfe770-e54f-4387-89da-b5fe9ede0bd3\",\"type\":\"WheelZoomTool\"},{\"id\":\"9fe54eb8-1a82-4e5c-95c9-eb19ad905fd7\",\"type\":\"BoxZoomTool\"},{\"id\":\"3019ce39-5db7-43ff-a697-daba05d626bf\",\"type\":\"SaveTool\"},{\"id\":\"42588adc-8097-41d5-b6c9-8cdbd7b365ea\",\"type\":\"ResetTool\"},{\"id\":\"6b4aa467-ba77-48a2-ac94-17bab78b76f6\",\"type\":\"HelpTool\"},{\"id\":\"d3e02df8-c526-458c-a25b-9a980969536e\",\"type\":\"HoverTool\"}]},\"id\":\"8a9ad020-f78c-4e8b-969d-2dc2b3a77668\",\"type\":\"Toolbar\"},{\"attributes\":{\"plot\":{\"id\":\"2503eeff-351a-4575-a015-eab490a36968\",\"subtype\":\"Figure\",\"type\":\"Plot\"}},\"id\":\"f898bf8d-4830-4d68-afa8-47abdbebf117\",\"type\":\"PanTool\"},{\"attributes\":{\"callback\":null,\"end\":110,\"start\":-5},\"id\":\"fa6ccab9-3ac5-4f58-90a0-9c502fcc7c0a\",\"type\":\"Range1d\"},{\"attributes\":{\"formatter\":{\"id\":\"fa8e8a04-d202-49c0-9ca7-6a3dfa5e5169\",\"type\":\"BasicTickFormatter\"},\"plot\":{\"id\":\"2503eeff-351a-4575-a015-eab490a36968\",\"subtype\":\"Figure\",\"type\":\"Plot\"},\"ticker\":{\"id\":\"eeffeb0a-c370-47f5-a51e-aff5fb8baaa4\",\"type\":\"BasicTicker\"}},\"id\":\"600962d9-d3a1-48f7-a169-a30477e4e221\",\"type\":\"LinearAxis\"},{\"attributes\":{},\"id\":\"fa8e8a04-d202-49c0-9ca7-6a3dfa5e5169\",\"type\":\"BasicTickFormatter\"},{\"attributes\":{\"formatter\":{\"id\":\"9859d648-4b4b-4490-bb6f-73354c52d004\",\"type\":\"BasicTickFormatter\"},\"plot\":{\"id\":\"2503eeff-351a-4575-a015-eab490a36968\",\"subtype\":\"Figure\",\"type\":\"Plot\"},\"ticker\":{\"id\":\"29f783bb-ae39-448f-bd01-ffe623f5f856\",\"type\":\"BasicTicker\"}},\"id\":\"ec566bbb-1665-4f33-9e95-4e5515e8a823\",\"type\":\"LinearAxis\"},{\"attributes\":{},\"id\":\"eeffeb0a-c370-47f5-a51e-aff5fb8baaa4\",\"type\":\"BasicTicker\"},{\"attributes\":{\"plot\":null,\"text\":\"\"},\"id\":\"0b35eb47-fde6-44aa-81ac-89d2543d4b39\",\"type\":\"Title\"},{\"attributes\":{\"line_alpha\":{\"value\":0.1},\"line_color\":{\"value\":\"#1f77b4\"},\"xs\":{\"field\":\"xs\"},\"ys\":{\"field\":\"ys\"}},\"id\":\"d03e8962-4a84-4120-8ab6-66435c7d90a9\",\"type\":\"MultiLine\"},{\"attributes\":{\"plot\":{\"id\":\"2503eeff-351a-4575-a015-eab490a36968\",\"subtype\":\"Figure\",\"type\":\"Plot\"}},\"id\":\"6b4aa467-ba77-48a2-ac94-17bab78b76f6\",\"type\":\"HelpTool\"},{\"attributes\":{},\"id\":\"6d3804a4-f139-4bed-a3d9-594021d7e740\",\"type\":\"ToolEvents\"}],\"root_ids\":[\"2503eeff-351a-4575-a015-eab490a36968\"]},\"title\":\"Bokeh Application\",\"version\":\"0.12.4\"}};\n",
       "            var render_items = [{\"docid\":\"cf8c0aaa-1ccd-4011-a3d0-189122bdd036\",\"elementid\":\"1dad323c-6fa1-45d2-b30d-7a39d8561be2\",\"modelid\":\"2503eeff-351a-4575-a015-eab490a36968\",\"notebook_comms_target\":\"e27f0835-ec9f-47c4-87c1-bb1849fad97b\"}];\n",
       "            \n",
       "            Bokeh.embed.embed_items(docs_json, render_items);\n",
       "          };\n",
       "          if (document.readyState != \"loading\") fn();\n",
       "          else document.addEventListener(\"DOMContentLoaded\", fn);\n",
       "        })();\n",
       "      },\n",
       "      function(Bokeh) {\n",
       "      }\n",
       "    ];\n",
       "  \n",
       "    function run_inline_js() {\n",
       "      \n",
       "      if ((window.Bokeh !== undefined) || (force === true)) {\n",
       "        for (var i = 0; i < inline_js.length; i++) {\n",
       "          inline_js[i](window.Bokeh);\n",
       "        }if (force === true) {\n",
       "          display_loaded();\n",
       "        }} else if (Date.now() < window._bokeh_timeout) {\n",
       "        setTimeout(run_inline_js, 100);\n",
       "      } else if (!window._bokeh_failed_load) {\n",
       "        console.log(\"Bokeh: BokehJS failed to load within specified timeout.\");\n",
       "        window._bokeh_failed_load = true;\n",
       "      } else if (force !== true) {\n",
       "        var cell = $(document.getElementById(\"1dad323c-6fa1-45d2-b30d-7a39d8561be2\")).parents('.cell').data().cell;\n",
       "        cell.output_area.append_execute_result(NB_LOAD_WARNING)\n",
       "      }\n",
       "  \n",
       "    }\n",
       "  \n",
       "    if (window._bokeh_is_loading === 0) {\n",
       "      console.log(\"Bokeh: BokehJS loaded, going straight to plotting\");\n",
       "      run_inline_js();\n",
       "    } else {\n",
       "      load_libs(js_urls, function() {\n",
       "        console.log(\"Bokeh: BokehJS plotting callback run at\", now());\n",
       "        run_inline_js();\n",
       "      });\n",
       "    }\n",
       "  }(this));\n",
       "</script>"
      ]
     },
     "metadata": {},
     "output_type": "display_data"
    },
    {
     "data": {
      "text/html": [
       "<p><code>&lt;Bokeh Notebook handle for <strong>In[28]</strong>&gt;</code></p>"
      ],
      "text/plain": [
       "<bokeh.io._CommsHandle at 0x7f2e78835ac8>"
      ]
     },
     "execution_count": 28,
     "metadata": {},
     "output_type": "execute_result"
    }
   ],
   "source": [
    "output_notebook()\n",
    "\n",
    "# hover = HoverTool(tooltips=[(\"PCA\", \"@uid\")])\n",
    "# source = ColumnDataSource(data=dict(\n",
    "#             xs=[tslrdata.index.values]*numlines,\n",
    "#             ys=[tslrdata[name].values for name in tslrdata],\n",
    "#             pcas=list(tslrdata)\n",
    "#         )) \n",
    "\n",
    "\n",
    "\n",
    "source = ColumnDataSource(data=dict(\n",
    "            xs=[numeric_index]*len(pcaslr.index.values),\n",
    "            ys=[pcaslr.loc[i, scenario_labels] for i in pcaslr.index.values],\n",
    "            name=list(pcaslr['name']),\n",
    "            pud=list(pcaslr['pud']),\n",
    "            desig=list(pcaslr['Designation'])\n",
    "        )) \n",
    "\n",
    "p = figure(width=900, height=400, x_range=(-5,110)) \n",
    "p.multi_line(xs='xs',\n",
    "                ys='ys',\n",
    "                source=source,\n",
    "                line_color='red',\n",
    "                line_alpha=0.4,\n",
    "                line_width=1)\n",
    "\n",
    "# p = figure(width=900, height=400) \n",
    "# p.multi_line(xs=[tslrdata.index.values]*numlines,\n",
    "#                 ys=[tslrdata[name].values for name in tslrdata],\n",
    "#                 line_color='red',\n",
    "#                 line_alpha=0.4,\n",
    "#                 line_width=1)\n",
    "\n",
    "p.add_tools(HoverTool(show_arrow=False, line_policy='next', tooltips=[\n",
    "    ('PCA', '@name'),\n",
    "    ('PUD', '@pud'),\n",
    "    ('Type', '@desig')\n",
    "]))\n",
    "\n",
    "# p = TimeSeries(tslrdata, x='uid', legend=True,\n",
    "#                title=\"\", ylabel='')\n",
    "\n",
    "show(p, notebook_handle=True)"
   ]
  },
  {
   "cell_type": "markdown",
   "metadata": {},
   "source": [
    "## Explore PCA SLR inundation -- NOAA 6FT"
   ]
  },
  {
   "cell_type": "markdown",
   "metadata": {},
   "source": [
    "What percentage of each PCA (and the network as a whole) is vulnerable to SLR inundation?  \n",
    "And how does recreation importance of PCAs vary with SLR vulnerability?"
   ]
  },
  {
   "cell_type": "code",
   "execution_count": null,
   "metadata": {},
   "outputs": [],
   "source": [
    "# SLR shapefiles, downloaded as .gdb from https://coast.noaa.gov/slrdata/\n",
    "# explored in QGIS and exported shps for appropriate layers\n",
    "slr = gpd.read_file('../slr/CA_MTR23_slr_6ft.shp')\n",
    "slr.crs"
   ]
  },
  {
   "cell_type": "code",
   "execution_count": null,
   "metadata": {},
   "outputs": [],
   "source": [
    "base = pca_shp.plot(color='green', edgecolor=None, figsize=(8,8))\n",
    "slr.plot(ax=base, color='blue', alpha=0.5)"
   ]
  },
  {
   "cell_type": "markdown",
   "metadata": {},
   "source": [
    "#### load table with area-inundated calculations - produced by pca_slr_intersect.py"
   ]
  },
  {
   "cell_type": "code",
   "execution_count": null,
   "metadata": {},
   "outputs": [],
   "source": [
    "inundation = pd.read_csv('pca_area_inundated_slr6ft.csv')"
   ]
  },
  {
   "cell_type": "code",
   "execution_count": null,
   "metadata": {},
   "outputs": [],
   "source": [
    "inundation.head()"
   ]
  },
  {
   "cell_type": "code",
   "execution_count": null,
   "metadata": {},
   "outputs": [],
   "source": [
    "inundation.shape[0] == data.shape[0]"
   ]
  },
  {
   "cell_type": "code",
   "execution_count": null,
   "metadata": {},
   "outputs": [],
   "source": [
    "data['flood_area'] = inundation['area_m2']\n",
    "data['pr_flooded'] = data['flood_area'] / data['area_m2']"
   ]
  },
  {
   "cell_type": "markdown",
   "metadata": {},
   "source": [
    "### PCAs most inundated -- sorted by proportion of their area that would flood with 6ft of SLR"
   ]
  },
  {
   "cell_type": "code",
   "execution_count": null,
   "metadata": {},
   "outputs": [],
   "source": [
    "data[['name', 'pud', 'tud', 'area_m2', 'flood_area', 'pr_flooded']].sort_values(by='pr_flooded', ascending=False).head(15)"
   ]
  },
  {
   "cell_type": "markdown",
   "metadata": {},
   "source": [
    "### SLR vulnerability related to Visitation Rates"
   ]
  },
  {
   "cell_type": "code",
   "execution_count": null,
   "metadata": {},
   "outputs": [],
   "source": [
    "fig, axs = plt.subplots(1,2, figsize=(14,5))\n",
    "data.plot.scatter(x='pr_flooded', y='logpud', ax=axs[0])\n",
    "data.plot.scatter(x='pr_flooded', y='logtud', ax=axs[1])"
   ]
  },
  {
   "cell_type": "code",
   "execution_count": null,
   "metadata": {},
   "outputs": [],
   "source": [
    "output_notebook()\n",
    "\n",
    "source = ColumnDataSource(data)\n",
    "hover1 = HoverTool(tooltips=[(\"name\", \"@name\")])\n",
    "hover2 = HoverTool(tooltips=[(\"name\", \"@name\")])\n",
    "\n",
    "p = figure(plot_width=400, plot_height=400, tools=[hover1],\n",
    "           title=\"SLR vulnerability related to Visitation Rates\")\n",
    "\n",
    "p.circle('pr_flooded', 'pud_per_m2', size=5, color='blue', alpha=0.5, source=source)\n",
    "p.xaxis.axis_label = 'pr_flooded'\n",
    "p.yaxis.axis_label = 'pud_per_m2'\n",
    "\n",
    "p2 = figure(plot_width=400, plot_height=400, tools=[hover2],\n",
    "           title=\"SLR vulnerability related to Visitation Rates\")\n",
    "\n",
    "p2.circle('pr_flooded', 'tud_per_m2', size=5, color='red', alpha=0.5, source=source)\n",
    "p2.xaxis.axis_label = 'pr_flooded'\n",
    "p2.yaxis.axis_label = 'tud_per_m2'\n",
    "\n",
    "show(row(p, p2), notebook_handle=True)"
   ]
  },
  {
   "cell_type": "markdown",
   "metadata": {},
   "source": [
    "### PCAs with greater than 30% area flooded and relatively dense visitation"
   ]
  },
  {
   "cell_type": "code",
   "execution_count": null,
   "metadata": {},
   "outputs": [],
   "source": [
    "(data[['name', 'pud_per_m2', 'area_m2', 'pr_flooded']]\n",
    ".loc[(data['pr_flooded'] > 0.3) & (data['pudden_tile'] >= 8)]\n",
    ".sort_values(by='pud_per_m2', ascending=False)\n",
    ")"
   ]
  },
  {
   "cell_type": "code",
   "execution_count": null,
   "metadata": {},
   "outputs": [],
   "source": [
    "(data[['name', 'tud_per_m2', 'area_m2', 'pr_flooded']]\n",
    ".loc[(data['pr_flooded'] > 0.3) & (data['tudden_tile'] >= 8)]\n",
    ".sort_values(by='tud_per_m2', ascending=False)\n",
    ")"
   ]
  },
  {
   "cell_type": "markdown",
   "metadata": {},
   "source": [
    "### Export Table"
   ]
  },
  {
   "cell_type": "code",
   "execution_count": null,
   "metadata": {},
   "outputs": [],
   "source": [
    "data.to_csv('../pca/pca_vis_slr_designation.csv', index=False)"
   ]
  },
  {
   "cell_type": "code",
   "execution_count": null,
   "metadata": {},
   "outputs": [],
   "source": [
    "data.head()"
   ]
  },
  {
   "cell_type": "markdown",
   "metadata": {},
   "source": [
    "#### joining data to shp to make some maps in qgis"
   ]
  },
  {
   "cell_type": "code",
   "execution_count": null,
   "metadata": {},
   "outputs": [],
   "source": [
    "data = pd.read_csv('../pca/pca_vis_slr_designation.csv')\n",
    "shp = gpd.read_file('../twitter/shp/Priority_Conservation_Areas_current_dissolve_pid.shp')"
   ]
  },
  {
   "cell_type": "code",
   "execution_count": null,
   "metadata": {},
   "outputs": [],
   "source": [
    "shp = shp.merge(data, on='pid')"
   ]
  },
  {
   "cell_type": "code",
   "execution_count": null,
   "metadata": {},
   "outputs": [],
   "source": [
    "shp.to_file('../pca/pca_current_visdata.shp')"
   ]
  },
  {
   "cell_type": "markdown",
   "metadata": {},
   "source": [
    "### How much of entire PCA network will be flooded?\n",
    "- there's some overlap in PCAs, for now we're ignoring it.\n",
    "- What portion of the PUDs in the network are in places that will be flooded? begs for a finer resolution PUD grid."
   ]
  },
  {
   "cell_type": "markdown",
   "metadata": {},
   "source": [
    "#### Percent of PCA area inundated with a 6ft SLR scenario"
   ]
  },
  {
   "cell_type": "code",
   "execution_count": null,
   "metadata": {},
   "outputs": [],
   "source": [
    "sum(data['flood_area'])/sum(data['area_m2'])*100"
   ]
  },
  {
   "cell_type": "code",
   "execution_count": null,
   "metadata": {},
   "outputs": [],
   "source": []
  }
 ],
 "metadata": {
  "kernelspec": {
   "display_name": "Python [conda env:geowork]",
   "language": "python",
   "name": "conda-env-geowork-py"
  },
  "language_info": {
   "codemirror_mode": {
    "name": "ipython",
    "version": 3
   },
   "file_extension": ".py",
   "mimetype": "text/x-python",
   "name": "python",
   "nbconvert_exporter": "python",
   "pygments_lexer": "ipython3",
   "version": "3.6.2"
  }
 },
 "nbformat": 4,
 "nbformat_minor": 2
}
