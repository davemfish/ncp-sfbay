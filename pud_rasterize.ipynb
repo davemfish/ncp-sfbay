{
 "cells": [
  {
   "cell_type": "code",
   "execution_count": 1,
   "metadata": {},
   "outputs": [],
   "source": [
    "import numpy as np\n",
    "import os\n",
    "from osgeo import gdal\n",
    "gdal.UseExceptions()"
   ]
  },
  {
   "cell_type": "code",
   "execution_count": null,
   "metadata": {},
   "outputs": [],
   "source": [
    "# a = np.loadtxt('nlcd_nodevt_SF_bay_AOI_2005-2014_lrtb.csv', dtype='int')"
   ]
  },
  {
   "cell_type": "code",
   "execution_count": 2,
   "metadata": {},
   "outputs": [],
   "source": [
    "fileroot = \"../data/flickr/nlcd_grid_pud/\"\n",
    "filelist = ['nlcd_nodevt_utm_SF_bay_AOI_2005-2014_lrbt.csv', \\\n",
    "            'nlcd_nodevt_utm_SF_bay_AOI_2015_lrbt.csv', \\\n",
    "            'nlcd_nodevt_utm_SF_bay_AOI_2016_lrbt.csv', \\\n",
    "            'nlcd_nodevt_utm_SF_bay_AOI_2017_lrbt.csv']"
   ]
  },
  {
   "cell_type": "code",
   "execution_count": null,
   "metadata": {},
   "outputs": [],
   "source": [
    "# fileroot = \"../data/flickr/nlcd_grid_pud/scratch\"\n",
    "# filelist = ['a.csv', \\\n",
    "#             'b.csv', \\\n",
    "#             'c.csv', \\\n",
    "#             'd.csv']\n",
    "# totals = np.zeros(shape=(10,), dtype='int')"
   ]
  },
  {
   "cell_type": "code",
   "execution_count": 3,
   "metadata": {},
   "outputs": [
    {
     "name": "stdout",
     "output_type": "stream",
     "text": [
      "116888070 ../data/flickr/nlcd_grid_pud/nlcd_nodevt_utm_SF_bay_AOI_2005-2014_lrtb.csv\r\n"
     ]
    }
   ],
   "source": [
    "! wc -l ../data/flickr/nlcd_grid_pud/nlcd_nodevt_utm_SF_bay_AOI_2005-2014_lrtb.csv"
   ]
  },
  {
   "cell_type": "code",
   "execution_count": 4,
   "metadata": {},
   "outputs": [],
   "source": [
    "totals = np.zeros(shape=(116888070,), dtype='int')  # from line count of one input file"
   ]
  },
  {
   "cell_type": "code",
   "execution_count": null,
   "metadata": {},
   "outputs": [],
   "source": [
    "f1 = open(os.path.join(fileroot, filelist[0]),'rt')\n",
    "f2 = open(os.path.join(fileroot, filelist[1]),'rt')\n",
    "f3 = open(os.path.join(fileroot, filelist[2]),'rt')\n",
    "f4 = open(os.path.join(fileroot, filelist[3]),'rt')\n",
    "\n",
    "i = 0\n",
    "for a, b, c, d in zip(f1, f2, f3, f4):\n",
    "    x = np.array([a.rstrip('\\n'), b.rstrip('\\n'), c.rstrip('\\n'), d.rstrip('\\n')])\n",
    "    x = x.astype(np.int)\n",
    "    totals[i] = np.sum(x)\n",
    "    i += 1\n",
    "    if (i % 1000000==0):\n",
    "        print(i)\n",
    "\n",
    "np.savetxt(os.path.join(fileroot, 'nlcd_sfbay_2005_2017_totalpud.txt'), totals, fmt=\"%i\")"
   ]
  },
  {
   "cell_type": "code",
   "execution_count": null,
   "metadata": {},
   "outputs": [],
   "source": []
  },
  {
   "cell_type": "code",
   "execution_count": 5,
   "metadata": {},
   "outputs": [],
   "source": [
    "# totals = np.loadtxt(os.path.join(fileroot, 'nlcd_sfbay_2005_2017_totalpud.txt'), dtype='int')"
   ]
  },
  {
   "cell_type": "code",
   "execution_count": 6,
   "metadata": {},
   "outputs": [],
   "source": [
    "ds = gdal.Open('/home/dmf/Recdev/data/SF_Bay/data/bcdc_othernaturalareas/NaturalAreas_ForDave/nlcd_nodevt_utm.tif')"
   ]
  },
  {
   "cell_type": "code",
   "execution_count": 7,
   "metadata": {},
   "outputs": [
    {
     "data": {
      "text/plain": [
       "True"
      ]
     },
     "execution_count": 7,
     "metadata": {},
     "output_type": "execute_result"
    }
   ],
   "source": [
    "ds.RasterXSize*ds.RasterYSize == len(totals)"
   ]
  },
  {
   "cell_type": "code",
   "execution_count": 8,
   "metadata": {},
   "outputs": [],
   "source": [
    "# how to call reshape in order to \n",
    "# fill each row from left to right, starting with bottom row and moving up\n",
    "# test = np.array([1, 2, 3, 4, 5, 6, 7, 8, 9, 10, 11, 12])\n",
    "# np.flip(np.reshape(test, (4, 3)), 0) # default order of reshape works, then flip along 0 axis\n",
    "totalmatrix = np.flip(np.reshape(totals, (ds.RasterYSize, ds.RasterXSize)), 0)"
   ]
  },
  {
   "cell_type": "code",
   "execution_count": 9,
   "metadata": {},
   "outputs": [],
   "source": [
    "driver = gdal.GetDriverByName('GTiff')"
   ]
  },
  {
   "cell_type": "code",
   "execution_count": 10,
   "metadata": {},
   "outputs": [],
   "source": [
    "new_ds = driver.Create(os.path.join(fileroot, 'pud_nlcdgrid.tif'),\n",
    "    ds.RasterXSize, # x size\n",
    "    ds.RasterYSize, # y size\n",
    "    1, # number of bands\n",
    "    gdal.GDT_Int16)"
   ]
  },
  {
   "cell_type": "code",
   "execution_count": 11,
   "metadata": {},
   "outputs": [],
   "source": [
    "new_band = new_ds.GetRasterBand(1)\n",
    "new_band.WriteArray(totalmatrix)\n",
    "# flush data to disk, set the NoData value and calculate stats\n",
    "new_band.FlushCache()\n",
    "# new_band.SetNoDataValue(nodata)\n",
    "\n",
    "# georeference the image and set the projection\n",
    "new_ds.SetGeoTransform(ds.GetGeoTransform())\n",
    "new_ds.SetProjection(ds.GetProjection())\n",
    "del new_ds"
   ]
  },
  {
   "cell_type": "code",
   "execution_count": null,
   "metadata": {},
   "outputs": [],
   "source": []
  }
 ],
 "metadata": {
  "kernelspec": {
   "display_name": "Python [conda env:geowork]",
   "language": "python",
   "name": "conda-env-geowork-py"
  },
  "language_info": {
   "codemirror_mode": {
    "name": "ipython",
    "version": 3
   },
   "file_extension": ".py",
   "mimetype": "text/x-python",
   "name": "python",
   "nbconvert_exporter": "python",
   "pygments_lexer": "ipython3",
   "version": "3.6.2"
  }
 },
 "nbformat": 4,
 "nbformat_minor": 2
}
